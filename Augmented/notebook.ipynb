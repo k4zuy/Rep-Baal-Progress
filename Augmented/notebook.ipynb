{
 "cells": [
  {
   "cell_type": "code",
   "execution_count": 35,
   "metadata": {},
   "outputs": [],
   "source": [
    "import warnings\n",
    "from copy import deepcopy\n",
    "from itertools import zip_longest\n",
    "from typing import Union, Optional, Callable, Any, Dict, List\n",
    "\n",
    "import numpy as np\n",
    "import torch.utils.data as torchdata\n",
    "\n",
    "from torch.utils.data import Dataset\n",
    "\n",
    "from baal.active.dataset.base import SplittedDataset\n",
    "\n",
    "def _identity(x):\n",
    "    return x\n",
    "\n",
    "class ActiveLearningDataset(SplittedDataset):\n",
    "    \"\"\"A dataset that allows for active learning.\n",
    "\n",
    "    Args:\n",
    "        dataset: The baseline dataset.\n",
    "        labelled: An array that acts as a mask which is greater than 1 for every\n",
    "            data point that is labelled, and 0 for every data point that is not\n",
    "            labelled.\n",
    "        make_unlabelled: The function that returns an\n",
    "            unlabelled version of a datum so that it can still be used in the DataLoader.\n",
    "        random_state: Set the random seed for label_randomly().\n",
    "        pool_specifics: Attributes to set when creating the pool.\n",
    "                                         Useful to remove data augmentation.\n",
    "        last_active_steps: If specified, will iterate over the last active steps\n",
    "                            instead of the full dataset. Useful when doing partial finetuning.\n",
    "    \"\"\"\n",
    "\n",
    "    def __init__(\n",
    "        self,\n",
    "        dataset: Dataset,\n",
    "        labelled: Optional[np.ndarray] = None,\n",
    "        make_unlabelled: Callable = _identity,\n",
    "        random_state=None,\n",
    "        pool_specifics: Optional[dict] = None,\n",
    "        last_active_steps: int = -1,\n",
    "    ) -> None:\n",
    "        self._dataset = dataset\n",
    "\n",
    "        # The labelled_map keeps track of the step at which an item as been labelled.\n",
    "        if labelled is not None:\n",
    "            labelled_map: np.ndarray = labelled.astype(int)\n",
    "        else:\n",
    "            labelled_map = np.zeros(len(self._dataset), dtype=int)\n",
    "\n",
    "        if pool_specifics is None:\n",
    "            pool_specifics = {}\n",
    "        self.pool_specifics: Dict[str, Any] = pool_specifics\n",
    "\n",
    "        self.make_unlabelled = make_unlabelled\n",
    "        # For example, FileDataset has a method 'label'. This is useful when we're in prod.\n",
    "        self.can_label = self.check_dataset_can_label()\n",
    "        super().__init__(\n",
    "            labelled=labelled_map, random_state=random_state, last_active_steps=last_active_steps\n",
    "        )\n",
    "\n",
    "    def check_dataset_can_label(self):\n",
    "        \"\"\"Check if a dataset can be labelled.\n",
    "\n",
    "        Returns:\n",
    "            Whether the dataset's label can be modified or not.\n",
    "\n",
    "        Notes:\n",
    "            To be labelled, a dataset needs a method `label`\n",
    "            with definition: `label(self, idx, value)` where `value`\n",
    "            is the label for indice `idx`.\n",
    "        \"\"\"\n",
    "        has_label_attr = getattr(self._dataset, \"label\", None)\n",
    "        if has_label_attr:\n",
    "            if callable(has_label_attr):\n",
    "                return True\n",
    "            else:\n",
    "                warnings.warn(\n",
    "                    \"Dataset has an attribute `label`, but it is not callable.\"\n",
    "                    \"The Dataset will not be labelled with new labels.\",\n",
    "                    UserWarning,\n",
    "                )\n",
    "        return False\n",
    "\n",
    "    def __getitem__(self, index: int) -> Any:\n",
    "        \"\"\"Return items from the original dataset based on the labelled index.\"\"\"\n",
    "        index = self.get_indices_for_active_step()[index]\n",
    "        return self._dataset[index]\n",
    "\n",
    "    class ActiveIter:\n",
    "        \"\"\"Iterator over an ActiveLearningDataset.\"\"\"\n",
    "\n",
    "        def __init__(self, aldataset):\n",
    "            self.i = 0\n",
    "            self.aldataset = aldataset\n",
    "\n",
    "        def __len__(self):\n",
    "            return len(self.aldataset)\n",
    "\n",
    "        def __next__(self):\n",
    "            if self.i >= len(self):\n",
    "                raise StopIteration\n",
    "\n",
    "            n = self.aldataset[self.i]\n",
    "            self.i = self.i + 1\n",
    "            return n\n",
    "\n",
    "    def __iter__(self):\n",
    "        return self.ActiveIter(self)\n",
    "\n",
    "    @property\n",
    "    def pool(self) -> \"ActiveLearningPool\":\n",
    "        \"\"\"Returns a new Dataset made from unlabelled samples.\n",
    "\n",
    "        Raises:\n",
    "            ValueError if a pool specific attribute cannot be set.\n",
    "        \"\"\"\n",
    "        current_dataset = deepcopy(self._dataset)\n",
    "\n",
    "        for attr, new_val in self.pool_specifics.items():\n",
    "            if hasattr(current_dataset, attr):\n",
    "                setattr(current_dataset, attr, new_val)\n",
    "            else:\n",
    "                raise ValueError(f\"{current_dataset} doesn't have {attr}\")\n",
    "\n",
    "        pool_dataset: torchdata.Subset = torchdata.Subset(\n",
    "            current_dataset, (~self.labelled).nonzero()[0].reshape([-1]).tolist()\n",
    "        )\n",
    "        ald = ActiveLearningPool(pool_dataset, make_unlabelled=self.make_unlabelled)\n",
    "        return ald\n",
    "\n",
    "    def label(self, index: Union[list, int], value: Optional[Any] = None) -> None:\n",
    "        \"\"\"\n",
    "        Label data points.\n",
    "        The index should be relative to the pool, not the overall data.\n",
    "\n",
    "        Args:\n",
    "            index: one or many indices to label.\n",
    "            value: The label value. If not provided, no modification\n",
    "                                    to the underlying dataset is done.\n",
    "\n",
    "        Raises:\n",
    "            ValueError if the indices do not match the values or\n",
    "             if no `value` is provided and `can_label` is True.\n",
    "        \"\"\"\n",
    "        if isinstance(index, int):\n",
    "            # We were provided only the index, we make a list.\n",
    "            index_lst = [index]\n",
    "            value_lst: List[Any] = [value]\n",
    "        else:\n",
    "            index_lst = index\n",
    "            if value is None:\n",
    "                value_lst = [value]\n",
    "            else:\n",
    "                value_lst = value\n",
    "\n",
    "        if value_lst[0] is not None and len(index_lst) != len(value_lst):\n",
    "            raise ValueError(\n",
    "                \"Expected `index` and `value` to be of same length when `value` is provided.\"\n",
    "                f\"Got index={len(index_lst)} and value={len(value_lst)}\"\n",
    "            )\n",
    "        indexes = self._pool_to_oracle_index(index_lst)\n",
    "        active_step = self.current_al_step + 1\n",
    "        for idx, val in zip_longest(indexes, value_lst, fillvalue=None):\n",
    "            if self.can_label and val is not None:\n",
    "                self._dataset.label(idx, val)  # type: ignore\n",
    "                self.labelled_map[idx] = active_step\n",
    "            elif self.can_label and val is None:\n",
    "                raise ValueError(\n",
    "                    \"\"\"The dataset is able to label data, but no label was provided.\n",
    "                                 If this is a research setting, please set the\n",
    "                                  `ActiveLearningDataset.can_label` to `False`.\n",
    "                                  \"\"\"\n",
    "                )\n",
    "            else:\n",
    "                # Regular research usecase.\n",
    "                self.labelled_map[idx] = active_step\n",
    "                if val is not None:\n",
    "                    warnings.warn(\n",
    "                        \"We will consider the original label of this datasample : {}, {}.\".format(\n",
    "                            self._dataset[idx][0], self._dataset[idx][1]\n",
    "                        ),\n",
    "                        UserWarning,\n",
    "                    )\n",
    "\n",
    "    def reset_labelled(self):\n",
    "        \"\"\"Reset the label map.\"\"\"\n",
    "        self.labelled_map = np.zeros(len(self._dataset), dtype=np.bool)\n",
    "\n",
    "    def get_raw(self, idx: int) -> Any:\n",
    "        \"\"\"Get a datapoint from the underlying dataset.\"\"\"\n",
    "        return self._dataset[idx]\n",
    "\n",
    "    def state_dict(self) -> Dict:\n",
    "        \"\"\"Return the state_dict, ie. the labelled map and random_state.\"\"\"\n",
    "        return {\"labelled\": self.labelled_map, \"random_state\": self.random_state}\n",
    "\n",
    "    def load_state_dict(self, state_dict):\n",
    "        \"\"\"Load the labelled map and random_state with give state_dict.\"\"\"\n",
    "        self.labelled_map = state_dict[\"labelled\"]\n",
    "        self.random_state = state_dict[\"random_state\"]\n"
   ]
  },
  {
   "cell_type": "code",
   "execution_count": 1,
   "metadata": {},
   "outputs": [],
   "source": [
    "from baal.active import ActiveLearningDataset\n",
    "from aug_lib import TrivialAugment\n",
    "from baal_extended.ExtendedActiveLearningDataset import ExtendedActiveLearningDataset"
   ]
  },
  {
   "cell_type": "code",
   "execution_count": 2,
   "metadata": {},
   "outputs": [
    {
     "name": "stdout",
     "output_type": "stream",
     "text": [
      "Files already downloaded and verified\n",
      "Files already downloaded and verified\n"
     ]
    }
   ],
   "source": [
    "from torchvision import datasets\n",
    "from torchvision.transforms import transforms\n",
    "import aug_lib\n",
    "aug_transform = transforms.Compose(\n",
    "        [\n",
    "            transforms.Resize((224, 224)),\n",
    "            aug_lib.TrivialAugment(),\n",
    "            transforms.ToTensor(),\n",
    "            transforms.Normalize(3 * [0.5], 3 * [0.5]),\n",
    "        ]\n",
    "    )\n",
    "\n",
    "transform = transforms.Compose(\n",
    "        [\n",
    "            transforms.Resize((224, 224)),\n",
    "            transforms.ToTensor(),\n",
    "            transforms.Normalize(3 * [0.5], 3 * [0.5]),\n",
    "        ]\n",
    "    )\n",
    "train_ds = datasets.CIFAR10(\n",
    "        \".\", train=True, transform=transform,target_transform=None, download=True\n",
    "    )\n",
    "\n",
    "aug_train_ds = datasets.CIFAR10(\n",
    "        \".\", train=True, transform=aug_transform,target_transform=None, download=True\n",
    "    )\n",
    "#ald_set = ActiveLearningDataset(\n",
    "#        train_ds, pool_specifics={\"transform\": transform}\n",
    "#    )\n",
    "eald_set = ExtendedActiveLearningDataset(train_ds)"
   ]
  },
  {
   "cell_type": "code",
   "execution_count": 279,
   "metadata": {},
   "outputs": [
    {
     "data": {
      "text/plain": [
       "50002"
      ]
     },
     "execution_count": 279,
     "metadata": {},
     "output_type": "execute_result"
    }
   ],
   "source": [
    "eald_set.n_unaugmented"
   ]
  },
  {
   "cell_type": "code",
   "execution_count": 271,
   "metadata": {},
   "outputs": [
    {
     "data": {
      "text/plain": [
       "150000"
      ]
     },
     "execution_count": 271,
     "metadata": {},
     "output_type": "execute_result"
    }
   ],
   "source": [
    "len(train_ds)+len(aug_train_ds)+(len(aug_train_ds))"
   ]
  },
  {
   "cell_type": "code",
   "execution_count": 273,
   "metadata": {},
   "outputs": [
    {
     "data": {
      "text/plain": [
       "150000"
      ]
     },
     "execution_count": 273,
     "metadata": {},
     "output_type": "execute_result"
    }
   ],
   "source": [
    "len(eald_set.pool)"
   ]
  },
  {
   "cell_type": "code",
   "execution_count": 3,
   "metadata": {},
   "outputs": [],
   "source": [
    "eald_set.augment_n_times(2, augmented_dataset=aug_train_ds)\n",
    "my_list = eald_set.random_state.choice(eald_set.n_unlabelled, 10, replace=False).tolist()\n",
    "#aug_ids = eald_set.get_augmented_ids_of_image()\n",
    "#my_list\n",
    "#eald_set.label(10)\n"
   ]
  },
  {
   "cell_type": "code",
   "execution_count": 274,
   "metadata": {},
   "outputs": [
    {
     "data": {
      "text/plain": [
       "[93742, 31574, 37230, 118700, 82274, 101346, 44808, 8150, 98685, 25207]"
      ]
     },
     "execution_count": 274,
     "metadata": {},
     "output_type": "execute_result"
    }
   ],
   "source": [
    "my_list"
   ]
  },
  {
   "cell_type": "code",
   "execution_count": 4,
   "metadata": {},
   "outputs": [
    {
     "data": {
      "text/plain": [
       "True"
      ]
     },
     "execution_count": 4,
     "metadata": {},
     "output_type": "execute_result"
    }
   ],
   "source": [
    "eald_set.is_augmentation(118700)"
   ]
  },
  {
   "cell_type": "code",
   "execution_count": 264,
   "metadata": {},
   "outputs": [
    {
     "data": {
      "text/plain": [
       "200000"
      ]
     },
     "execution_count": 264,
     "metadata": {},
     "output_type": "execute_result"
    }
   ],
   "source": [
    "len(eald_set.pool)"
   ]
  },
  {
   "cell_type": "code",
   "execution_count": 263,
   "metadata": {},
   "outputs": [
    {
     "data": {
      "text/plain": [
       "1"
      ]
     },
     "execution_count": 263,
     "metadata": {},
     "output_type": "execute_result"
    }
   ],
   "source": [
    "eald_set.augmented_map[100001]"
   ]
  },
  {
   "cell_type": "code",
   "execution_count": 6,
   "metadata": {},
   "outputs": [
    {
     "data": {
      "text/plain": [
       "150000"
      ]
     },
     "execution_count": 6,
     "metadata": {},
     "output_type": "execute_result"
    }
   ],
   "source": [
    "len(eald_set.pool)"
   ]
  },
  {
   "cell_type": "code",
   "execution_count": 7,
   "metadata": {},
   "outputs": [
    {
     "ename": "IndexError",
     "evalue": "index 49482 is out of bounds for axis 0 with size 49249",
     "output_type": "error",
     "traceback": [
      "\u001b[0;31m---------------------------------------------------------------------------\u001b[0m",
      "\u001b[0;31mIndexError\u001b[0m                                Traceback (most recent call last)",
      "\u001b[1;32m/Users/colins/Documents/Master AI/WHK/Code/BaaL_Experiments/notebook.ipynb Cell 13\u001b[0m in \u001b[0;36m<cell line: 1>\u001b[0;34m()\u001b[0m\n\u001b[0;32m----> <a href='vscode-notebook-cell:/Users/colins/Documents/Master%20AI/WHK/Code/BaaL_Experiments/notebook.ipynb#X14sZmlsZQ%3D%3D?line=0'>1</a>\u001b[0m eald_set\u001b[39m.\u001b[39;49mlabel_randomly(\u001b[39m150000\u001b[39;49m)\n",
      "File \u001b[0;32m~/miniforge3/envs/pytorch-mps/lib/python3.9/site-packages/baal/active/dataset/base.py:90\u001b[0m, in \u001b[0;36mSplittedDataset.label_randomly\u001b[0;34m(self, n)\u001b[0m\n\u001b[1;32m     83\u001b[0m \u001b[39mdef\u001b[39;00m \u001b[39mlabel_randomly\u001b[39m(\u001b[39mself\u001b[39m, n: \u001b[39mint\u001b[39m \u001b[39m=\u001b[39m \u001b[39m1\u001b[39m) \u001b[39m-\u001b[39m\u001b[39m>\u001b[39m \u001b[39mNone\u001b[39;00m:\n\u001b[1;32m     84\u001b[0m     \u001b[39m\"\"\"\u001b[39;00m\n\u001b[1;32m     85\u001b[0m \u001b[39m    Label `n` data-points randomly.\u001b[39;00m\n\u001b[1;32m     86\u001b[0m \n\u001b[1;32m     87\u001b[0m \u001b[39m    Args:\u001b[39;00m\n\u001b[1;32m     88\u001b[0m \u001b[39m        n (int): Number of samples to label.\u001b[39;00m\n\u001b[1;32m     89\u001b[0m \u001b[39m    \"\"\"\u001b[39;00m\n\u001b[0;32m---> 90\u001b[0m     \u001b[39mself\u001b[39;49m\u001b[39m.\u001b[39;49mlabel(\u001b[39mself\u001b[39;49m\u001b[39m.\u001b[39;49mrandom_state\u001b[39m.\u001b[39;49mchoice(\u001b[39mself\u001b[39;49m\u001b[39m.\u001b[39;49mn_unlabelled, n, replace\u001b[39m=\u001b[39;49m\u001b[39mFalse\u001b[39;49;00m)\u001b[39m.\u001b[39;49mtolist())\n",
      "File \u001b[0;32m~/Documents/Master AI/WHK/Code/BaaL_Experiments/baal_extended/ExtendedActiveLearningDataset.py:172\u001b[0m, in \u001b[0;36mExtendedActiveLearningDataset.label\u001b[0;34m(self, idx)\u001b[0m\n\u001b[1;32m    170\u001b[0m     i \u001b[39m+\u001b[39m\u001b[39m=\u001b[39m \u001b[39m1\u001b[39m\n\u001b[1;32m    171\u001b[0m \u001b[39m# print(\"augmenting source image\" + str(oracle_idx))\u001b[39;00m\n\u001b[0;32m--> 172\u001b[0m \u001b[39msuper\u001b[39;49m()\u001b[39m.\u001b[39;49mlabel(oracle_idx)\n\u001b[1;32m    173\u001b[0m \u001b[39m# print(str(i) + \": \" + str(self.n_labelled))\u001b[39;00m\n\u001b[1;32m    174\u001b[0m i \u001b[39m+\u001b[39m\u001b[39m=\u001b[39m \u001b[39m1\u001b[39m\n",
      "File \u001b[0;32m~/miniforge3/envs/pytorch-mps/lib/python3.9/site-packages/baal/active/dataset/pytorch_dataset.py:162\u001b[0m, in \u001b[0;36mActiveLearningDataset.label\u001b[0;34m(self, index, value)\u001b[0m\n\u001b[1;32m    157\u001b[0m \u001b[39mif\u001b[39;00m value_lst[\u001b[39m0\u001b[39m] \u001b[39mis\u001b[39;00m \u001b[39mnot\u001b[39;00m \u001b[39mNone\u001b[39;00m \u001b[39mand\u001b[39;00m \u001b[39mlen\u001b[39m(index_lst) \u001b[39m!=\u001b[39m \u001b[39mlen\u001b[39m(value_lst):\n\u001b[1;32m    158\u001b[0m     \u001b[39mraise\u001b[39;00m \u001b[39mValueError\u001b[39;00m(\n\u001b[1;32m    159\u001b[0m         \u001b[39m\"\u001b[39m\u001b[39mExpected `index` and `value` to be of same length when `value` is provided.\u001b[39m\u001b[39m\"\u001b[39m\n\u001b[1;32m    160\u001b[0m         \u001b[39mf\u001b[39m\u001b[39m\"\u001b[39m\u001b[39mGot index=\u001b[39m\u001b[39m{\u001b[39;00m\u001b[39mlen\u001b[39m(index_lst)\u001b[39m}\u001b[39;00m\u001b[39m and value=\u001b[39m\u001b[39m{\u001b[39;00m\u001b[39mlen\u001b[39m(value_lst)\u001b[39m}\u001b[39;00m\u001b[39m\"\u001b[39m\n\u001b[1;32m    161\u001b[0m     )\n\u001b[0;32m--> 162\u001b[0m indexes \u001b[39m=\u001b[39m \u001b[39mself\u001b[39;49m\u001b[39m.\u001b[39;49m_pool_to_oracle_index(index_lst)\n\u001b[1;32m    163\u001b[0m active_step \u001b[39m=\u001b[39m \u001b[39mself\u001b[39m\u001b[39m.\u001b[39mcurrent_al_step \u001b[39m+\u001b[39m \u001b[39m1\u001b[39m\n\u001b[1;32m    164\u001b[0m \u001b[39mfor\u001b[39;00m idx, val \u001b[39min\u001b[39;00m zip_longest(indexes, value_lst, fillvalue\u001b[39m=\u001b[39m\u001b[39mNone\u001b[39;00m):\n",
      "File \u001b[0;32m~/miniforge3/envs/pytorch-mps/lib/python3.9/site-packages/baal/active/dataset/base.py:119\u001b[0m, in \u001b[0;36mSplittedDataset._pool_to_oracle_index\u001b[0;34m(self, index)\u001b[0m\n\u001b[1;32m    116\u001b[0m     index \u001b[39m=\u001b[39m [index]\n\u001b[1;32m    118\u001b[0m lbl_nz \u001b[39m=\u001b[39m (\u001b[39m~\u001b[39m\u001b[39mself\u001b[39m\u001b[39m.\u001b[39mlabelled)\u001b[39m.\u001b[39mnonzero()[\u001b[39m0\u001b[39m]\n\u001b[0;32m--> 119\u001b[0m \u001b[39mreturn\u001b[39;00m [\u001b[39mint\u001b[39m(lbl_nz[idx]\u001b[39m.\u001b[39msqueeze()\u001b[39m.\u001b[39mitem()) \u001b[39mfor\u001b[39;00m idx \u001b[39min\u001b[39;00m index]\n",
      "File \u001b[0;32m~/miniforge3/envs/pytorch-mps/lib/python3.9/site-packages/baal/active/dataset/base.py:119\u001b[0m, in \u001b[0;36m<listcomp>\u001b[0;34m(.0)\u001b[0m\n\u001b[1;32m    116\u001b[0m     index \u001b[39m=\u001b[39m [index]\n\u001b[1;32m    118\u001b[0m lbl_nz \u001b[39m=\u001b[39m (\u001b[39m~\u001b[39m\u001b[39mself\u001b[39m\u001b[39m.\u001b[39mlabelled)\u001b[39m.\u001b[39mnonzero()[\u001b[39m0\u001b[39m]\n\u001b[0;32m--> 119\u001b[0m \u001b[39mreturn\u001b[39;00m [\u001b[39mint\u001b[39m(lbl_nz[idx]\u001b[39m.\u001b[39msqueeze()\u001b[39m.\u001b[39mitem()) \u001b[39mfor\u001b[39;00m idx \u001b[39min\u001b[39;00m index]\n",
      "\u001b[0;31mIndexError\u001b[0m: index 49482 is out of bounds for axis 0 with size 49249"
     ]
    }
   ],
   "source": [
    "eald_set.label_randomly(150000)"
   ]
  },
  {
   "cell_type": "code",
   "execution_count": 250,
   "metadata": {},
   "outputs": [
    {
     "data": {
      "text/plain": [
       "[174585]"
      ]
     },
     "execution_count": 250,
     "metadata": {},
     "output_type": "execute_result"
    }
   ],
   "source": [
    "eald_set._pool_to_oracle_index(174582)"
   ]
  },
  {
   "cell_type": "code",
   "execution_count": 247,
   "metadata": {},
   "outputs": [
    {
     "name": "stdout",
     "output_type": "stream",
     "text": [
      "0: 3\n"
     ]
    },
    {
     "ename": "ValueError",
     "evalue": "The idx given responds to an augmented image, please specify an id that responds to an unaugmented image!",
     "output_type": "error",
     "traceback": [
      "\u001b[0;31m---------------------------------------------------------------------------\u001b[0m",
      "\u001b[0;31mValueError\u001b[0m                                Traceback (most recent call last)",
      "\u001b[1;32m/Users/colins/Documents/Master AI/WHK/Code/BaaL_Experiments/notebook.ipynb Cell 6\u001b[0m in \u001b[0;36m<cell line: 1>\u001b[0;34m()\u001b[0m\n\u001b[0;32m----> <a href='vscode-notebook-cell:/Users/colins/Documents/Master%20AI/WHK/Code/BaaL_Experiments/notebook.ipynb#X52sZmlsZQ%3D%3D?line=0'>1</a>\u001b[0m eald_set\u001b[39m.\u001b[39;49mlabel(\u001b[39m174582\u001b[39;49m)\n",
      "\u001b[1;32m/Users/colins/Documents/Master AI/WHK/Code/BaaL_Experiments/notebook.ipynb Cell 6\u001b[0m in \u001b[0;36mExtendedActiveLearningDataset.label\u001b[0;34m(self, idx)\u001b[0m\n\u001b[1;32m    <a href='vscode-notebook-cell:/Users/colins/Documents/Master%20AI/WHK/Code/BaaL_Experiments/notebook.ipynb#X52sZmlsZQ%3D%3D?line=121'>122</a>\u001b[0m \u001b[39melse\u001b[39;00m:\n\u001b[1;32m    <a href='vscode-notebook-cell:/Users/colins/Documents/Master%20AI/WHK/Code/BaaL_Experiments/notebook.ipynb#X52sZmlsZQ%3D%3D?line=122'>123</a>\u001b[0m     \u001b[39mself\u001b[39m\u001b[39m.\u001b[39mn_unaugmented_images_labelled \u001b[39m+\u001b[39m\u001b[39m=\u001b[39m\u001b[39m1\u001b[39m\n\u001b[0;32m--> <a href='vscode-notebook-cell:/Users/colins/Documents/Master%20AI/WHK/Code/BaaL_Experiments/notebook.ipynb#X52sZmlsZQ%3D%3D?line=124'>125</a>\u001b[0m augmented_ids \u001b[39m=\u001b[39m \u001b[39mself\u001b[39;49m\u001b[39m.\u001b[39;49mget_augmented_ids_of_image(oracle_idx)\n\u001b[1;32m    <a href='vscode-notebook-cell:/Users/colins/Documents/Master%20AI/WHK/Code/BaaL_Experiments/notebook.ipynb#X52sZmlsZQ%3D%3D?line=125'>126</a>\u001b[0m \u001b[39mprint\u001b[39m(\u001b[39m\"\u001b[39m\u001b[39maugmented_ids\u001b[39m\u001b[39m\"\u001b[39m\u001b[39m+\u001b[39m\u001b[39mstr\u001b[39m(augmented_ids))\n\u001b[1;32m    <a href='vscode-notebook-cell:/Users/colins/Documents/Master%20AI/WHK/Code/BaaL_Experiments/notebook.ipynb#X52sZmlsZQ%3D%3D?line=126'>127</a>\u001b[0m \u001b[39mprint\u001b[39m(\u001b[39m\"\u001b[39m\u001b[39mlen aug ids\u001b[39m\u001b[39m\"\u001b[39m\u001b[39m+\u001b[39m \u001b[39mstr\u001b[39m(\u001b[39mlen\u001b[39m(augmented_ids)))\n",
      "\u001b[1;32m/Users/colins/Documents/Master AI/WHK/Code/BaaL_Experiments/notebook.ipynb Cell 6\u001b[0m in \u001b[0;36mExtendedActiveLearningDataset.get_augmented_ids_of_image\u001b[0;34m(self, idx)\u001b[0m\n\u001b[1;32m     <a href='vscode-notebook-cell:/Users/colins/Documents/Master%20AI/WHK/Code/BaaL_Experiments/notebook.ipynb#X52sZmlsZQ%3D%3D?line=78'>79</a>\u001b[0m \u001b[39mdef\u001b[39;00m \u001b[39mget_augmented_ids_of_image\u001b[39m(\u001b[39mself\u001b[39m, idx):\n\u001b[1;32m     <a href='vscode-notebook-cell:/Users/colins/Documents/Master%20AI/WHK/Code/BaaL_Experiments/notebook.ipynb#X52sZmlsZQ%3D%3D?line=79'>80</a>\u001b[0m     \u001b[39mif\u001b[39;00m \u001b[39mself\u001b[39m\u001b[39m.\u001b[39mis_augmentation(idx):\n\u001b[0;32m---> <a href='vscode-notebook-cell:/Users/colins/Documents/Master%20AI/WHK/Code/BaaL_Experiments/notebook.ipynb#X52sZmlsZQ%3D%3D?line=80'>81</a>\u001b[0m         \u001b[39mraise\u001b[39;00m \u001b[39mValueError\u001b[39;00m(\u001b[39m\"\u001b[39m\u001b[39mThe idx given responds to an augmented image, please specify an id that responds to an unaugmented image!\u001b[39m\u001b[39m\"\u001b[39m)\n\u001b[1;32m     <a href='vscode-notebook-cell:/Users/colins/Documents/Master%20AI/WHK/Code/BaaL_Experiments/notebook.ipynb#X52sZmlsZQ%3D%3D?line=81'>82</a>\u001b[0m     augmented_ids \u001b[39m=\u001b[39m np\u001b[39m.\u001b[39mwhere(\u001b[39mself\u001b[39m\u001b[39m.\u001b[39maugmented_map \u001b[39m==\u001b[39m idx)\n\u001b[1;32m     <a href='vscode-notebook-cell:/Users/colins/Documents/Master%20AI/WHK/Code/BaaL_Experiments/notebook.ipynb#X52sZmlsZQ%3D%3D?line=82'>83</a>\u001b[0m     \u001b[39m#print(type(augmented_ids))\u001b[39;00m\n",
      "\u001b[0;31mValueError\u001b[0m: The idx given responds to an augmented image, please specify an id that responds to an unaugmented image!"
     ]
    }
   ],
   "source": [
    "eald_set.label(174582)"
   ]
  },
  {
   "cell_type": "code",
   "execution_count": null,
   "metadata": {},
   "outputs": [],
   "source": []
  },
  {
   "cell_type": "code",
   "execution_count": 248,
   "metadata": {},
   "outputs": [
    {
     "ename": "ValueError",
     "evalue": "The idx given responds to an augmented image, please specify an id that responds to an unaugmented image!",
     "output_type": "error",
     "traceback": [
      "\u001b[0;31m---------------------------------------------------------------------------\u001b[0m",
      "\u001b[0;31mValueError\u001b[0m                                Traceback (most recent call last)",
      "\u001b[1;32m/Users/colins/Documents/Master AI/WHK/Code/BaaL_Experiments/notebook.ipynb Cell 7\u001b[0m in \u001b[0;36m<cell line: 1>\u001b[0;34m()\u001b[0m\n\u001b[0;32m----> <a href='vscode-notebook-cell:/Users/colins/Documents/Master%20AI/WHK/Code/BaaL_Experiments/notebook.ipynb#X50sZmlsZQ%3D%3D?line=0'>1</a>\u001b[0m eald_set\u001b[39m.\u001b[39;49mget_augmented_ids_of_image(\u001b[39m174582\u001b[39;49m)\n",
      "\u001b[1;32m/Users/colins/Documents/Master AI/WHK/Code/BaaL_Experiments/notebook.ipynb Cell 7\u001b[0m in \u001b[0;36mExtendedActiveLearningDataset.get_augmented_ids_of_image\u001b[0;34m(self, idx)\u001b[0m\n\u001b[1;32m     <a href='vscode-notebook-cell:/Users/colins/Documents/Master%20AI/WHK/Code/BaaL_Experiments/notebook.ipynb#X50sZmlsZQ%3D%3D?line=78'>79</a>\u001b[0m \u001b[39mdef\u001b[39;00m \u001b[39mget_augmented_ids_of_image\u001b[39m(\u001b[39mself\u001b[39m, idx):\n\u001b[1;32m     <a href='vscode-notebook-cell:/Users/colins/Documents/Master%20AI/WHK/Code/BaaL_Experiments/notebook.ipynb#X50sZmlsZQ%3D%3D?line=79'>80</a>\u001b[0m     \u001b[39mif\u001b[39;00m \u001b[39mself\u001b[39m\u001b[39m.\u001b[39mis_augmentation(idx):\n\u001b[0;32m---> <a href='vscode-notebook-cell:/Users/colins/Documents/Master%20AI/WHK/Code/BaaL_Experiments/notebook.ipynb#X50sZmlsZQ%3D%3D?line=80'>81</a>\u001b[0m         \u001b[39mraise\u001b[39;00m \u001b[39mValueError\u001b[39;00m(\u001b[39m\"\u001b[39m\u001b[39mThe idx given responds to an augmented image, please specify an id that responds to an unaugmented image!\u001b[39m\u001b[39m\"\u001b[39m)\n\u001b[1;32m     <a href='vscode-notebook-cell:/Users/colins/Documents/Master%20AI/WHK/Code/BaaL_Experiments/notebook.ipynb#X50sZmlsZQ%3D%3D?line=81'>82</a>\u001b[0m     augmented_ids \u001b[39m=\u001b[39m np\u001b[39m.\u001b[39mwhere(\u001b[39mself\u001b[39m\u001b[39m.\u001b[39maugmented_map \u001b[39m==\u001b[39m idx)\n\u001b[1;32m     <a href='vscode-notebook-cell:/Users/colins/Documents/Master%20AI/WHK/Code/BaaL_Experiments/notebook.ipynb#X50sZmlsZQ%3D%3D?line=82'>83</a>\u001b[0m     \u001b[39m#print(type(augmented_ids))\u001b[39;00m\n",
      "\u001b[0;31mValueError\u001b[0m: The idx given responds to an augmented image, please specify an id that responds to an unaugmented image!"
     ]
    }
   ],
   "source": [
    "eald_set.get_augmented_ids_of_image(174582)"
   ]
  },
  {
   "cell_type": "code",
   "execution_count": 249,
   "metadata": {},
   "outputs": [
    {
     "data": {
      "text/plain": [
       "True"
      ]
     },
     "execution_count": 249,
     "metadata": {},
     "output_type": "execute_result"
    }
   ],
   "source": [
    "eald_set.is_augmentation(174582)"
   ]
  },
  {
   "cell_type": "code",
   "execution_count": 233,
   "metadata": {},
   "outputs": [
    {
     "data": {
      "text/plain": [
       "[35576, 16949, 79062, 81431, 8730, 82812, 29738, 2311, 24378, 15466]"
      ]
     },
     "execution_count": 233,
     "metadata": {},
     "output_type": "execute_result"
    }
   ],
   "source": [
    "eald_set._pool_to_oracle_index(my_list)"
   ]
  },
  {
   "cell_type": "code",
   "execution_count": 224,
   "metadata": {},
   "outputs": [
    {
     "data": {
      "text/plain": [
       "49999"
      ]
     },
     "execution_count": 224,
     "metadata": {},
     "output_type": "execute_result"
    }
   ],
   "source": [
    "eald_set.n_augmented"
   ]
  },
  {
   "cell_type": "code",
   "execution_count": 222,
   "metadata": {},
   "outputs": [
    {
     "name": "stdout",
     "output_type": "stream",
     "text": [
      "0: 140\n",
      "augmented_ids(array([70891]),)\n",
      "len aug ids1\n",
      "id is[70891]\n",
      "type of id is<class 'numpy.ndarray'>\n",
      "looping through aug_ids, curren id:[70891]\n",
      "1: 140\n",
      "2: 141\n",
      "augmenting source image20891\n",
      "3: 142\n",
      "augmented_ids(array([76735]),)\n",
      "len aug ids1\n",
      "id is[76735]\n",
      "type of id is<class 'numpy.ndarray'>\n",
      "looping through aug_ids, curren id:[76735]\n",
      "4: 142\n",
      "5: 143\n",
      "augmenting source image26735\n",
      "6: 144\n",
      "augmented_ids(array([63683]),)\n",
      "len aug ids1\n",
      "id is[63683]\n",
      "type of id is<class 'numpy.ndarray'>\n",
      "looping through aug_ids, curren id:[63683]\n",
      "7: 144\n",
      "8: 145\n",
      "augmenting source image13683\n",
      "9: 146\n",
      "augmented_ids(array([79592]),)\n",
      "len aug ids1\n",
      "id is[79592]\n",
      "type of id is<class 'numpy.ndarray'>\n",
      "looping through aug_ids, curren id:[79592]\n",
      "10: 146\n",
      "11: 147\n",
      "augmenting source image29592\n",
      "12: 148\n",
      "augmented_ids(array([59908]),)\n",
      "len aug ids1\n",
      "id is[59908]\n",
      "type of id is<class 'numpy.ndarray'>\n",
      "looping through aug_ids, curren id:[59908]\n",
      "13: 148\n",
      "14: 149\n",
      "augmenting source image9908\n",
      "15: 150\n",
      "augmented_ids(array([65566]),)\n",
      "len aug ids1\n",
      "id is[65566]\n",
      "type of id is<class 'numpy.ndarray'>\n",
      "looping through aug_ids, curren id:[65566]\n",
      "16: 150\n",
      "17: 151\n",
      "augmenting source image15566\n",
      "18: 152\n",
      "augmented_ids(array([96700]),)\n",
      "len aug ids1\n",
      "id is[96700]\n",
      "type of id is<class 'numpy.ndarray'>\n",
      "looping through aug_ids, curren id:[96700]\n",
      "19: 152\n",
      "20: 153\n",
      "augmenting source image46700\n",
      "21: 154\n",
      "augmented_ids(array([83717]),)\n",
      "len aug ids1\n",
      "id is[83717]\n",
      "type of id is<class 'numpy.ndarray'>\n",
      "looping through aug_ids, curren id:[83717]\n",
      "22: 154\n",
      "23: 155\n",
      "augmenting source image33717\n",
      "24: 156\n",
      "augmented_ids(array([72577]),)\n",
      "len aug ids1\n",
      "id is[72577]\n",
      "type of id is<class 'numpy.ndarray'>\n",
      "looping through aug_ids, curren id:[72577]\n",
      "25: 156\n",
      "26: 157\n",
      "augmenting source image22577\n",
      "27: 158\n",
      "augmented_ids(array([83242]),)\n",
      "len aug ids1\n",
      "id is[83242]\n",
      "type of id is<class 'numpy.ndarray'>\n",
      "looping through aug_ids, curren id:[83242]\n",
      "28: 158\n",
      "29: 159\n",
      "augmenting source image33242\n",
      "30: 160\n"
     ]
    }
   ],
   "source": [
    "eald_set.label_randomly(10)"
   ]
  },
  {
   "cell_type": "code",
   "execution_count": 83,
   "metadata": {},
   "outputs": [
    {
     "name": "stdout",
     "output_type": "stream",
     "text": [
      "idx5 augMapVal:0 augMapType:<class 'numpy.int64'>\n",
      "[]\n"
     ]
    },
    {
     "data": {
      "text/plain": [
       "[]"
      ]
     },
     "execution_count": 83,
     "metadata": {},
     "output_type": "execute_result"
    }
   ],
   "source": [
    "x = eald_set.get_augmented_ids_of_image(5)\n",
    "idx = None\n",
    "for a in x:\n",
    "    print(a)\n",
    "    idx = eald_set._oracle_to_pool_index(a)\n",
    "idx"
   ]
  },
  {
   "cell_type": "code",
   "execution_count": 55,
   "metadata": {},
   "outputs": [
    {
     "name": "stdout",
     "output_type": "stream",
     "text": [
      "True\n",
      "50000\n",
      "0\n",
      "50000\n",
      "100000\n",
      "idx5 augMapVal:0 augMapType:<class 'numpy.int64'>\n",
      "(array([50005]),)\n",
      "idx5 augMapVal:0 augMapType:<class 'numpy.int64'>\n",
      "False\n",
      "idx50005 augMapVal:5 augMapType:<class 'numpy.int64'>\n",
      "False\n",
      "0\n",
      "[7]\n",
      "idx7 augMapVal:0 augMapType:<class 'numpy.int64'>\n",
      "idx7 augMapVal:0 augMapType:<class 'numpy.int64'>\n"
     ]
    }
   ],
   "source": [
    "print(eald_set.can_augment())\n",
    "print(eald_set.n_unaugmented)\n",
    "print(eald_set.n_augmented)\n",
    "print(len(eald_set.pool))\n",
    "eald_set.augment_n_times(1, augmented_dataset=aug_train_ds)\n",
    "print(len(eald_set._dataset))\n",
    "print(eald_set.get_augmented_ids_of_image(5))\n",
    "print(eald_set.is_augmentation(5))\n",
    "print(eald_set.is_augmentation(50005))\n",
    "print(len(eald_set))\n",
    "eald_set.label(7)\n"
   ]
  },
  {
   "cell_type": "code",
   "execution_count": 39,
   "metadata": {},
   "outputs": [
    {
     "name": "stdout",
     "output_type": "stream",
     "text": [
      "augMapVal:0 augMapType:<class 'numpy.int64'>\n",
      "augMapVal:0 augMapType:<class 'numpy.int64'>\n"
     ]
    }
   ],
   "source": [
    "eald_set.label(9)"
   ]
  },
  {
   "cell_type": "code",
   "execution_count": 52,
   "metadata": {},
   "outputs": [
    {
     "data": {
      "text/plain": [
       "100000"
      ]
     },
     "execution_count": 52,
     "metadata": {},
     "output_type": "execute_result"
    }
   ],
   "source": [
    "len(eald_set)"
   ]
  },
  {
   "cell_type": "code",
   "execution_count": 60,
   "metadata": {},
   "outputs": [
    {
     "data": {
      "text/plain": [
       "100000"
      ]
     },
     "execution_count": 60,
     "metadata": {},
     "output_type": "execute_result"
    }
   ],
   "source": [
    "eald_set.n_labelled"
   ]
  },
  {
   "cell_type": "code",
   "execution_count": 58,
   "metadata": {},
   "outputs": [
    {
     "data": {
      "text/plain": [
       "[94241, 79564, 83187, 41291, 1826, 47424, 26698, 94918, 88774, 79590]"
      ]
     },
     "execution_count": 58,
     "metadata": {},
     "output_type": "execute_result"
    }
   ],
   "source": [
    "my_list = eald_set.random_state.choice(eald_set.n_unlabelled, 10, replace=False).tolist()\n",
    "my_list"
   ]
  },
  {
   "cell_type": "code",
   "execution_count": 59,
   "metadata": {},
   "outputs": [
    {
     "name": "stdout",
     "output_type": "stream",
     "text": [
      "[94243, 79566, 83189, 41292, 1827, 47425, 26699, 94920, 88776, 79592]\n",
      "idx94243 augMapVal:44243 augMapType:<class 'numpy.int64'>\n",
      "idx94243 augMapVal:44243 augMapType:<class 'numpy.int64'>\n"
     ]
    },
    {
     "ename": "IndexError",
     "evalue": "index 94241 is out of bounds for axis 0 with size 0",
     "output_type": "error",
     "traceback": [
      "\u001b[0;31m---------------------------------------------------------------------------\u001b[0m",
      "\u001b[0;31mIndexError\u001b[0m                                Traceback (most recent call last)",
      "\u001b[1;32m/Users/colins/Documents/Master AI/WHK/Code/BaaL_Experiments/notebook.ipynb Cell 10\u001b[0m in \u001b[0;36m<cell line: 1>\u001b[0;34m()\u001b[0m\n\u001b[0;32m----> <a href='vscode-notebook-cell:/Users/colins/Documents/Master%20AI/WHK/Code/BaaL_Experiments/notebook.ipynb#X30sZmlsZQ%3D%3D?line=0'>1</a>\u001b[0m eald_set\u001b[39m.\u001b[39;49mlabel(my_list)\n",
      "\u001b[1;32m/Users/colins/Documents/Master AI/WHK/Code/BaaL_Experiments/notebook.ipynb Cell 10\u001b[0m in \u001b[0;36mExtendedActiveLearningDataset.label\u001b[0;34m(self, idx)\u001b[0m\n\u001b[1;32m    <a href='vscode-notebook-cell:/Users/colins/Documents/Master%20AI/WHK/Code/BaaL_Experiments/notebook.ipynb#X30sZmlsZQ%3D%3D?line=121'>122</a>\u001b[0m \u001b[39mfor\u001b[39;00m \u001b[39mid\u001b[39m \u001b[39min\u001b[39;00m \u001b[39mself\u001b[39m\u001b[39m.\u001b[39mget_augmented_ids_of_image(oracle_idx):\n\u001b[1;32m    <a href='vscode-notebook-cell:/Users/colins/Documents/Master%20AI/WHK/Code/BaaL_Experiments/notebook.ipynb#X30sZmlsZQ%3D%3D?line=122'>123</a>\u001b[0m     \u001b[39msuper\u001b[39m()\u001b[39m.\u001b[39mlabel(\u001b[39mself\u001b[39m\u001b[39m.\u001b[39m_oracle_to_pool_index(\u001b[39mid\u001b[39m))\n\u001b[0;32m--> <a href='vscode-notebook-cell:/Users/colins/Documents/Master%20AI/WHK/Code/BaaL_Experiments/notebook.ipynb#X30sZmlsZQ%3D%3D?line=123'>124</a>\u001b[0m \u001b[39msuper\u001b[39;49m()\u001b[39m.\u001b[39;49mlabel(idx)\n",
      "File \u001b[0;32m~/miniforge3/envs/pytorch-mps/lib/python3.9/site-packages/baal/active/dataset/pytorch_dataset.py:162\u001b[0m, in \u001b[0;36mActiveLearningDataset.label\u001b[0;34m(self, index, value)\u001b[0m\n\u001b[1;32m    157\u001b[0m \u001b[39mif\u001b[39;00m value_lst[\u001b[39m0\u001b[39m] \u001b[39mis\u001b[39;00m \u001b[39mnot\u001b[39;00m \u001b[39mNone\u001b[39;00m \u001b[39mand\u001b[39;00m \u001b[39mlen\u001b[39m(index_lst) \u001b[39m!=\u001b[39m \u001b[39mlen\u001b[39m(value_lst):\n\u001b[1;32m    158\u001b[0m     \u001b[39mraise\u001b[39;00m \u001b[39mValueError\u001b[39;00m(\n\u001b[1;32m    159\u001b[0m         \u001b[39m\"\u001b[39m\u001b[39mExpected `index` and `value` to be of same length when `value` is provided.\u001b[39m\u001b[39m\"\u001b[39m\n\u001b[1;32m    160\u001b[0m         \u001b[39mf\u001b[39m\u001b[39m\"\u001b[39m\u001b[39mGot index=\u001b[39m\u001b[39m{\u001b[39;00m\u001b[39mlen\u001b[39m(index_lst)\u001b[39m}\u001b[39;00m\u001b[39m and value=\u001b[39m\u001b[39m{\u001b[39;00m\u001b[39mlen\u001b[39m(value_lst)\u001b[39m}\u001b[39;00m\u001b[39m\"\u001b[39m\n\u001b[1;32m    161\u001b[0m     )\n\u001b[0;32m--> 162\u001b[0m indexes \u001b[39m=\u001b[39m \u001b[39mself\u001b[39;49m\u001b[39m.\u001b[39;49m_pool_to_oracle_index(index_lst)\n\u001b[1;32m    163\u001b[0m active_step \u001b[39m=\u001b[39m \u001b[39mself\u001b[39m\u001b[39m.\u001b[39mcurrent_al_step \u001b[39m+\u001b[39m \u001b[39m1\u001b[39m\n\u001b[1;32m    164\u001b[0m \u001b[39mfor\u001b[39;00m idx, val \u001b[39min\u001b[39;00m zip_longest(indexes, value_lst, fillvalue\u001b[39m=\u001b[39m\u001b[39mNone\u001b[39;00m):\n",
      "File \u001b[0;32m~/miniforge3/envs/pytorch-mps/lib/python3.9/site-packages/baal/active/dataset/base.py:119\u001b[0m, in \u001b[0;36mSplittedDataset._pool_to_oracle_index\u001b[0;34m(self, index)\u001b[0m\n\u001b[1;32m    116\u001b[0m     index \u001b[39m=\u001b[39m [index]\n\u001b[1;32m    118\u001b[0m lbl_nz \u001b[39m=\u001b[39m (\u001b[39m~\u001b[39m\u001b[39mself\u001b[39m\u001b[39m.\u001b[39mlabelled)\u001b[39m.\u001b[39mnonzero()[\u001b[39m0\u001b[39m]\n\u001b[0;32m--> 119\u001b[0m \u001b[39mreturn\u001b[39;00m [\u001b[39mint\u001b[39m(lbl_nz[idx]\u001b[39m.\u001b[39msqueeze()\u001b[39m.\u001b[39mitem()) \u001b[39mfor\u001b[39;00m idx \u001b[39min\u001b[39;00m index]\n",
      "File \u001b[0;32m~/miniforge3/envs/pytorch-mps/lib/python3.9/site-packages/baal/active/dataset/base.py:119\u001b[0m, in \u001b[0;36m<listcomp>\u001b[0;34m(.0)\u001b[0m\n\u001b[1;32m    116\u001b[0m     index \u001b[39m=\u001b[39m [index]\n\u001b[1;32m    118\u001b[0m lbl_nz \u001b[39m=\u001b[39m (\u001b[39m~\u001b[39m\u001b[39mself\u001b[39m\u001b[39m.\u001b[39mlabelled)\u001b[39m.\u001b[39mnonzero()[\u001b[39m0\u001b[39m]\n\u001b[0;32m--> 119\u001b[0m \u001b[39mreturn\u001b[39;00m [\u001b[39mint\u001b[39m(lbl_nz[idx]\u001b[39m.\u001b[39msqueeze()\u001b[39m.\u001b[39mitem()) \u001b[39mfor\u001b[39;00m idx \u001b[39min\u001b[39;00m index]\n",
      "\u001b[0;31mIndexError\u001b[0m: index 94241 is out of bounds for axis 0 with size 0"
     ]
    }
   ],
   "source": [
    "eald_set.label(my_list)"
   ]
  },
  {
   "cell_type": "code",
   "execution_count": 194,
   "metadata": {},
   "outputs": [
    {
     "name": "stdout",
     "output_type": "stream",
     "text": [
      "0: 2\n"
     ]
    },
    {
     "ename": "IndexError",
     "evalue": "invalid index to scalar variable.",
     "output_type": "error",
     "traceback": [
      "\u001b[0;31m---------------------------------------------------------------------------\u001b[0m",
      "\u001b[0;31mIndexError\u001b[0m                                Traceback (most recent call last)",
      "\u001b[1;32m/Users/colins/Documents/Master AI/WHK/Code/BaaL_Experiments/notebook.ipynb Cell 18\u001b[0m in \u001b[0;36m<cell line: 1>\u001b[0;34m()\u001b[0m\n\u001b[0;32m----> <a href='vscode-notebook-cell:/Users/colins/Documents/Master%20AI/WHK/Code/BaaL_Experiments/notebook.ipynb#W4sZmlsZQ%3D%3D?line=0'>1</a>\u001b[0m eald_set\u001b[39m.\u001b[39;49mlabel_randomly(\u001b[39m10\u001b[39;49m)\n",
      "File \u001b[0;32m~/miniforge3/envs/pytorch-mps/lib/python3.9/site-packages/baal/active/dataset/base.py:90\u001b[0m, in \u001b[0;36mSplittedDataset.label_randomly\u001b[0;34m(self, n)\u001b[0m\n\u001b[1;32m     83\u001b[0m \u001b[39mdef\u001b[39;00m \u001b[39mlabel_randomly\u001b[39m(\u001b[39mself\u001b[39m, n: \u001b[39mint\u001b[39m \u001b[39m=\u001b[39m \u001b[39m1\u001b[39m) \u001b[39m-\u001b[39m\u001b[39m>\u001b[39m \u001b[39mNone\u001b[39;00m:\n\u001b[1;32m     84\u001b[0m     \u001b[39m\"\"\"\u001b[39;00m\n\u001b[1;32m     85\u001b[0m \u001b[39m    Label `n` data-points randomly.\u001b[39;00m\n\u001b[1;32m     86\u001b[0m \n\u001b[1;32m     87\u001b[0m \u001b[39m    Args:\u001b[39;00m\n\u001b[1;32m     88\u001b[0m \u001b[39m        n (int): Number of samples to label.\u001b[39;00m\n\u001b[1;32m     89\u001b[0m \u001b[39m    \"\"\"\u001b[39;00m\n\u001b[0;32m---> 90\u001b[0m     \u001b[39mself\u001b[39;49m\u001b[39m.\u001b[39;49mlabel(\u001b[39mself\u001b[39;49m\u001b[39m.\u001b[39;49mrandom_state\u001b[39m.\u001b[39;49mchoice(\u001b[39mself\u001b[39;49m\u001b[39m.\u001b[39;49mn_unlabelled, n, replace\u001b[39m=\u001b[39;49m\u001b[39mFalse\u001b[39;49;00m)\u001b[39m.\u001b[39;49mtolist())\n",
      "\u001b[1;32m/Users/colins/Documents/Master AI/WHK/Code/BaaL_Experiments/notebook.ipynb Cell 18\u001b[0m in \u001b[0;36mExtendedActiveLearningDataset.label\u001b[0;34m(self, idx)\u001b[0m\n\u001b[1;32m    <a href='vscode-notebook-cell:/Users/colins/Documents/Master%20AI/WHK/Code/BaaL_Experiments/notebook.ipynb#W4sZmlsZQ%3D%3D?line=120'>121</a>\u001b[0m \u001b[39melse\u001b[39;00m:\n\u001b[1;32m    <a href='vscode-notebook-cell:/Users/colins/Documents/Master%20AI/WHK/Code/BaaL_Experiments/notebook.ipynb#W4sZmlsZQ%3D%3D?line=121'>122</a>\u001b[0m     \u001b[39mself\u001b[39m\u001b[39m.\u001b[39mn_unaugmented_images_labelled \u001b[39m+\u001b[39m\u001b[39m=\u001b[39m\u001b[39m1\u001b[39m\n\u001b[0;32m--> <a href='vscode-notebook-cell:/Users/colins/Documents/Master%20AI/WHK/Code/BaaL_Experiments/notebook.ipynb#W4sZmlsZQ%3D%3D?line=123'>124</a>\u001b[0m augmented_ids \u001b[39m=\u001b[39m \u001b[39mself\u001b[39;49m\u001b[39m.\u001b[39;49mget_augmented_ids_of_image(oracle_idx)\n\u001b[1;32m    <a href='vscode-notebook-cell:/Users/colins/Documents/Master%20AI/WHK/Code/BaaL_Experiments/notebook.ipynb#W4sZmlsZQ%3D%3D?line=124'>125</a>\u001b[0m \u001b[39mprint\u001b[39m(\u001b[39m\"\u001b[39m\u001b[39maugmented_ids\u001b[39m\u001b[39m\"\u001b[39m\u001b[39m+\u001b[39m\u001b[39mstr\u001b[39m(augmented_ids))\n\u001b[1;32m    <a href='vscode-notebook-cell:/Users/colins/Documents/Master%20AI/WHK/Code/BaaL_Experiments/notebook.ipynb#W4sZmlsZQ%3D%3D?line=125'>126</a>\u001b[0m \u001b[39mprint\u001b[39m(\u001b[39m\"\u001b[39m\u001b[39mlen aug ids\u001b[39m\u001b[39m\"\u001b[39m\u001b[39m+\u001b[39m \u001b[39mstr\u001b[39m(\u001b[39mlen\u001b[39m(augmented_ids)))\n",
      "\u001b[1;32m/Users/colins/Documents/Master AI/WHK/Code/BaaL_Experiments/notebook.ipynb Cell 18\u001b[0m in \u001b[0;36mExtendedActiveLearningDataset.get_augmented_ids_of_image\u001b[0;34m(self, idx)\u001b[0m\n\u001b[1;32m     <a href='vscode-notebook-cell:/Users/colins/Documents/Master%20AI/WHK/Code/BaaL_Experiments/notebook.ipynb#W4sZmlsZQ%3D%3D?line=78'>79</a>\u001b[0m \u001b[39mdef\u001b[39;00m \u001b[39mget_augmented_ids_of_image\u001b[39m(\u001b[39mself\u001b[39m, idx):\n\u001b[0;32m---> <a href='vscode-notebook-cell:/Users/colins/Documents/Master%20AI/WHK/Code/BaaL_Experiments/notebook.ipynb#W4sZmlsZQ%3D%3D?line=79'>80</a>\u001b[0m     \u001b[39mif\u001b[39;00m \u001b[39mself\u001b[39;49m\u001b[39m.\u001b[39;49mis_augmentation(idx):\n\u001b[1;32m     <a href='vscode-notebook-cell:/Users/colins/Documents/Master%20AI/WHK/Code/BaaL_Experiments/notebook.ipynb#W4sZmlsZQ%3D%3D?line=80'>81</a>\u001b[0m         \u001b[39mraise\u001b[39;00m \u001b[39mValueError\u001b[39;00m(\u001b[39m\"\u001b[39m\u001b[39mThe idx given responds to an augmented image, please specify an id that responds to an unaugmented image!\u001b[39m\u001b[39m\"\u001b[39m)\n\u001b[1;32m     <a href='vscode-notebook-cell:/Users/colins/Documents/Master%20AI/WHK/Code/BaaL_Experiments/notebook.ipynb#W4sZmlsZQ%3D%3D?line=81'>82</a>\u001b[0m     augmented_ids \u001b[39m=\u001b[39m np\u001b[39m.\u001b[39mwhere(\u001b[39mself\u001b[39m\u001b[39m.\u001b[39maugmented_map \u001b[39m==\u001b[39m idx)\n",
      "\u001b[1;32m/Users/colins/Documents/Master AI/WHK/Code/BaaL_Experiments/notebook.ipynb Cell 18\u001b[0m in \u001b[0;36mExtendedActiveLearningDataset.is_augmentation\u001b[0;34m(self, idx)\u001b[0m\n\u001b[1;32m     <a href='vscode-notebook-cell:/Users/colins/Documents/Master%20AI/WHK/Code/BaaL_Experiments/notebook.ipynb#W4sZmlsZQ%3D%3D?line=89'>90</a>\u001b[0m \u001b[39m#print(\"idx\"+str(idx)+\" augMapVal:\"+str(self.augmented_map[idx])+\" \"+\"augMapType:\"+str(type(self.augmented_map[idx])))\u001b[39;00m\n\u001b[1;32m     <a href='vscode-notebook-cell:/Users/colins/Documents/Master%20AI/WHK/Code/BaaL_Experiments/notebook.ipynb#W4sZmlsZQ%3D%3D?line=90'>91</a>\u001b[0m \u001b[39mif\u001b[39;00m \u001b[39mnot\u001b[39;00m \u001b[39misinstance\u001b[39m(idx, \u001b[39mint\u001b[39m):\n\u001b[1;32m     <a href='vscode-notebook-cell:/Users/colins/Documents/Master%20AI/WHK/Code/BaaL_Experiments/notebook.ipynb#W4sZmlsZQ%3D%3D?line=91'>92</a>\u001b[0m     \u001b[39m# We were provided only the index, we make a list.\u001b[39;00m\n\u001b[0;32m---> <a href='vscode-notebook-cell:/Users/colins/Documents/Master%20AI/WHK/Code/BaaL_Experiments/notebook.ipynb#W4sZmlsZQ%3D%3D?line=92'>93</a>\u001b[0m     idx \u001b[39m=\u001b[39m idx[\u001b[39m0\u001b[39;49m]\n\u001b[1;32m     <a href='vscode-notebook-cell:/Users/colins/Documents/Master%20AI/WHK/Code/BaaL_Experiments/notebook.ipynb#W4sZmlsZQ%3D%3D?line=93'>94</a>\u001b[0m \u001b[39mif\u001b[39;00m \u001b[39mself\u001b[39m\u001b[39m.\u001b[39maugmented_map[idx] \u001b[39m==\u001b[39m \u001b[39m0\u001b[39m:\n\u001b[1;32m     <a href='vscode-notebook-cell:/Users/colins/Documents/Master%20AI/WHK/Code/BaaL_Experiments/notebook.ipynb#W4sZmlsZQ%3D%3D?line=94'>95</a>\u001b[0m     \u001b[39mreturn\u001b[39;00m \u001b[39mFalse\u001b[39;00m\n",
      "\u001b[0;31mIndexError\u001b[0m: invalid index to scalar variable."
     ]
    }
   ],
   "source": [
    "eald_set.label_randomly(10)"
   ]
  },
  {
   "cell_type": "code",
   "execution_count": 29,
   "metadata": {},
   "outputs": [
    {
     "name": "stdout",
     "output_type": "stream",
     "text": [
      "[5]\n"
     ]
    }
   ],
   "source": [
    "idx = 5\n",
    "idx = [idx]\n",
    "for id in idx:\n",
    "    print(id)"
   ]
  },
  {
   "cell_type": "code",
   "execution_count": 44,
   "metadata": {},
   "outputs": [
    {
     "name": "stderr",
     "output_type": "stream",
     "text": [
      "Clipping input data to the valid range for imshow with RGB data ([0..1] for floats or [0..255] for integers).\n"
     ]
    },
    {
     "data": {
      "text/plain": [
       "<matplotlib.image.AxesImage at 0x28797b5e0>"
      ]
     },
     "execution_count": 44,
     "metadata": {},
     "output_type": "execute_result"
    },
    {
     "data": {
      "image/png": "[encoded data removed]",
      "text/plain": [
       "<Figure size 432x288 with 1 Axes>"
      ]
     },
     "metadata": {
      "needs_background": "light"
     },
     "output_type": "display_data"
    }
   ],
   "source": [
    "import matplotlib.pyplot as plt\n",
    "plt.imshow(eald_set[1][0].permute(1,2,0))\n",
    "\n"
   ]
  },
  {
   "cell_type": "code",
   "execution_count": 153,
   "metadata": {},
   "outputs": [
    {
     "name": "stderr",
     "output_type": "stream",
     "text": [
      "Clipping input data to the valid range for imshow with RGB data ([0..1] for floats or [0..255] for integers).\n"
     ]
    },
    {
     "data": {
      "text/plain": [
       "<matplotlib.image.AxesImage at 0x10ce0e850>"
      ]
     },
     "execution_count": 153,
     "metadata": {},
     "output_type": "execute_result"
    },
    {
     "data": {
      "image/png": "[encoded data removed]",
      "text/plain": [
       "<Figure size 432x288 with 1 Axes>"
      ]
     },
     "metadata": {
      "needs_background": "light"
     },
     "output_type": "display_data"
    }
   ],
   "source": [
    "plt.imshow(eald_set[2][0].permute(1,2,0))\n"
   ]
  },
  {
   "cell_type": "code",
   "execution_count": 80,
   "metadata": {},
   "outputs": [
    {
     "name": "stderr",
     "output_type": "stream",
     "text": [
      "Clipping input data to the valid range for imshow with RGB data ([0..1] for floats or [0..255] for integers).\n"
     ]
    },
    {
     "data": {
      "text/plain": [
       "<matplotlib.image.AxesImage at 0x10cacc970>"
      ]
     },
     "execution_count": 80,
     "metadata": {},
     "output_type": "execute_result"
    },
    {
     "data": {
      "image/png": "[encoded data removed]",
      "text/plain": [
       "<Figure size 432x288 with 1 Axes>"
      ]
     },
     "metadata": {
      "needs_background": "light"
     },
     "output_type": "display_data"
    }
   ],
   "source": [
    "plt.imshow(eald_set.pool[100005][0].permute(1,2,0))"
   ]
  },
  {
   "cell_type": "code",
   "execution_count": null,
   "metadata": {},
   "outputs": [],
   "source": []
  },
  {
   "cell_type": "code",
   "execution_count": 53,
   "metadata": {},
   "outputs": [
    {
     "ename": "IndexError",
     "evalue": "list index out of range",
     "output_type": "error",
     "traceback": [
      "\u001b[0;31m---------------------------------------------------------------------------\u001b[0m",
      "\u001b[0;31mIndexError\u001b[0m                                Traceback (most recent call last)",
      "\u001b[1;32m/Users/colins/Documents/Master AI/WHK/Code/BaaL_Experiments/notebook.ipynb Cell 13\u001b[0m in \u001b[0;36m<cell line: 1>\u001b[0;34m()\u001b[0m\n\u001b[0;32m----> <a href='vscode-notebook-cell:/Users/colins/Documents/Master%20AI/WHK/Code/BaaL_Experiments/notebook.ipynb#X16sZmlsZQ%3D%3D?line=0'>1</a>\u001b[0m eald_set[\u001b[39m5\u001b[39;49m]\n",
      "File \u001b[0;32m~/miniforge3/envs/pytorch-mps/lib/python3.9/site-packages/baal/active/dataset/pytorch_dataset.py:87\u001b[0m, in \u001b[0;36mActiveLearningDataset.__getitem__\u001b[0;34m(self, index)\u001b[0m\n\u001b[1;32m     85\u001b[0m \u001b[39mdef\u001b[39;00m \u001b[39m__getitem__\u001b[39m(\u001b[39mself\u001b[39m, index: \u001b[39mint\u001b[39m) \u001b[39m-\u001b[39m\u001b[39m>\u001b[39m Any:\n\u001b[1;32m     86\u001b[0m     \u001b[39m\"\"\"Return items from the original dataset based on the labelled index.\"\"\"\u001b[39;00m\n\u001b[0;32m---> 87\u001b[0m     index \u001b[39m=\u001b[39m \u001b[39mself\u001b[39;49m\u001b[39m.\u001b[39;49mget_indices_for_active_step()[index]\n\u001b[1;32m     88\u001b[0m     \u001b[39mreturn\u001b[39;00m \u001b[39mself\u001b[39m\u001b[39m.\u001b[39m_dataset[index]\n",
      "\u001b[0;31mIndexError\u001b[0m: list index out of range"
     ]
    }
   ],
   "source": [
    "eald_set[5]"
   ]
  },
  {
   "cell_type": "code",
   "execution_count": 82,
   "metadata": {},
   "outputs": [],
   "source": [
    "arr = np.arange(5)"
   ]
  },
  {
   "cell_type": "code",
   "execution_count": 86,
   "metadata": {},
   "outputs": [],
   "source": [
    "len(arr)\n",
    "\n",
    "conarr = np.concatenate((arr, arr))"
   ]
  },
  {
   "cell_type": "code",
   "execution_count": 91,
   "metadata": {},
   "outputs": [
    {
     "name": "stdout",
     "output_type": "stream",
     "text": [
      "[0 1 2 3 4 0 1 2 3 4]\n",
      "(array([0, 5]),)\n"
     ]
    },
    {
     "data": {
      "text/plain": [
       "0"
      ]
     },
     "execution_count": 91,
     "metadata": {},
     "output_type": "execute_result"
    }
   ],
   "source": [
    "len(conarr)\n",
    "print(conarr)\n",
    "ids = np.where(conarr == 0)\n",
    "print(ids)\n",
    "conarr[5]"
   ]
  },
  {
   "cell_type": "markdown",
   "metadata": {},
   "source": [
    "## next steps\n",
    "\n",
    "[X] fix pool command\n",
    "[X] enable labelling for augmented images\n",
    "- implement trivialaug\n",
    "- implement tests for my functions\n",
    "[X] write helper functions, to get all augmentation to one picture\n",
    "\n",
    "[] label randomly on augmented datasets"
   ]
  },
  {
   "cell_type": "markdown",
   "metadata": {},
   "source": []
  }
 ],
 "metadata": {
  "kernelspec": {
   "display_name": "Python 3.9.13 ('pytorch-mps')",
   "language": "python",
   "name": "python3"
  },
  "language_info": {
   "codemirror_mode": {
    "name": "ipython",
    "version": 3
   },
   "file_extension": ".py",
   "mimetype": "text/x-python",
   "name": "python",
   "nbconvert_exporter": "python",
   "pygments_lexer": "ipython3",
   "version": "3.9.13"
  },
  "orig_nbformat": 4,
  "vscode": {
   "interpreter": {
    "hash": "12aa715b2019dc95dc3d838a8ca22be187025798efd1043f241e41caa6c1ae3c"
   }
  }
 },
 "nbformat": 4,
 "nbformat_minor": 2
}
