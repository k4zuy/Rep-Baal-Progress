{
  "cells": [
    {
      "cell_type": "markdown",
      "metadata": {
        "id": "view-in-github",
        "colab_type": "text"
      },
      "source": [
        "<a href=\"https://colab.research.google.com/github/k4zuy/Rep-Baal-Progress/blob/main/Augmented/baal_testground.ipynb\" target=\"_parent\"><img src=\"https://colab.research.google.com/assets/colab-badge.svg\" alt=\"Open In Colab\"/></a>"
      ]
    },
    {
      "cell_type": "code",
      "source": [
        "!git clone https://github.com/ColinS97/BaaL_Experiments.git"
      ],
      "metadata": {
        "colab": {
          "base_uri": "https://localhost:8080/"
        },
        "id": "zxFxBdKDFGNs",
        "outputId": "5ddca86e-db30-4576-fa0b-bfa37fd66d01"
      },
      "execution_count": 1,
      "outputs": [
        {
          "output_type": "stream",
          "name": "stdout",
          "text": [
            "Cloning into 'BaaL_Experiments'...\n",
            "remote: Enumerating objects: 156, done.\u001b[K\n",
            "remote: Counting objects: 100% (156/156), done.\u001b[K\n",
            "remote: Compressing objects: 100% (104/104), done.\u001b[K\n",
            "remote: Total 156 (delta 92), reused 113 (delta 49), pack-reused 0\u001b[K\n",
            "Receiving objects: 100% (156/156), 172.19 KiB | 24.60 MiB/s, done.\n",
            "Resolving deltas: 100% (92/92), done.\n"
          ]
        }
      ]
    },
    {
      "cell_type": "code",
      "source": [
        "cd BaaL_Experiments"
      ],
      "metadata": {
        "colab": {
          "base_uri": "https://localhost:8080/"
        },
        "id": "gOFOgNucFRRh",
        "outputId": "72167c48-57c0-489f-b9ed-35973384aec7"
      },
      "execution_count": 2,
      "outputs": [
        {
          "output_type": "stream",
          "name": "stdout",
          "text": [
            "/content/BaaL_Experiments\n"
          ]
        }
      ]
    },
    {
      "cell_type": "code",
      "execution_count": 3,
      "metadata": {
        "colab": {
          "base_uri": "https://localhost:8080/",
          "height": 919
        },
        "id": "qm0gIztasQ0u",
        "outputId": "65446023-9b4f-4a44-a880-0c8ab9b0b7cc"
      },
      "outputs": [
        {
          "output_type": "stream",
          "name": "stdout",
          "text": [
            "Looking in indexes: https://pypi.org/simple, https://us-python.pkg.dev/colab-wheels/public/simple/\n",
            "Collecting baal\n",
            "  Downloading baal-1.7.0-py3-none-any.whl (61 kB)\n",
            "\u001b[K     |████████████████████████████████| 61 kB 299 kB/s \n",
            "\u001b[?25hRequirement already satisfied: Pillow>=6.2.0 in /usr/local/lib/python3.8/dist-packages (from baal) (7.1.2)\n",
            "Requirement already satisfied: scikit-learn<2.0.0,>=1.0.0 in /usr/local/lib/python3.8/dist-packages (from baal) (1.0.2)\n",
            "Requirement already satisfied: scipy<2.0.0,>=1.7.1 in /usr/local/lib/python3.8/dist-packages (from baal) (1.7.3)\n",
            "Collecting h5py<4.0.0,>=3.4.0\n",
            "  Downloading h5py-3.7.0-cp38-cp38-manylinux_2_12_x86_64.manylinux2010_x86_64.whl (4.5 MB)\n",
            "\u001b[K     |████████████████████████████████| 4.5 MB 57.7 MB/s \n",
            "\u001b[?25hRequirement already satisfied: tqdm<5.0.0,>=4.62.2 in /usr/local/lib/python3.8/dist-packages (from baal) (4.64.1)\n",
            "Collecting matplotlib<4.0.0,>=3.4.3\n",
            "  Downloading matplotlib-3.6.2-cp38-cp38-manylinux_2_12_x86_64.manylinux2010_x86_64.whl (9.4 MB)\n",
            "\u001b[K     |████████████████████████████████| 9.4 MB 59.5 MB/s \n",
            "\u001b[?25hRequirement already satisfied: torch>=1.6.0 in /usr/local/lib/python3.8/dist-packages (from baal) (1.13.0+cu116)\n",
            "Requirement already satisfied: numpy<2.0.0,>=1.21.2 in /usr/local/lib/python3.8/dist-packages (from baal) (1.21.6)\n",
            "Collecting torchmetrics<0.10.0,>=0.9.3\n",
            "  Downloading torchmetrics-0.9.3-py3-none-any.whl (419 kB)\n",
            "\u001b[K     |████████████████████████████████| 419 kB 59.6 MB/s \n",
            "\u001b[?25hCollecting structlog<22.0.0,>=21.1.0\n",
            "  Downloading structlog-21.5.0-py3-none-any.whl (53 kB)\n",
            "\u001b[K     |████████████████████████████████| 53 kB 2.2 MB/s \n",
            "\u001b[?25hCollecting contourpy>=1.0.1\n",
            "  Downloading contourpy-1.0.6-cp38-cp38-manylinux_2_17_x86_64.manylinux2014_x86_64.whl (295 kB)\n",
            "\u001b[K     |████████████████████████████████| 295 kB 77.2 MB/s \n",
            "\u001b[?25hRequirement already satisfied: kiwisolver>=1.0.1 in /usr/local/lib/python3.8/dist-packages (from matplotlib<4.0.0,>=3.4.3->baal) (1.4.4)\n",
            "Requirement already satisfied: python-dateutil>=2.7 in /usr/local/lib/python3.8/dist-packages (from matplotlib<4.0.0,>=3.4.3->baal) (2.8.2)\n",
            "Requirement already satisfied: pyparsing>=2.2.1 in /usr/local/lib/python3.8/dist-packages (from matplotlib<4.0.0,>=3.4.3->baal) (3.0.9)\n",
            "Collecting fonttools>=4.22.0\n",
            "  Downloading fonttools-4.38.0-py3-none-any.whl (965 kB)\n",
            "\u001b[K     |████████████████████████████████| 965 kB 67.4 MB/s \n",
            "\u001b[?25hRequirement already satisfied: cycler>=0.10 in /usr/local/lib/python3.8/dist-packages (from matplotlib<4.0.0,>=3.4.3->baal) (0.11.0)\n",
            "Requirement already satisfied: packaging>=20.0 in /usr/local/lib/python3.8/dist-packages (from matplotlib<4.0.0,>=3.4.3->baal) (21.3)\n",
            "Requirement already satisfied: six>=1.5 in /usr/local/lib/python3.8/dist-packages (from python-dateutil>=2.7->matplotlib<4.0.0,>=3.4.3->baal) (1.15.0)\n",
            "Requirement already satisfied: joblib>=0.11 in /usr/local/lib/python3.8/dist-packages (from scikit-learn<2.0.0,>=1.0.0->baal) (1.2.0)\n",
            "Requirement already satisfied: threadpoolctl>=2.0.0 in /usr/local/lib/python3.8/dist-packages (from scikit-learn<2.0.0,>=1.0.0->baal) (3.1.0)\n",
            "Requirement already satisfied: typing-extensions in /usr/local/lib/python3.8/dist-packages (from torch>=1.6.0->baal) (4.4.0)\n",
            "Installing collected packages: fonttools, contourpy, torchmetrics, structlog, matplotlib, h5py, baal\n",
            "  Attempting uninstall: matplotlib\n",
            "    Found existing installation: matplotlib 3.2.2\n",
            "    Uninstalling matplotlib-3.2.2:\n",
            "      Successfully uninstalled matplotlib-3.2.2\n",
            "  Attempting uninstall: h5py\n",
            "    Found existing installation: h5py 3.1.0\n",
            "    Uninstalling h5py-3.1.0:\n",
            "      Successfully uninstalled h5py-3.1.0\n",
            "Successfully installed baal-1.7.0 contourpy-1.0.6 fonttools-4.38.0 h5py-3.7.0 matplotlib-3.6.2 structlog-21.5.0 torchmetrics-0.9.3\n"
          ]
        },
        {
          "output_type": "display_data",
          "data": {
            "application/vnd.colab-display-data+json": {
              "pip_warning": {
                "packages": [
                  "matplotlib",
                  "mpl_toolkits"
                ]
              }
            }
          },
          "metadata": {}
        }
      ],
      "source": [
        "!pip install baal"
      ]
    },
    {
      "cell_type": "code",
      "execution_count": 4,
      "metadata": {
        "colab": {
          "base_uri": "https://localhost:8080/"
        },
        "id": "GTBZmsC63Gdf",
        "outputId": "0dbf4242-9610-4ec8-8425-fd9af23fa1ee"
      },
      "outputs": [
        {
          "output_type": "stream",
          "name": "stdout",
          "text": [
            "Looking in indexes: https://pypi.org/simple, https://us-python.pkg.dev/colab-wheels/public/simple/\n",
            "Requirement already satisfied: pillow in /usr/local/lib/python3.8/dist-packages (7.1.2)\n"
          ]
        }
      ],
      "source": [
        "!pip install pillow"
      ]
    },
    {
      "cell_type": "markdown",
      "metadata": {
        "id": "tAxArrrncATl"
      },
      "source": [
        "Required for Nvidia RTX 3060"
      ]
    },
    {
      "cell_type": "code",
      "execution_count": 5,
      "metadata": {
        "id": "p47nxvj_cATm"
      },
      "outputs": [],
      "source": [
        "#python -m pip install torch==1.13.0+cu117 torchvision==0.14.0+cu117 -f https://download.pytorch.org/whl/torch_stable.html"
      ]
    },
    {
      "cell_type": "markdown",
      "metadata": {
        "id": "0kp7yQ1ccATn"
      },
      "source": [
        "Required for Colab"
      ]
    },
    {
      "cell_type": "code",
      "execution_count": 6,
      "metadata": {
        "id": "oHo5LpZ1cATn",
        "colab": {
          "base_uri": "https://localhost:8080/",
          "height": 416
        },
        "outputId": "eb2815a4-e286-48dd-e552-ac504b3c5471"
      },
      "outputs": [
        {
          "output_type": "stream",
          "name": "stdout",
          "text": [
            "Looking in indexes: https://pypi.org/simple, https://us-python.pkg.dev/colab-wheels/public/simple/\n",
            "Collecting matplotlib==3.1.3\n",
            "  Downloading matplotlib-3.1.3-cp38-cp38-manylinux1_x86_64.whl (13.1 MB)\n",
            "\u001b[K     |████████████████████████████████| 13.1 MB 28.7 MB/s \n",
            "\u001b[?25hRequirement already satisfied: numpy>=1.11 in /usr/local/lib/python3.8/dist-packages (from matplotlib==3.1.3) (1.21.6)\n",
            "Requirement already satisfied: pyparsing!=2.0.4,!=2.1.2,!=2.1.6,>=2.0.1 in /usr/local/lib/python3.8/dist-packages (from matplotlib==3.1.3) (3.0.9)\n",
            "Requirement already satisfied: python-dateutil>=2.1 in /usr/local/lib/python3.8/dist-packages (from matplotlib==3.1.3) (2.8.2)\n",
            "Requirement already satisfied: kiwisolver>=1.0.1 in /usr/local/lib/python3.8/dist-packages (from matplotlib==3.1.3) (1.4.4)\n",
            "Requirement already satisfied: cycler>=0.10 in /usr/local/lib/python3.8/dist-packages (from matplotlib==3.1.3) (0.11.0)\n",
            "Requirement already satisfied: six>=1.5 in /usr/local/lib/python3.8/dist-packages (from python-dateutil>=2.1->matplotlib==3.1.3) (1.15.0)\n",
            "Installing collected packages: matplotlib\n",
            "  Attempting uninstall: matplotlib\n",
            "    Found existing installation: matplotlib 3.6.2\n",
            "    Uninstalling matplotlib-3.6.2:\n",
            "      Successfully uninstalled matplotlib-3.6.2\n",
            "\u001b[31mERROR: pip's dependency resolver does not currently take into account all the packages that are installed. This behaviour is the source of the following dependency conflicts.\n",
            "baal 1.7.0 requires matplotlib<4.0.0,>=3.4.3, but you have matplotlib 3.1.3 which is incompatible.\u001b[0m\n",
            "Successfully installed matplotlib-3.1.3\n"
          ]
        },
        {
          "output_type": "display_data",
          "data": {
            "application/vnd.colab-display-data+json": {
              "pip_warning": {
                "packages": [
                  "matplotlib",
                  "mpl_toolkits"
                ]
              }
            }
          },
          "metadata": {}
        }
      ],
      "source": [
        "!pip install matplotlib==3.1.3"
      ]
    },
    {
      "cell_type": "markdown",
      "metadata": {
        "id": "Ennb17Elsz0q"
      },
      "source": [
        "Imports"
      ]
    },
    {
      "cell_type": "code",
      "execution_count": 7,
      "metadata": {
        "id": "F6J7rQEls25O"
      },
      "outputs": [],
      "source": [
        "import argparse\n",
        "import random\n",
        "import csv\n",
        "from copy import deepcopy\n",
        "from time import time\n",
        "import datetime\n",
        "from dataclasses import dataclass\n",
        "import numpy as np\n",
        "import PIL\n",
        "import matplotlib.pyplot as plt\n",
        "\n",
        "import torch\n",
        "import torch.backends\n",
        "from torch import optim\n",
        "from torch.hub import load_state_dict_from_url\n",
        "from torch.nn import CrossEntropyLoss\n",
        "from torchvision import datasets\n",
        "from torchvision.models import vgg16\n",
        "from torchvision.transforms import transforms\n",
        "from tqdm import tqdm\n",
        "from torch import nn\n",
        "import torch.nn.functional as F\n",
        "\n",
        "from baal.active import get_heuristic, ActiveLearningDataset\n",
        "from baal.active.active_loop import ActiveLearningLoop\n",
        "from baal.bayesian.dropout import patch_module\n",
        "from baal import ModelWrapper\n",
        "from baal.utils.metrics import Accuracy\n",
        "from baal.active.heuristics import BALD\n",
        "from baal.active.dataset import ActiveLearningDataset\n",
        "\n",
        "import aug_lib\n",
        "\n",
        "from baal_extended.ExtendedActiveLearningDataset import ExtendedActiveLearningDataset"
      ]
    },
    {
      "cell_type": "code",
      "execution_count": 8,
      "metadata": {
        "id": "0Fub7s-Ws4QN"
      },
      "outputs": [],
      "source": [
        "@dataclass\n",
        "class ExperimentConfig:\n",
        "    epoch: int = 2\n",
        "    batch_size: int = 32\n",
        "    initial_pool: int = 1000\n",
        "    query_size: int = 100\n",
        "    lr: float = 0.001\n",
        "    heuristic: str = 'bald'\n",
        "    iterations: int = 40\n",
        "    training_duration: int = 10"
      ]
    },
    {
      "cell_type": "code",
      "execution_count": 9,
      "metadata": {
        "id": "f4EdJKuUtQGH"
      },
      "outputs": [],
      "source": [
        "def get_datasets(initial_pool, n_augmentations):\n",
        "    transform = transforms.Compose(\n",
        "        [\n",
        "            # transforms.Resize((224, 224)),\n",
        "            transforms.ToTensor(),\n",
        "            #transforms.Normalize(3 * [0.5], 3 * [0.5]),\n",
        "        ]\n",
        "    )\n",
        "    aug_transform = transforms.Compose(\n",
        "        [\n",
        "            # transforms.Resize((224, 224)),\n",
        "            aug_lib.TrivialAugment(),\n",
        "            transforms.ToTensor(),\n",
        "            #transforms.Normalize(3 * [0.5], 3 * [0.5]),\n",
        "        ]\n",
        "    )\n",
        "    test_transform = transforms.Compose(\n",
        "        [\n",
        "            # transforms.Resize((224, 224)),\n",
        "            transforms.ToTensor(),\n",
        "            #transforms.Normalize(3 * [0.5], 3 * [0.5]),\n",
        "        ]\n",
        "    )\n",
        "    # Note: We use the test set here as an example. You should make your own validation set.\n",
        "    train_ds = datasets.CIFAR10(\n",
        "        \".\", train=True, transform=transform, target_transform=None, download=True\n",
        "    )\n",
        "\n",
        "    aug_train_ds = datasets.CIFAR10(\n",
        "        \".\", train=True, transform=aug_transform, target_transform=None, download=True\n",
        "    )\n",
        "    test_set = datasets.CIFAR10(\n",
        "        \".\", train=False, transform=test_transform, target_transform=None, download=True\n",
        "    )\n",
        "    eald_set = ExtendedActiveLearningDataset(train_ds)\n",
        "\n",
        "    # active_set = ActiveLearningDataset(\n",
        "    #    train_ds, pool_specifics={\"transform\": test_transform}\n",
        "    # )\n",
        "    eald_set.augment_n_times(n_augmentations, augmented_dataset=aug_train_ds)\n",
        "    # We start labeling randomly.\n",
        "    eald_set.label_randomly(initial_pool)\n",
        "    return eald_set, test_set"
      ]
    },
    {
      "cell_type": "code",
      "execution_count": 10,
      "metadata": {
        "colab": {
          "base_uri": "https://localhost:8080/",
          "height": 153,
          "referenced_widgets": [
            "8556a2fdfdc5429a816c450ec3584e3f",
            "b044d9d8319e44bba11429ecad5552f7",
            "e7c58ef00ce14b688c7912f693d9f8ad",
            "9de450ebadb74e349eb65af5631dafee",
            "d373254113684385af6ff200ba25a054",
            "25ec7470d71d45e6b5ce5f4c82468e0e",
            "cd4fb03ccc1341048baaeecabf9357f2",
            "21d9891722bd43e5bea1bfe929b22cff",
            "59254358693e44d88281ed40dc88f417",
            "bb534d2cbd2347dab0d6d087ea1be197",
            "dcb8b6d46b4c4253813ffac84edc6336"
          ]
        },
        "id": "lMqh_MQGc8Jn",
        "outputId": "5c7c4ce9-7014-4833-8243-ef53dce192c0"
      },
      "outputs": [
        {
          "output_type": "stream",
          "name": "stdout",
          "text": [
            "Downloading https://www.cs.toronto.edu/~kriz/cifar-10-python.tar.gz to ./cifar-10-python.tar.gz\n"
          ]
        },
        {
          "output_type": "display_data",
          "data": {
            "text/plain": [
              "  0%|          | 0/170498071 [00:00<?, ?it/s]"
            ],
            "application/vnd.jupyter.widget-view+json": {
              "version_major": 2,
              "version_minor": 0,
              "model_id": "8556a2fdfdc5429a816c450ec3584e3f"
            }
          },
          "metadata": {}
        },
        {
          "output_type": "stream",
          "name": "stdout",
          "text": [
            "Extracting ./cifar-10-python.tar.gz to .\n",
            "Files already downloaded and verified\n",
            "Files already downloaded and verified\n",
            "orig len50000\n",
            "augmented n times0\n"
          ]
        }
      ],
      "source": [
        "hyperparams = ExperimentConfig()\n",
        "use_cuda = torch.cuda.is_available()\n",
        "torch.backends.cudnn.benchmark = True\n",
        "random.seed(1337)\n",
        "torch.manual_seed(1337)\n",
        "if not use_cuda:\n",
        "    print(\"warning, the experiments would take ages to run on cpu\")\n",
        "\n",
        "# Get datasets\n",
        "active_set, test_set = get_datasets(hyperparams.initial_pool,2)\n",
        "\n",
        "# Get our model.\n",
        "heuristic = get_heuristic(hyperparams.heuristic)\n",
        "criterion = CrossEntropyLoss()\n",
        "model = vgg16(num_classes=10)\n",
        "\n",
        "# change dropout layer to MCDropout\n",
        "model = patch_module(model)\n",
        "\n",
        "if use_cuda:\n",
        "    model.cuda()\n",
        "optimizer = optim.SGD(model.parameters(), lr=hyperparams.lr, momentum=0.9)\n",
        "\n",
        "# Wraps the model into a usable API.\n",
        "model = ModelWrapper(model, criterion)\n",
        "\n",
        "# for ActiveLearningLoop we use a smaller batchsize\n",
        "# since we will stack predictions to perform MCDropout.\n",
        "active_loop = ActiveLearningLoop(active_set,\n",
        "                                 model.predict_on_dataset,\n",
        "                                 heuristic,\n",
        "                                 hyperparams.query_size,\n",
        "                                 batch_size=1,\n",
        "                                 iterations=hyperparams.iterations,\n",
        "                                 use_cuda=use_cuda,\n",
        "                                 verbose=False)\n",
        "\n",
        "# We will reset the weights at each active learning step so we make a copy.\n",
        "init_weights = deepcopy(model.state_dict())"
      ]
    },
    {
      "cell_type": "code",
      "execution_count": 11,
      "metadata": {
        "colab": {
          "base_uri": "https://localhost:8080/"
        },
        "id": "gl3txf5TdYSV",
        "outputId": "abb82b7e-8411-4efd-9b33-98e7bb04682e"
      },
      "outputs": [
        {
          "output_type": "stream",
          "name": "stdout",
          "text": [
            "3000\n",
            "147000\n"
          ]
        }
      ],
      "source": [
        "print(active_set.n_labelled)\n",
        "print(active_set.n_unlabelled)"
      ]
    },
    {
      "cell_type": "code",
      "execution_count": 12,
      "metadata": {
        "colab": {
          "base_uri": "https://localhost:8080/"
        },
        "id": "6lCsTCwrdxHO",
        "outputId": "a4094ee1-7195-472d-98fd-7681c7388fc6"
      },
      "outputs": [
        {
          "output_type": "execute_result",
          "data": {
            "text/plain": [
              "array([     0,      1,      2, ..., 146997, 146998, 146999])"
            ]
          },
          "metadata": {},
          "execution_count": 12
        }
      ],
      "source": [
        "pool = active_set.pool\n",
        "indices = np.arange(len(pool))\n",
        "indices"
      ]
    },
    {
      "cell_type": "code",
      "execution_count": 13,
      "metadata": {
        "colab": {
          "base_uri": "https://localhost:8080/"
        },
        "id": "JGJtbMi9fj7Q",
        "outputId": "21308f69-3db0-4ef8-ae42-9b8723920418"
      },
      "outputs": [
        {
          "output_type": "stream",
          "name": "stdout",
          "text": [
            "[76-MainThread   ] [baal.modelwrapper:predict_on_dataset_generator:232] \u001b[2m2022-12-14T17:15:55.635259Z\u001b[0m [\u001b[32m\u001b[1minfo     \u001b[0m] \u001b[1mStart Predict                 \u001b[0m \u001b[36mdataset\u001b[0m=\u001b[35m147000\u001b[0m\n"
          ]
        },
        {
          "output_type": "stream",
          "name": "stderr",
          "text": [
            "/usr/local/lib/python3.8/dist-packages/torch/utils/data/dataloader.py:554: UserWarning: This DataLoader will create 4 worker processes in total. Our suggested max number of worker in current system is 2, which is smaller than what this DataLoader is going to create. Please be aware that excessive worker creation might get DataLoader running slow or even freeze, lower the worker number to avoid potential slowness/freeze if necessary.\n",
            "  warnings.warn(_create_warning_msg(\n"
          ]
        },
        {
          "output_type": "stream",
          "name": "stdout",
          "text": [
            "100%|██████████| 14700/14700 [10:00<00:00, 24.48it/s]\n"
          ]
        }
      ],
      "source": [
        "probs = model.predict_on_dataset(pool,batch_size=10,iterations=20,use_cuda=use_cuda)"
      ]
    },
    {
      "cell_type": "code",
      "execution_count": 14,
      "metadata": {
        "id": "XYNqQMVClCCB"
      },
      "outputs": [],
      "source": [
        "to_label, uncertainty = heuristic.get_ranks(probs) \n",
        "to_label = indices[np.array(to_label)]"
      ]
    },
    {
      "cell_type": "code",
      "execution_count": 15,
      "metadata": {
        "id": "uTDkWoxFmEzE",
        "outputId": "c05e0a43-da3d-4b79-f89e-34724a340199",
        "colab": {
          "base_uri": "https://localhost:8080/"
        }
      },
      "outputs": [
        {
          "output_type": "stream",
          "name": "stdout",
          "text": [
            "[4.2915344e-05 8.4877014e-05 7.4863434e-05 ... 6.9141388e-05 3.4332275e-05\n",
            " 6.4611435e-05]\n",
            "[ 51625 133971  68840 ...  61623  79225  98246]\n"
          ]
        }
      ],
      "source": [
        "print(uncertainty)\n",
        "print(to_label)"
      ]
    },
    {
      "cell_type": "code",
      "execution_count": 16,
      "metadata": {
        "id": "CBe5zUlPlPHi",
        "outputId": "34489788-06ef-44a7-b2d9-b2f8e944caa9",
        "colab": {
          "base_uri": "https://localhost:8080/"
        }
      },
      "outputs": [
        {
          "output_type": "stream",
          "name": "stdout",
          "text": [
            "größte uncertainty: 0.0002169609\n",
            "dazugehöriger Index: 51625\n"
          ]
        }
      ],
      "source": [
        "# größte uncertainty \n",
        "# (ix_global_img sowieso in to_label[0] aber for-Schleife für besseres Verständnis)\n",
        "# also to_label[0] == uncertainty[ix_global_img]\n",
        "u = 0\n",
        "ix_pool_img = 0\n",
        "for i in range(len(uncertainty)):\n",
        "  if(uncertainty[i]>u): \n",
        "    u = uncertainty[i]\n",
        "    ix_pool_img = i\n",
        "\n",
        "print(\"größte uncertainty: \" + str(u))\n",
        "print(\"dazugehöriger Index: \" + str(ix_pool_img))"
      ]
    },
    {
      "cell_type": "code",
      "execution_count": 17,
      "metadata": {
        "id": "dgwI-K4rl8ZY",
        "outputId": "76a49dc9-0ab3-4015-f5db-27686ab0943d",
        "colab": {
          "base_uri": "https://localhost:8080/"
        }
      },
      "outputs": [
        {
          "output_type": "execute_result",
          "data": {
            "text/plain": [
              "146999"
            ]
          },
          "metadata": {},
          "execution_count": 17
        }
      ],
      "source": [
        "# größter index\n",
        "l = 0\n",
        "for i in range(len(to_label)):\n",
        "  if(to_label[i]>l): l = to_label[i]\n",
        "\n",
        "l"
      ]
    },
    {
      "cell_type": "code",
      "execution_count": 18,
      "metadata": {
        "id": "BuZQ72USttFi",
        "outputId": "801af302-c2ed-44fc-91bf-587e0e915369",
        "colab": {
          "base_uri": "https://localhost:8080/"
        }
      },
      "outputs": [
        {
          "output_type": "stream",
          "name": "stdout",
          "text": [
            "[106690]\n",
            "52669\n"
          ]
        }
      ],
      "source": [
        "oracle_set_one = active_set._pool_to_oracle_index([104559])\n",
        "print(oracle_set_one)\n",
        "oracle_set_two = active_set._pool_to_oracle_index(to_label)\n",
        "print(oracle_set_two[0])\n",
        "#ix_global_img = oracle_set[0]\n",
        "#ix_global_img\n"
      ]
    },
    {
      "cell_type": "code",
      "execution_count": 19,
      "metadata": {
        "id": "lBYTBOe-1dGN"
      },
      "outputs": [],
      "source": [
        "oracle_set = active_set._pool_to_oracle_index(to_label)\n",
        "ix_global_img = oracle_set[5]\n",
        "ix_pool_img = to_label[5]"
      ]
    },
    {
      "cell_type": "code",
      "source": [
        "for i in range(0,9):\n",
        "  for j in range(0,9):\n",
        "    if j % 2 == 0:\n",
        "      print(f\"j: {j} gerade\")\n",
        "      break\n",
        "    else:\n",
        "      print(f\"j: {j} ungerade\")\n",
        "  else:\n",
        "    continue\n",
        "  break"
      ],
      "metadata": {
        "id": "m4WBGKcEsFgK",
        "outputId": "0ed813a3-efc3-450e-af7d-e31747adfc39",
        "colab": {
          "base_uri": "https://localhost:8080/"
        }
      },
      "execution_count": 36,
      "outputs": [
        {
          "output_type": "stream",
          "name": "stdout",
          "text": [
            "j: 0 gerade\n"
          ]
        }
      ]
    },
    {
      "cell_type": "code",
      "source": [
        "for i in range(len(oracle_set)):\n",
        "  print(f\"i: {i}\")\n",
        "  ix_global_img = oracle_set[i]\n",
        "  ix_pool_img = to_label[i]\n",
        "  pool_img = active_set.pool[ix_pool_img]\n",
        "  global_img = active_set._dataset[ix_global_img]\n",
        "\n",
        "  compare = torch.eq(global_img[0],pool_img[0])\n",
        "\n",
        "  for j in range(0,2):\n",
        "      for l in range(0,31):\n",
        "          for k in range(0,31):\n",
        "              if compare[j][l][k] == False:\n",
        "                  print(f\"Abweichung: compare[{j}][{l}][{k}]\")\n",
        "                  break\n",
        "              else:\n",
        "                print(f\"keine Abweichung: compare[{j}][{l}][{k}]\")\n",
        "          else:\n",
        "            continue  \n",
        "          break\n",
        "      else:\n",
        "        continue\n",
        "      break\n",
        "  else:\n",
        "    continue\n",
        "  break\n",
        "  print(\"keine Abweichung\")"
      ],
      "metadata": {
        "id": "lcRIFdiqocaQ",
        "outputId": "c435da86-1243-46e6-cd32-f0ab7f12c18f",
        "colab": {
          "base_uri": "https://localhost:8080/"
        }
      },
      "execution_count": 78,
      "outputs": [
        {
          "output_type": "stream",
          "name": "stdout",
          "text": [
            "i: 0\n",
            "Abweichung: compare[0][0][0]\n"
          ]
        }
      ]
    },
    {
      "cell_type": "code",
      "source": [
        "ix_global_img = oracle_set[0]\n",
        "ix_pool_img = to_label[0]\n",
        "pool_img = active_set.pool[ix_pool_img]\n",
        "global_img = active_set._dataset[ix_global_img]\n",
        "compare = torch.eq(global_img[0],pool_img[0])\n",
        "print(global_img[0][0][0][0])\n",
        "print(pool_img[0][0][0][0])\n",
        "print(str(compare[0][0][0]))\n",
        "print(pool_img[0])\n",
        "#plt.imshow(pool_img[0].permute(1, 2, 0).numpy())\n",
        "show((pool_img[0],global_img[0]))"
      ],
      "metadata": {
        "id": "qu5v7_QYtbOi",
        "outputId": "1ed4f25f-e4a6-4348-dee8-2e24f908c942",
        "colab": {
          "base_uri": "https://localhost:8080/",
          "height": 653
        }
      },
      "execution_count": 141,
      "outputs": [
        {
          "output_type": "stream",
          "name": "stdout",
          "text": [
            "tensor(0.)\n",
            "tensor(0.)\n",
            "tensor(True)\n",
            "tensor([[[0.0000, 1.0000, 0.9843,  ..., 0.9961, 0.9961, 0.9961],\n",
            "         [0.0000, 1.0000, 0.9843,  ..., 0.9961, 0.9961, 0.9961],\n",
            "         [0.0000, 1.0000, 0.9882,  ..., 1.0000, 1.0000, 1.0000],\n",
            "         ...,\n",
            "         [0.0000, 1.0000, 0.9961,  ..., 0.9020, 0.9922, 0.9922],\n",
            "         [0.0000, 1.0000, 0.9961,  ..., 0.9255, 0.9922, 0.9922],\n",
            "         [0.0000, 1.0000, 0.9961,  ..., 0.9569, 0.9843, 0.9882]],\n",
            "\n",
            "        [[0.0000, 1.0000, 0.9843,  ..., 0.9961, 0.9961, 0.9961],\n",
            "         [0.0000, 1.0000, 0.9843,  ..., 0.9961, 0.9961, 0.9961],\n",
            "         [0.0000, 1.0000, 0.9882,  ..., 1.0000, 1.0000, 1.0000],\n",
            "         ...,\n",
            "         [0.0000, 1.0000, 0.9961,  ..., 0.9098, 0.9961, 0.9922],\n",
            "         [0.0000, 1.0000, 0.9961,  ..., 0.9294, 0.9922, 0.9922],\n",
            "         [0.0000, 1.0000, 0.9961,  ..., 0.9569, 0.9843, 0.9882]],\n",
            "\n",
            "        [[0.0000, 1.0000, 0.9843,  ..., 0.9961, 0.9961, 0.9961],\n",
            "         [0.0000, 1.0000, 0.9843,  ..., 0.9961, 0.9961, 0.9961],\n",
            "         [0.0000, 1.0000, 0.9882,  ..., 1.0000, 1.0000, 1.0000],\n",
            "         ...,\n",
            "         [0.0000, 1.0000, 0.9961,  ..., 0.8667, 0.9961, 0.9922],\n",
            "         [0.0000, 1.0000, 0.9961,  ..., 0.9098, 0.9922, 0.9922],\n",
            "         [0.0000, 1.0000, 0.9961,  ..., 0.9569, 0.9843, 0.9882]]])\n"
          ]
        },
        {
          "output_type": "display_data",
          "data": {
            "text/plain": [
              "<Figure size 432x288 with 2 Axes>"
            ],
            "image/png": "[encoded data removed]"
          },
          "metadata": {
            "needs_background": "light"
          }
        }
      ]
    },
    {
      "cell_type": "code",
      "source": [
        "for i in range(len(oracle_set)):\n",
        "  if oracle_set[i] <= 49000:\n",
        "    v = oracle_set[i]\n",
        "    print(i)\n",
        "    print(oracle_set[i])\n",
        "    break"
      ],
      "metadata": {
        "colab": {
          "base_uri": "https://localhost:8080/"
        },
        "id": "NMBeS4di0PvM",
        "outputId": "c7db8524-b409-48d3-cb72-c239dae385bf"
      },
      "execution_count": 149,
      "outputs": [
        {
          "output_type": "stream",
          "name": "stdout",
          "text": [
            "4\n",
            "48958\n"
          ]
        }
      ]
    },
    {
      "cell_type": "code",
      "source": [
        "ix_global_img = oracle_set[v]\n",
        "ix_pool_img = to_label[v]\n",
        "pool_img = active_set.pool[ix_pool_img]\n",
        "global_img = active_set._dataset[ix_global_img]\n",
        "compare = torch.eq(global_img[0],pool_img[0])\n",
        "print(global_img[0][0][0][0])\n",
        "print(pool_img[0][0][0][0])\n",
        "print(str(compare[0][0][0]))\n",
        "print(pool_img[0])\n",
        "#plt.imshow(pool_img[0].permute(1, 2, 0).numpy())\n",
        "show((pool_img[0],global_img[0]))"
      ],
      "metadata": {
        "id": "aKSq24EF0hZD",
        "outputId": "5437151f-abc4-4930-c7e6-4381ebbc3d35",
        "colab": {
          "base_uri": "https://localhost:8080/",
          "height": 653
        }
      },
      "execution_count": 156,
      "outputs": [
        {
          "output_type": "stream",
          "name": "stdout",
          "text": [
            "tensor(0.4902)\n",
            "tensor(0.4902)\n",
            "tensor(True)\n",
            "tensor([[[0.4902, 0.5255, 0.5647,  ..., 0.6471, 0.6235, 0.5922],\n",
            "         [0.5098, 0.5451, 0.5804,  ..., 0.6549, 0.6235, 0.5922],\n",
            "         [0.5294, 0.5725, 0.6078,  ..., 0.6824, 0.6471, 0.6000],\n",
            "         ...,\n",
            "         [0.7725, 0.7922, 0.8118,  ..., 0.2157, 0.2706, 0.3020],\n",
            "         [0.7569, 0.7647, 0.7765,  ..., 0.2431, 0.2549, 0.2824],\n",
            "         [0.7412, 0.7490, 0.7647,  ..., 0.2588, 0.2392, 0.2667]],\n",
            "\n",
            "        [[0.4078, 0.4431, 0.4824,  ..., 0.5961, 0.5529, 0.5176],\n",
            "         [0.4235, 0.4627, 0.4941,  ..., 0.5961, 0.5529, 0.5176],\n",
            "         [0.4471, 0.4863, 0.5216,  ..., 0.6157, 0.5725, 0.5294],\n",
            "         ...,\n",
            "         [0.7176, 0.7294, 0.7490,  ..., 0.1725, 0.1725, 0.1922],\n",
            "         [0.6980, 0.7137, 0.7294,  ..., 0.1882, 0.1686, 0.1882],\n",
            "         [0.6824, 0.6980, 0.7176,  ..., 0.2039, 0.1608, 0.1804]],\n",
            "\n",
            "        [[0.3255, 0.3686, 0.4157,  ..., 0.5333, 0.4863, 0.4431],\n",
            "         [0.3490, 0.3961, 0.4353,  ..., 0.5333, 0.4902, 0.4471],\n",
            "         [0.3804, 0.4275, 0.4667,  ..., 0.5608, 0.5098, 0.4588],\n",
            "         ...,\n",
            "         [0.6471, 0.6588, 0.6784,  ..., 0.1294, 0.1373, 0.1569],\n",
            "         [0.6353, 0.6510, 0.6627,  ..., 0.1529, 0.1412, 0.1490],\n",
            "         [0.6235, 0.6353, 0.6549,  ..., 0.1686, 0.1333, 0.1412]]])\n"
          ]
        },
        {
          "output_type": "display_data",
          "data": {
            "text/plain": [
              "<Figure size 432x288 with 2 Axes>"
            ],
            "image/png": "[encoded data removed]"
          },
          "metadata": {
            "needs_background": "light"
          }
        }
      ]
    },
    {
      "cell_type": "code",
      "source": [],
      "metadata": {
        "id": "ZJ6Xn62S0WYr"
      },
      "execution_count": null,
      "outputs": []
    },
    {
      "cell_type": "code",
      "source": [
        "active_set._dataset[0]"
      ],
      "metadata": {
        "id": "jbqIZN8exDxD",
        "outputId": "fcf76c07-a0dd-49db-feec-b8d543241d1c",
        "colab": {
          "base_uri": "https://localhost:8080/"
        }
      },
      "execution_count": 132,
      "outputs": [
        {
          "output_type": "execute_result",
          "data": {
            "text/plain": [
              "(tensor([[[0.2314, 0.1686, 0.1961,  ..., 0.6196, 0.5961, 0.5804],\n",
              "          [0.0627, 0.0000, 0.0706,  ..., 0.4824, 0.4667, 0.4784],\n",
              "          [0.0980, 0.0627, 0.1922,  ..., 0.4627, 0.4706, 0.4275],\n",
              "          ...,\n",
              "          [0.8157, 0.7882, 0.7765,  ..., 0.6275, 0.2196, 0.2078],\n",
              "          [0.7059, 0.6784, 0.7294,  ..., 0.7216, 0.3804, 0.3255],\n",
              "          [0.6941, 0.6588, 0.7020,  ..., 0.8471, 0.5922, 0.4824]],\n",
              " \n",
              "         [[0.2431, 0.1804, 0.1882,  ..., 0.5176, 0.4902, 0.4863],\n",
              "          [0.0784, 0.0000, 0.0314,  ..., 0.3451, 0.3255, 0.3412],\n",
              "          [0.0941, 0.0275, 0.1059,  ..., 0.3294, 0.3294, 0.2863],\n",
              "          ...,\n",
              "          [0.6667, 0.6000, 0.6314,  ..., 0.5216, 0.1216, 0.1333],\n",
              "          [0.5451, 0.4824, 0.5647,  ..., 0.5804, 0.2431, 0.2078],\n",
              "          [0.5647, 0.5059, 0.5569,  ..., 0.7216, 0.4627, 0.3608]],\n",
              " \n",
              "         [[0.2471, 0.1765, 0.1686,  ..., 0.4235, 0.4000, 0.4039],\n",
              "          [0.0784, 0.0000, 0.0000,  ..., 0.2157, 0.1961, 0.2235],\n",
              "          [0.0824, 0.0000, 0.0314,  ..., 0.1961, 0.1961, 0.1647],\n",
              "          ...,\n",
              "          [0.3765, 0.1333, 0.1020,  ..., 0.2745, 0.0275, 0.0784],\n",
              "          [0.3765, 0.1647, 0.1176,  ..., 0.3686, 0.1333, 0.1333],\n",
              "          [0.4549, 0.3686, 0.3412,  ..., 0.5490, 0.3294, 0.2824]]]), 6)"
            ]
          },
          "metadata": {},
          "execution_count": 132
        }
      ]
    },
    {
      "cell_type": "code",
      "execution_count": null,
      "metadata": {
        "id": "3xFItpa8ziIk"
      },
      "outputs": [],
      "source": [
        "pool_img = active_set.pool[ix_pool_img]\n",
        "global_img = active_set._dataset[ix_global_img]\n",
        "#global_img = active_set._dataset[ix_global_img]"
      ]
    },
    {
      "cell_type": "code",
      "source": [
        "print(pool_img)"
      ],
      "metadata": {
        "id": "-PvDUD5JcGXh"
      },
      "execution_count": null,
      "outputs": []
    },
    {
      "cell_type": "code",
      "source": [
        "tensors_global = []\n",
        "tensors_pool = []\n",
        "\n",
        "for i in range(2):\n",
        "  pool_img = active_set.pool[ix_pool_img]\n",
        "  global_img = active_set._dataset[ix_global_img]\n",
        "  tensors_pool.append(pool_img)\n",
        "  tensors_global.append(global_img)\n",
        "\n",
        "\n",
        "print(torch.eq(tensors_pool[0][0],tensors_pool[1][0]))\n",
        "print(torch.eq(tensors_global[0][0],tensors_global[1][0]))"
      ],
      "metadata": {
        "id": "AuOer0jwMqLA"
      },
      "execution_count": null,
      "outputs": []
    },
    {
      "cell_type": "code",
      "execution_count": 135,
      "metadata": {
        "id": "BQjx4ye6cATt"
      },
      "outputs": [],
      "source": [
        "def show(imgs):\n",
        "    fix, axs = plt.subplots(ncols=len(imgs), squeeze=False)\n",
        "    for i, img in enumerate(imgs):\n",
        "        img = transforms.ToPILImage()(img.to('cpu'))\n",
        "        axs[0, i].imshow(np.asarray(img))\n",
        "        #axs[0, i].set(xticklabels=[], yticklabels=[], xticks=[], yticks=[])"
      ]
    },
    {
      "cell_type": "markdown",
      "metadata": {
        "id": "Hs4OKRamcATt"
      },
      "source": [
        "Bilder mit Normalisierung -> verzerrte Farben"
      ]
    },
    {
      "cell_type": "code",
      "execution_count": null,
      "metadata": {
        "id": "ADZWj-AkcATt"
      },
      "outputs": [],
      "source": [
        "show((pool_img[0],global_img[0]))"
      ]
    },
    {
      "cell_type": "code",
      "source": [
        "torch.eq(global_img[0],pool_img[0])"
      ],
      "metadata": {
        "id": "DQadpo4DLJhg"
      },
      "execution_count": null,
      "outputs": []
    },
    {
      "cell_type": "code",
      "source": [
        "compare = torch.eq(global_img[0],pool_img[0])\n",
        "\n",
        "for i in range(0,2):\n",
        "  for l in range(0,31):\n",
        "    for k in range(0,31):\n",
        "      if compare[i][l][k] == False:\n",
        "        print(f\"compare[{i}][{l}][{k}]\")"
      ],
      "metadata": {
        "id": "xaIVy0C6KSk9"
      },
      "execution_count": null,
      "outputs": []
    },
    {
      "cell_type": "code",
      "source": [
        "torch.abs(global_img[0] - pool_img[0])"
      ],
      "metadata": {
        "id": "byKb-UFhLNk2"
      },
      "execution_count": null,
      "outputs": []
    },
    {
      "cell_type": "markdown",
      "metadata": {
        "id": "1k6tSZwycATu"
      },
      "source": [
        "Normalisierung umgekehrt"
      ]
    },
    {
      "cell_type": "code",
      "execution_count": null,
      "metadata": {
        "id": "wQlQ0uq0cATu"
      },
      "outputs": [],
      "source": [
        "invTrans = transforms.Compose([ transforms.Normalize(mean = [ 0., 0., 0. ], std = [ 1/0.5, 1/0.5, 1/0.5 ]),\n",
        "                                transforms.Normalize(mean = [ -0.5, -0.5, -0.5 ],std = [ 1., 1., 1. ]),\n",
        "                               ])"
      ]
    },
    {
      "cell_type": "code",
      "execution_count": null,
      "metadata": {
        "id": "rX9dsYngcATu"
      },
      "outputs": [],
      "source": [
        "show((invTrans(pool_img[0]),invTrans(global_img[0])))"
      ]
    },
    {
      "cell_type": "code",
      "source": [
        "plt.imshow(invTrans(pool_img[0]).permute(1, 2, 0).numpy())"
      ],
      "metadata": {
        "id": "A-3uwU6gKfaP"
      },
      "execution_count": null,
      "outputs": []
    },
    {
      "cell_type": "code",
      "source": [
        "plt.imshow(invTrans(global_img[0]).permute(1, 2, 0).numpy())"
      ],
      "metadata": {
        "id": "qeSL_IgtKwF4"
      },
      "execution_count": null,
      "outputs": []
    },
    {
      "cell_type": "code",
      "execution_count": null,
      "metadata": {
        "id": "Lado0v6jcATu"
      },
      "outputs": [],
      "source": [
        "torch.eq(invTrans(pool_img[0]),invTrans(global_img[0]))"
      ]
    },
    {
      "cell_type": "code",
      "source": [
        "torch.abs(invTrans(pool_img[0]) - invTrans(global_img[0]))"
      ],
      "metadata": {
        "id": "eYr5f2U0g496"
      },
      "execution_count": null,
      "outputs": []
    },
    {
      "cell_type": "markdown",
      "metadata": {
        "id": "5skzJda1wyKw"
      },
      "source": [
        "Versuche herauszufinden was folgende Zeile genau macht und wieso aber bisher erfolglos"
      ]
    },
    {
      "cell_type": "code",
      "execution_count": null,
      "metadata": {
        "id": "EbLsD0KRudcz"
      },
      "outputs": [],
      "source": [
        "to_label_two = indices[np.array(to_label)]\n",
        "to_label_two"
      ]
    },
    {
      "cell_type": "code",
      "execution_count": null,
      "metadata": {
        "id": "dfE6M1kzvmrW"
      },
      "outputs": [],
      "source": [
        "print(type(to_label))\n",
        "print(type(to_label_two))\n",
        "print(len(to_label))\n",
        "print(len(to_label_two))"
      ]
    },
    {
      "cell_type": "code",
      "execution_count": null,
      "metadata": {
        "id": "5Uvvx1hSv83C"
      },
      "outputs": [],
      "source": [
        "indices[np.array(to_label)]"
      ]
    },
    {
      "cell_type": "code",
      "execution_count": null,
      "metadata": {
        "id": "PTPPy2Y_uC1S"
      },
      "outputs": [],
      "source": [
        "t = np.array([3,7,1,4])\n",
        "t"
      ]
    },
    {
      "cell_type": "code",
      "execution_count": null,
      "metadata": {
        "id": "_pMocpOivMa6"
      },
      "outputs": [],
      "source": []
    }
  ],
  "metadata": {
    "accelerator": "GPU",
    "colab": {
      "provenance": [],
      "include_colab_link": true
    },
    "gpuClass": "standard",
    "kernelspec": {
      "display_name": "Python 3.10.8 ('env_baal')",
      "language": "python",
      "name": "python3"
    },
    "language_info": {
      "codemirror_mode": {
        "name": "ipython",
        "version": 3
      },
      "file_extension": ".py",
      "mimetype": "text/x-python",
      "name": "python",
      "nbconvert_exporter": "python",
      "pygments_lexer": "ipython3",
      "version": "3.10.8"
    },
    "vscode": {
      "interpreter": {
        "hash": "4fdcf6f5482bb78b036200e55cbf923ad015f8ef81f424b9c55d1aa8e1bbdb78"
      }
    },
    "widgets": {
      "application/vnd.jupyter.widget-state+json": {
        "8556a2fdfdc5429a816c450ec3584e3f": {
          "model_module": "@jupyter-widgets/controls",
          "model_name": "HBoxModel",
          "model_module_version": "1.5.0",
          "state": {
            "_dom_classes": [],
            "_model_module": "@jupyter-widgets/controls",
            "_model_module_version": "1.5.0",
            "_model_name": "HBoxModel",
            "_view_count": null,
            "_view_module": "@jupyter-widgets/controls",
            "_view_module_version": "1.5.0",
            "_view_name": "HBoxView",
            "box_style": "",
            "children": [
              "IPY_MODEL_b044d9d8319e44bba11429ecad5552f7",
              "IPY_MODEL_e7c58ef00ce14b688c7912f693d9f8ad",
              "IPY_MODEL_9de450ebadb74e349eb65af5631dafee"
            ],
            "layout": "IPY_MODEL_d373254113684385af6ff200ba25a054"
          }
        },
        "b044d9d8319e44bba11429ecad5552f7": {
          "model_module": "@jupyter-widgets/controls",
          "model_name": "HTMLModel",
          "model_module_version": "1.5.0",
          "state": {
            "_dom_classes": [],
            "_model_module": "@jupyter-widgets/controls",
            "_model_module_version": "1.5.0",
            "_model_name": "HTMLModel",
            "_view_count": null,
            "_view_module": "@jupyter-widgets/controls",
            "_view_module_version": "1.5.0",
            "_view_name": "HTMLView",
            "description": "",
            "description_tooltip": null,
            "layout": "IPY_MODEL_25ec7470d71d45e6b5ce5f4c82468e0e",
            "placeholder": "​",
            "style": "IPY_MODEL_cd4fb03ccc1341048baaeecabf9357f2",
            "value": "100%"
          }
        },
        "e7c58ef00ce14b688c7912f693d9f8ad": {
          "model_module": "@jupyter-widgets/controls",
          "model_name": "FloatProgressModel",
          "model_module_version": "1.5.0",
          "state": {
            "_dom_classes": [],
            "_model_module": "@jupyter-widgets/controls",
            "_model_module_version": "1.5.0",
            "_model_name": "FloatProgressModel",
            "_view_count": null,
            "_view_module": "@jupyter-widgets/controls",
            "_view_module_version": "1.5.0",
            "_view_name": "ProgressView",
            "bar_style": "success",
            "description": "",
            "description_tooltip": null,
            "layout": "IPY_MODEL_21d9891722bd43e5bea1bfe929b22cff",
            "max": 170498071,
            "min": 0,
            "orientation": "horizontal",
            "style": "IPY_MODEL_59254358693e44d88281ed40dc88f417",
            "value": 170498071
          }
        },
        "9de450ebadb74e349eb65af5631dafee": {
          "model_module": "@jupyter-widgets/controls",
          "model_name": "HTMLModel",
          "model_module_version": "1.5.0",
          "state": {
            "_dom_classes": [],
            "_model_module": "@jupyter-widgets/controls",
            "_model_module_version": "1.5.0",
            "_model_name": "HTMLModel",
            "_view_count": null,
            "_view_module": "@jupyter-widgets/controls",
            "_view_module_version": "1.5.0",
            "_view_name": "HTMLView",
            "description": "",
            "description_tooltip": null,
            "layout": "IPY_MODEL_bb534d2cbd2347dab0d6d087ea1be197",
            "placeholder": "​",
            "style": "IPY_MODEL_dcb8b6d46b4c4253813ffac84edc6336",
            "value": " 170498071/170498071 [00:01&lt;00:00, 80144836.03it/s]"
          }
        },
        "d373254113684385af6ff200ba25a054": {
          "model_module": "@jupyter-widgets/base",
          "model_name": "LayoutModel",
          "model_module_version": "1.2.0",
          "state": {
            "_model_module": "@jupyter-widgets/base",
            "_model_module_version": "1.2.0",
            "_model_name": "LayoutModel",
            "_view_count": null,
            "_view_module": "@jupyter-widgets/base",
            "_view_module_version": "1.2.0",
            "_view_name": "LayoutView",
            "align_content": null,
            "align_items": null,
            "align_self": null,
            "border": null,
            "bottom": null,
            "display": null,
            "flex": null,
            "flex_flow": null,
            "grid_area": null,
            "grid_auto_columns": null,
            "grid_auto_flow": null,
            "grid_auto_rows": null,
            "grid_column": null,
            "grid_gap": null,
            "grid_row": null,
            "grid_template_areas": null,
            "grid_template_columns": null,
            "grid_template_rows": null,
            "height": null,
            "justify_content": null,
            "justify_items": null,
            "left": null,
            "margin": null,
            "max_height": null,
            "max_width": null,
            "min_height": null,
            "min_width": null,
            "object_fit": null,
            "object_position": null,
            "order": null,
            "overflow": null,
            "overflow_x": null,
            "overflow_y": null,
            "padding": null,
            "right": null,
            "top": null,
            "visibility": null,
            "width": null
          }
        },
        "25ec7470d71d45e6b5ce5f4c82468e0e": {
          "model_module": "@jupyter-widgets/base",
          "model_name": "LayoutModel",
          "model_module_version": "1.2.0",
          "state": {
            "_model_module": "@jupyter-widgets/base",
            "_model_module_version": "1.2.0",
            "_model_name": "LayoutModel",
            "_view_count": null,
            "_view_module": "@jupyter-widgets/base",
            "_view_module_version": "1.2.0",
            "_view_name": "LayoutView",
            "align_content": null,
            "align_items": null,
            "align_self": null,
            "border": null,
            "bottom": null,
            "display": null,
            "flex": null,
            "flex_flow": null,
            "grid_area": null,
            "grid_auto_columns": null,
            "grid_auto_flow": null,
            "grid_auto_rows": null,
            "grid_column": null,
            "grid_gap": null,
            "grid_row": null,
            "grid_template_areas": null,
            "grid_template_columns": null,
            "grid_template_rows": null,
            "height": null,
            "justify_content": null,
            "justify_items": null,
            "left": null,
            "margin": null,
            "max_height": null,
            "max_width": null,
            "min_height": null,
            "min_width": null,
            "object_fit": null,
            "object_position": null,
            "order": null,
            "overflow": null,
            "overflow_x": null,
            "overflow_y": null,
            "padding": null,
            "right": null,
            "top": null,
            "visibility": null,
            "width": null
          }
        },
        "cd4fb03ccc1341048baaeecabf9357f2": {
          "model_module": "@jupyter-widgets/controls",
          "model_name": "DescriptionStyleModel",
          "model_module_version": "1.5.0",
          "state": {
            "_model_module": "@jupyter-widgets/controls",
            "_model_module_version": "1.5.0",
            "_model_name": "DescriptionStyleModel",
            "_view_count": null,
            "_view_module": "@jupyter-widgets/base",
            "_view_module_version": "1.2.0",
            "_view_name": "StyleView",
            "description_width": ""
          }
        },
        "21d9891722bd43e5bea1bfe929b22cff": {
          "model_module": "@jupyter-widgets/base",
          "model_name": "LayoutModel",
          "model_module_version": "1.2.0",
          "state": {
            "_model_module": "@jupyter-widgets/base",
            "_model_module_version": "1.2.0",
            "_model_name": "LayoutModel",
            "_view_count": null,
            "_view_module": "@jupyter-widgets/base",
            "_view_module_version": "1.2.0",
            "_view_name": "LayoutView",
            "align_content": null,
            "align_items": null,
            "align_self": null,
            "border": null,
            "bottom": null,
            "display": null,
            "flex": null,
            "flex_flow": null,
            "grid_area": null,
            "grid_auto_columns": null,
            "grid_auto_flow": null,
            "grid_auto_rows": null,
            "grid_column": null,
            "grid_gap": null,
            "grid_row": null,
            "grid_template_areas": null,
            "grid_template_columns": null,
            "grid_template_rows": null,
            "height": null,
            "justify_content": null,
            "justify_items": null,
            "left": null,
            "margin": null,
            "max_height": null,
            "max_width": null,
            "min_height": null,
            "min_width": null,
            "object_fit": null,
            "object_position": null,
            "order": null,
            "overflow": null,
            "overflow_x": null,
            "overflow_y": null,
            "padding": null,
            "right": null,
            "top": null,
            "visibility": null,
            "width": null
          }
        },
        "59254358693e44d88281ed40dc88f417": {
          "model_module": "@jupyter-widgets/controls",
          "model_name": "ProgressStyleModel",
          "model_module_version": "1.5.0",
          "state": {
            "_model_module": "@jupyter-widgets/controls",
            "_model_module_version": "1.5.0",
            "_model_name": "ProgressStyleModel",
            "_view_count": null,
            "_view_module": "@jupyter-widgets/base",
            "_view_module_version": "1.2.0",
            "_view_name": "StyleView",
            "bar_color": null,
            "description_width": ""
          }
        },
        "bb534d2cbd2347dab0d6d087ea1be197": {
          "model_module": "@jupyter-widgets/base",
          "model_name": "LayoutModel",
          "model_module_version": "1.2.0",
          "state": {
            "_model_module": "@jupyter-widgets/base",
            "_model_module_version": "1.2.0",
            "_model_name": "LayoutModel",
            "_view_count": null,
            "_view_module": "@jupyter-widgets/base",
            "_view_module_version": "1.2.0",
            "_view_name": "LayoutView",
            "align_content": null,
            "align_items": null,
            "align_self": null,
            "border": null,
            "bottom": null,
            "display": null,
            "flex": null,
            "flex_flow": null,
            "grid_area": null,
            "grid_auto_columns": null,
            "grid_auto_flow": null,
            "grid_auto_rows": null,
            "grid_column": null,
            "grid_gap": null,
            "grid_row": null,
            "grid_template_areas": null,
            "grid_template_columns": null,
            "grid_template_rows": null,
            "height": null,
            "justify_content": null,
            "justify_items": null,
            "left": null,
            "margin": null,
            "max_height": null,
            "max_width": null,
            "min_height": null,
            "min_width": null,
            "object_fit": null,
            "object_position": null,
            "order": null,
            "overflow": null,
            "overflow_x": null,
            "overflow_y": null,
            "padding": null,
            "right": null,
            "top": null,
            "visibility": null,
            "width": null
          }
        },
        "dcb8b6d46b4c4253813ffac84edc6336": {
          "model_module": "@jupyter-widgets/controls",
          "model_name": "DescriptionStyleModel",
          "model_module_version": "1.5.0",
          "state": {
            "_model_module": "@jupyter-widgets/controls",
            "_model_module_version": "1.5.0",
            "_model_name": "DescriptionStyleModel",
            "_view_count": null,
            "_view_module": "@jupyter-widgets/base",
            "_view_module_version": "1.2.0",
            "_view_name": "StyleView",
            "description_width": ""
          }
        }
      }
    }
  },
  "nbformat": 4,
  "nbformat_minor": 0
}