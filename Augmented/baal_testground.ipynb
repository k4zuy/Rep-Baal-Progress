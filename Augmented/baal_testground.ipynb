{
  "cells": [
    {
      "cell_type": "markdown",
      "metadata": {
        "id": "view-in-github",
        "colab_type": "text"
      },
      "source": [
        "<a href=\"https://colab.research.google.com/github/k4zuy/Rep-Baal-Progress/blob/main/Augmented/baal_testground.ipynb\" target=\"_parent\"><img src=\"https://colab.research.google.com/assets/colab-badge.svg\" alt=\"Open In Colab\"/></a>"
      ]
    },
    {
      "cell_type": "code",
      "source": [
        "!git clone https://github.com/ColinS97/BaaL_Experiments.git"
      ],
      "metadata": {
        "id": "zxFxBdKDFGNs",
        "outputId": "584bc899-f8d8-41ea-d34c-c23c5a8323f1",
        "colab": {
          "base_uri": "https://localhost:8080/"
        }
      },
      "execution_count": 1,
      "outputs": [
        {
          "output_type": "stream",
          "name": "stdout",
          "text": [
            "Cloning into 'BaaL_Experiments'...\n",
            "remote: Enumerating objects: 148, done.\u001b[K\n",
            "remote: Counting objects: 100% (148/148), done.\u001b[K\n",
            "remote: Compressing objects: 100% (97/97), done.\u001b[K\n",
            "remote: Total 148 (delta 88), reused 108 (delta 48), pack-reused 0\u001b[K\n",
            "Receiving objects: 100% (148/148), 170.61 KiB | 14.22 MiB/s, done.\n",
            "Resolving deltas: 100% (88/88), done.\n"
          ]
        }
      ]
    },
    {
      "cell_type": "code",
      "source": [
        "cd BaaL_Experiments"
      ],
      "metadata": {
        "id": "gOFOgNucFRRh",
        "outputId": "a1c84137-28b6-4c23-dec6-5917bdd83447",
        "colab": {
          "base_uri": "https://localhost:8080/"
        }
      },
      "execution_count": 2,
      "outputs": [
        {
          "output_type": "stream",
          "name": "stdout",
          "text": [
            "/content/BaaL_Experiments\n"
          ]
        }
      ]
    },
    {
      "cell_type": "code",
      "execution_count": 3,
      "metadata": {
        "colab": {
          "base_uri": "https://localhost:8080/",
          "height": 815
        },
        "id": "qm0gIztasQ0u",
        "outputId": "b51de318-b09e-4764-de4e-66f28d19fd36"
      },
      "outputs": [
        {
          "output_type": "stream",
          "name": "stdout",
          "text": [
            "Looking in indexes: https://pypi.org/simple, https://us-python.pkg.dev/colab-wheels/public/simple/\n",
            "Collecting baal\n",
            "  Downloading baal-1.6.0-py3-none-any.whl (59 kB)\n",
            "\u001b[K     |████████████████████████████████| 59 kB 5.6 MB/s \n",
            "\u001b[?25hRequirement already satisfied: scikit-learn<2.0.0,>=1.0.0 in /usr/local/lib/python3.7/dist-packages (from baal) (1.0.2)\n",
            "Requirement already satisfied: torch>=1.6.0 in /usr/local/lib/python3.7/dist-packages (from baal) (1.12.1+cu113)\n",
            "Collecting h5py<4.0.0,>=3.4.0\n",
            "  Downloading h5py-3.7.0-cp37-cp37m-manylinux_2_12_x86_64.manylinux2010_x86_64.whl (4.1 MB)\n",
            "\u001b[K     |████████████████████████████████| 4.1 MB 26.3 MB/s \n",
            "\u001b[?25hRequirement already satisfied: tqdm<5.0.0,>=4.62.2 in /usr/local/lib/python3.7/dist-packages (from baal) (4.64.1)\n",
            "Collecting matplotlib<4.0.0,>=3.4.3\n",
            "  Downloading matplotlib-3.5.3-cp37-cp37m-manylinux_2_5_x86_64.manylinux1_x86_64.whl (11.2 MB)\n",
            "\u001b[K     |████████████████████████████████| 11.2 MB 60.4 MB/s \n",
            "\u001b[?25hRequirement already satisfied: scipy<2.0.0,>=1.7.1 in /usr/local/lib/python3.7/dist-packages (from baal) (1.7.3)\n",
            "Collecting structlog<22.0.0,>=21.1.0\n",
            "  Downloading structlog-21.5.0-py3-none-any.whl (53 kB)\n",
            "\u001b[K     |████████████████████████████████| 53 kB 2.4 MB/s \n",
            "\u001b[?25hRequirement already satisfied: Pillow>=6.2.0 in /usr/local/lib/python3.7/dist-packages (from baal) (7.1.2)\n",
            "Requirement already satisfied: numpy<2.0.0,>=1.21.2 in /usr/local/lib/python3.7/dist-packages (from baal) (1.21.6)\n",
            "Requirement already satisfied: python-dateutil>=2.7 in /usr/local/lib/python3.7/dist-packages (from matplotlib<4.0.0,>=3.4.3->baal) (2.8.2)\n",
            "Requirement already satisfied: cycler>=0.10 in /usr/local/lib/python3.7/dist-packages (from matplotlib<4.0.0,>=3.4.3->baal) (0.11.0)\n",
            "Requirement already satisfied: kiwisolver>=1.0.1 in /usr/local/lib/python3.7/dist-packages (from matplotlib<4.0.0,>=3.4.3->baal) (1.4.4)\n",
            "Requirement already satisfied: packaging>=20.0 in /usr/local/lib/python3.7/dist-packages (from matplotlib<4.0.0,>=3.4.3->baal) (21.3)\n",
            "Requirement already satisfied: pyparsing>=2.2.1 in /usr/local/lib/python3.7/dist-packages (from matplotlib<4.0.0,>=3.4.3->baal) (3.0.9)\n",
            "Collecting fonttools>=4.22.0\n",
            "  Downloading fonttools-4.38.0-py3-none-any.whl (965 kB)\n",
            "\u001b[K     |████████████████████████████████| 965 kB 58.0 MB/s \n",
            "\u001b[?25hRequirement already satisfied: typing-extensions in /usr/local/lib/python3.7/dist-packages (from kiwisolver>=1.0.1->matplotlib<4.0.0,>=3.4.3->baal) (4.1.1)\n",
            "Requirement already satisfied: six>=1.5 in /usr/local/lib/python3.7/dist-packages (from python-dateutil>=2.7->matplotlib<4.0.0,>=3.4.3->baal) (1.15.0)\n",
            "Requirement already satisfied: threadpoolctl>=2.0.0 in /usr/local/lib/python3.7/dist-packages (from scikit-learn<2.0.0,>=1.0.0->baal) (3.1.0)\n",
            "Requirement already satisfied: joblib>=0.11 in /usr/local/lib/python3.7/dist-packages (from scikit-learn<2.0.0,>=1.0.0->baal) (1.2.0)\n",
            "Installing collected packages: fonttools, structlog, matplotlib, h5py, baal\n",
            "  Attempting uninstall: matplotlib\n",
            "    Found existing installation: matplotlib 3.2.2\n",
            "    Uninstalling matplotlib-3.2.2:\n",
            "      Successfully uninstalled matplotlib-3.2.2\n",
            "  Attempting uninstall: h5py\n",
            "    Found existing installation: h5py 3.1.0\n",
            "    Uninstalling h5py-3.1.0:\n",
            "      Successfully uninstalled h5py-3.1.0\n",
            "Successfully installed baal-1.6.0 fonttools-4.38.0 h5py-3.7.0 matplotlib-3.5.3 structlog-21.5.0\n"
          ]
        },
        {
          "output_type": "display_data",
          "data": {
            "application/vnd.colab-display-data+json": {
              "pip_warning": {
                "packages": [
                  "matplotlib",
                  "mpl_toolkits"
                ]
              }
            }
          },
          "metadata": {}
        }
      ],
      "source": [
        "!pip install baal"
      ]
    },
    {
      "cell_type": "code",
      "execution_count": null,
      "metadata": {
        "colab": {
          "base_uri": "https://localhost:8080/"
        },
        "id": "GTBZmsC63Gdf",
        "outputId": "0a1742bc-0a20-4051-8b35-f0da44089869"
      },
      "outputs": [
        {
          "output_type": "stream",
          "name": "stdout",
          "text": [
            "Looking in indexes: https://pypi.org/simple, https://us-python.pkg.dev/colab-wheels/public/simple/\n",
            "Requirement already satisfied: pillow in /usr/local/lib/python3.7/dist-packages (7.1.2)\n"
          ]
        }
      ],
      "source": [
        "!pip install pillow"
      ]
    },
    {
      "cell_type": "markdown",
      "metadata": {
        "id": "tAxArrrncATl"
      },
      "source": [
        "Required for Nvidia RTX 3060"
      ]
    },
    {
      "cell_type": "code",
      "execution_count": null,
      "metadata": {
        "id": "p47nxvj_cATm"
      },
      "outputs": [],
      "source": [
        "#python -m pip install torch==1.13.0+cu117 torchvision==0.14.0+cu117 -f https://download.pytorch.org/whl/torch_stable.html"
      ]
    },
    {
      "cell_type": "markdown",
      "metadata": {
        "id": "0kp7yQ1ccATn"
      },
      "source": [
        "Required for Colab"
      ]
    },
    {
      "cell_type": "code",
      "execution_count": 21,
      "metadata": {
        "id": "oHo5LpZ1cATn",
        "outputId": "966f0684-95db-4ed2-c655-72d881245f83",
        "colab": {
          "base_uri": "https://localhost:8080/",
          "height": 433
        }
      },
      "outputs": [
        {
          "output_type": "stream",
          "name": "stdout",
          "text": [
            "Looking in indexes: https://pypi.org/simple, https://us-python.pkg.dev/colab-wheels/public/simple/\n",
            "Collecting matplotlib==3.1.3\n",
            "  Downloading matplotlib-3.1.3-cp37-cp37m-manylinux1_x86_64.whl (13.1 MB)\n",
            "\u001b[K     |████████████████████████████████| 13.1 MB 29.4 MB/s \n",
            "\u001b[?25hRequirement already satisfied: pyparsing!=2.0.4,!=2.1.2,!=2.1.6,>=2.0.1 in /usr/local/lib/python3.7/dist-packages (from matplotlib==3.1.3) (3.0.9)\n",
            "Requirement already satisfied: cycler>=0.10 in /usr/local/lib/python3.7/dist-packages (from matplotlib==3.1.3) (0.11.0)\n",
            "Requirement already satisfied: python-dateutil>=2.1 in /usr/local/lib/python3.7/dist-packages (from matplotlib==3.1.3) (2.8.2)\n",
            "Requirement already satisfied: numpy>=1.11 in /usr/local/lib/python3.7/dist-packages (from matplotlib==3.1.3) (1.21.6)\n",
            "Requirement already satisfied: kiwisolver>=1.0.1 in /usr/local/lib/python3.7/dist-packages (from matplotlib==3.1.3) (1.4.4)\n",
            "Requirement already satisfied: typing-extensions in /usr/local/lib/python3.7/dist-packages (from kiwisolver>=1.0.1->matplotlib==3.1.3) (4.1.1)\n",
            "Requirement already satisfied: six>=1.5 in /usr/local/lib/python3.7/dist-packages (from python-dateutil>=2.1->matplotlib==3.1.3) (1.15.0)\n",
            "Installing collected packages: matplotlib\n",
            "  Attempting uninstall: matplotlib\n",
            "    Found existing installation: matplotlib 3.5.3\n",
            "    Uninstalling matplotlib-3.5.3:\n",
            "      Successfully uninstalled matplotlib-3.5.3\n",
            "\u001b[31mERROR: pip's dependency resolver does not currently take into account all the packages that are installed. This behaviour is the source of the following dependency conflicts.\n",
            "baal 1.6.0 requires matplotlib<4.0.0,>=3.4.3, but you have matplotlib 3.1.3 which is incompatible.\u001b[0m\n",
            "Successfully installed matplotlib-3.1.3\n"
          ]
        },
        {
          "output_type": "display_data",
          "data": {
            "application/vnd.colab-display-data+json": {
              "pip_warning": {
                "packages": [
                  "matplotlib",
                  "mpl_toolkits"
                ]
              }
            }
          },
          "metadata": {}
        }
      ],
      "source": [
        "!pip install matplotlib==3.1.3"
      ]
    },
    {
      "cell_type": "markdown",
      "metadata": {
        "id": "Ennb17Elsz0q"
      },
      "source": [
        "Imports"
      ]
    },
    {
      "cell_type": "code",
      "execution_count": 5,
      "metadata": {
        "id": "F6J7rQEls25O"
      },
      "outputs": [],
      "source": [
        "import argparse\n",
        "import random\n",
        "import csv\n",
        "from copy import deepcopy\n",
        "from time import time\n",
        "import datetime\n",
        "from dataclasses import dataclass\n",
        "import numpy as np\n",
        "import PIL\n",
        "import matplotlib.pyplot as plt\n",
        "\n",
        "import torch\n",
        "import torch.backends\n",
        "from torch import optim\n",
        "from torch.hub import load_state_dict_from_url\n",
        "from torch.nn import CrossEntropyLoss\n",
        "from torchvision import datasets\n",
        "from torchvision.models import vgg16\n",
        "from torchvision.transforms import transforms\n",
        "from tqdm import tqdm\n",
        "from torch import nn\n",
        "import torch.nn.functional as F\n",
        "\n",
        "from baal.active import get_heuristic, ActiveLearningDataset\n",
        "from baal.active.active_loop import ActiveLearningLoop\n",
        "from baal.bayesian.dropout import patch_module\n",
        "from baal import ModelWrapper\n",
        "from baal.utils.metrics import Accuracy\n",
        "from baal.active.heuristics import BALD\n",
        "from baal.active.dataset import ActiveLearningDataset\n",
        "\n",
        "import aug_lib\n",
        "\n",
        "from baal_extended.ExtendedActiveLearningDataset import ExtendedActiveLearningDataset"
      ]
    },
    {
      "cell_type": "code",
      "execution_count": 6,
      "metadata": {
        "id": "0Fub7s-Ws4QN"
      },
      "outputs": [],
      "source": [
        "@dataclass\n",
        "class ExperimentConfig:\n",
        "    epoch: int = 2\n",
        "    batch_size: int = 32\n",
        "    initial_pool: int = 1000\n",
        "    query_size: int = 100\n",
        "    lr: float = 0.001\n",
        "    heuristic: str = 'bald'\n",
        "    iterations: int = 40\n",
        "    training_duration: int = 10"
      ]
    },
    {
      "cell_type": "code",
      "execution_count": 7,
      "metadata": {
        "id": "f4EdJKuUtQGH"
      },
      "outputs": [],
      "source": [
        "def get_datasets(initial_pool, n_augmentations):\n",
        "    transform = transforms.Compose(\n",
        "        [\n",
        "            # transforms.Resize((224, 224)),\n",
        "            transforms.ToTensor(),\n",
        "            transforms.Normalize(3 * [0.5], 3 * [0.5]),\n",
        "        ]\n",
        "    )\n",
        "    aug_transform = transforms.Compose(\n",
        "        [\n",
        "            # transforms.Resize((224, 224)),\n",
        "            aug_lib.TrivialAugment(),\n",
        "            transforms.ToTensor(),\n",
        "            transforms.Normalize(3 * [0.5], 3 * [0.5]),\n",
        "        ]\n",
        "    )\n",
        "    test_transform = transforms.Compose(\n",
        "        [\n",
        "            # transforms.Resize((224, 224)),\n",
        "            transforms.ToTensor(),\n",
        "            transforms.Normalize(3 * [0.5], 3 * [0.5]),\n",
        "        ]\n",
        "    )\n",
        "    # Note: We use the test set here as an example. You should make your own validation set.\n",
        "    train_ds = datasets.CIFAR10(\n",
        "        \".\", train=True, transform=transform, target_transform=None, download=True\n",
        "    )\n",
        "\n",
        "    aug_train_ds = datasets.CIFAR10(\n",
        "        \".\", train=True, transform=aug_transform, target_transform=None, download=True\n",
        "    )\n",
        "    test_set = datasets.CIFAR10(\n",
        "        \".\", train=False, transform=test_transform, target_transform=None, download=True\n",
        "    )\n",
        "    eald_set = ExtendedActiveLearningDataset(train_ds)\n",
        "\n",
        "    # active_set = ActiveLearningDataset(\n",
        "    #    train_ds, pool_specifics={\"transform\": test_transform}\n",
        "    # )\n",
        "    eald_set.augment_n_times(n_augmentations, augmented_dataset=aug_train_ds)\n",
        "    # We start labeling randomly.\n",
        "    eald_set.label_randomly(initial_pool)\n",
        "    return eald_set, test_set"
      ]
    },
    {
      "cell_type": "code",
      "execution_count": 8,
      "metadata": {
        "colab": {
          "base_uri": "https://localhost:8080/",
          "height": 153,
          "referenced_widgets": [
            "fda12bb5a81c45f09fcfff70ce5e47e0",
            "90dd124bd1164ed6bdacb6e8bc24fbe8",
            "12286ffe38c74039b3f1ffd87296ad83",
            "65d282fef12c45f8928f51073c32dc71",
            "d4f8e26df06a416fb3be9bf4d81ae7f8",
            "709f522bea154ddfbc74c9010faf5f32",
            "5a163c8476ab456189fd7e50f4233d76",
            "b4a09df122dd46f39559cb2e114fe5fa",
            "8eba95c9b1f344adba614e1ad64c578b",
            "525a0dc6e1fa466fad2bc80b71e8e1b0",
            "0897d3df904b4f7a90857ff65eb5e499"
          ]
        },
        "id": "lMqh_MQGc8Jn",
        "outputId": "0d9840e3-a269-4dfa-b98e-1e606a1d63cc"
      },
      "outputs": [
        {
          "output_type": "stream",
          "name": "stdout",
          "text": [
            "Downloading https://www.cs.toronto.edu/~kriz/cifar-10-python.tar.gz to ./cifar-10-python.tar.gz\n"
          ]
        },
        {
          "output_type": "display_data",
          "data": {
            "text/plain": [
              "  0%|          | 0/170498071 [00:00<?, ?it/s]"
            ],
            "application/vnd.jupyter.widget-view+json": {
              "version_major": 2,
              "version_minor": 0,
              "model_id": "fda12bb5a81c45f09fcfff70ce5e47e0"
            }
          },
          "metadata": {}
        },
        {
          "output_type": "stream",
          "name": "stdout",
          "text": [
            "Extracting ./cifar-10-python.tar.gz to .\n",
            "Files already downloaded and verified\n",
            "Files already downloaded and verified\n",
            "orig len50000\n",
            "augmented n times0\n"
          ]
        }
      ],
      "source": [
        "hyperparams = ExperimentConfig()\n",
        "use_cuda = torch.cuda.is_available()\n",
        "torch.backends.cudnn.benchmark = True\n",
        "random.seed(1337)\n",
        "torch.manual_seed(1337)\n",
        "if not use_cuda:\n",
        "    print(\"warning, the experiments would take ages to run on cpu\")\n",
        "\n",
        "# Get datasets\n",
        "active_set, test_set = get_datasets(hyperparams.initial_pool,2)\n",
        "\n",
        "# Get our model.\n",
        "heuristic = get_heuristic(hyperparams.heuristic)\n",
        "criterion = CrossEntropyLoss()\n",
        "model = vgg16(num_classes=10)\n",
        "\n",
        "# change dropout layer to MCDropout\n",
        "model = patch_module(model)\n",
        "\n",
        "if use_cuda:\n",
        "    model.cuda()\n",
        "optimizer = optim.SGD(model.parameters(), lr=hyperparams.lr, momentum=0.9)\n",
        "\n",
        "# Wraps the model into a usable API.\n",
        "model = ModelWrapper(model, criterion)\n",
        "\n",
        "# for ActiveLearningLoop we use a smaller batchsize\n",
        "# since we will stack predictions to perform MCDropout.\n",
        "active_loop = ActiveLearningLoop(active_set,\n",
        "                                 model.predict_on_dataset,\n",
        "                                 heuristic,\n",
        "                                 hyperparams.query_size,\n",
        "                                 batch_size=1,\n",
        "                                 iterations=hyperparams.iterations,\n",
        "                                 use_cuda=use_cuda,\n",
        "                                 verbose=False)\n",
        "\n",
        "# We will reset the weights at each active learning step so we make a copy.\n",
        "init_weights = deepcopy(model.state_dict())"
      ]
    },
    {
      "cell_type": "code",
      "execution_count": 9,
      "metadata": {
        "colab": {
          "base_uri": "https://localhost:8080/"
        },
        "id": "gl3txf5TdYSV",
        "outputId": "858e5db5-154b-4089-bb5e-8eec969bba1c"
      },
      "outputs": [
        {
          "output_type": "stream",
          "name": "stdout",
          "text": [
            "3000\n",
            "147000\n"
          ]
        }
      ],
      "source": [
        "print(active_set.n_labelled)\n",
        "print(active_set.n_unlabelled)"
      ]
    },
    {
      "cell_type": "code",
      "execution_count": 10,
      "metadata": {
        "colab": {
          "base_uri": "https://localhost:8080/"
        },
        "id": "6lCsTCwrdxHO",
        "outputId": "4163af24-13bd-43c6-d99c-fdea2c3db3d9"
      },
      "outputs": [
        {
          "output_type": "execute_result",
          "data": {
            "text/plain": [
              "array([     0,      1,      2, ..., 146997, 146998, 146999])"
            ]
          },
          "metadata": {},
          "execution_count": 10
        }
      ],
      "source": [
        "pool = active_set.pool\n",
        "indices = np.arange(len(pool))\n",
        "indices"
      ]
    },
    {
      "cell_type": "code",
      "execution_count": 11,
      "metadata": {
        "colab": {
          "base_uri": "https://localhost:8080/"
        },
        "id": "JGJtbMi9fj7Q",
        "outputId": "b3da6c87-40d7-4b4d-b4a9-493e9fc230f4"
      },
      "outputs": [
        {
          "output_type": "stream",
          "name": "stdout",
          "text": [
            "[79-MainThread   ] [baal.modelwrapper:predict_on_dataset_generator:263] \u001b[2m2022-11-26T13:18:20.566183Z\u001b[0m [\u001b[32m\u001b[1minfo     \u001b[0m] \u001b[1mStart Predict                 \u001b[0m \u001b[36mdataset\u001b[0m=\u001b[35m147000\u001b[0m\n"
          ]
        },
        {
          "output_type": "stream",
          "name": "stderr",
          "text": [
            "/usr/local/lib/python3.7/dist-packages/torch/utils/data/dataloader.py:566: UserWarning: This DataLoader will create 4 worker processes in total. Our suggested max number of worker in current system is 2, which is smaller than what this DataLoader is going to create. Please be aware that excessive worker creation might get DataLoader running slow or even freeze, lower the worker number to avoid potential slowness/freeze if necessary.\n",
            "  cpuset_checked))\n"
          ]
        },
        {
          "output_type": "stream",
          "name": "stdout",
          "text": [
            "100%|██████████| 14700/14700 [10:44<00:00, 22.82it/s]\n"
          ]
        }
      ],
      "source": [
        "probs = model.predict_on_dataset(pool,batch_size=10,iterations=20,use_cuda=use_cuda)"
      ]
    },
    {
      "cell_type": "code",
      "execution_count": 14,
      "metadata": {
        "id": "XYNqQMVClCCB"
      },
      "outputs": [],
      "source": [
        "to_label, uncertainty = heuristic.get_ranks(probs) \n",
        "to_label = indices[np.array(to_label)]"
      ]
    },
    {
      "cell_type": "code",
      "execution_count": 13,
      "metadata": {
        "id": "uTDkWoxFmEzE",
        "outputId": "aafb4789-63e9-47ee-9d9b-337cdba957f4",
        "colab": {
          "base_uri": "https://localhost:8080/"
        }
      },
      "outputs": [
        {
          "output_type": "stream",
          "name": "stdout",
          "text": [
            "[5.81741333e-05 1.14917755e-04 1.06811523e-04 ... 1.32322311e-04\n",
            " 1.25169754e-04 8.13007355e-05]\n",
            "[126169 130393  68683 ... 142411  73893 100284]\n"
          ]
        }
      ],
      "source": [
        "print(uncertainty)\n",
        "print(to_label)"
      ]
    },
    {
      "cell_type": "code",
      "execution_count": 16,
      "metadata": {
        "id": "CBe5zUlPlPHi",
        "outputId": "5e587ac0-3c92-439c-8b60-1ad6e276f215",
        "colab": {
          "base_uri": "https://localhost:8080/"
        }
      },
      "outputs": [
        {
          "output_type": "stream",
          "name": "stdout",
          "text": [
            "größte uncertainty: 0.00040745735\n",
            "dazugehöriger Index: 126169\n"
          ]
        }
      ],
      "source": [
        "# größte uncertainty \n",
        "# (ix_global_img sowieso in to_label[0] aber for-Schleife für besseres Verständnis)\n",
        "# also to_label[0] == uncertainty[ix_global_img]\n",
        "u = 0\n",
        "ix_pool_img = 0\n",
        "for i in range(len(uncertainty)):\n",
        "  if(uncertainty[i]>u): \n",
        "    u = uncertainty[i]\n",
        "    ix_pool_img = i\n",
        "\n",
        "print(\"größte uncertainty: \" + str(u))\n",
        "print(\"dazugehöriger Index: \" + str(ix_pool_img))"
      ]
    },
    {
      "cell_type": "code",
      "execution_count": null,
      "metadata": {
        "id": "dgwI-K4rl8ZY",
        "outputId": "283f88ba-840b-44b3-998b-06d0453364bd",
        "colab": {
          "base_uri": "https://localhost:8080/"
        }
      },
      "outputs": [
        {
          "output_type": "execute_result",
          "data": {
            "text/plain": [
              "146999"
            ]
          },
          "metadata": {},
          "execution_count": 45
        }
      ],
      "source": [
        "# größter index\n",
        "l = 0\n",
        "for i in range(len(to_label)):\n",
        "  if(to_label[i]>l): l = to_label[i]\n",
        "\n",
        "l"
      ]
    },
    {
      "cell_type": "code",
      "execution_count": null,
      "metadata": {
        "id": "BuZQ72USttFi",
        "outputId": "811e5bd5-3e41-4f44-caca-1e83acc3188f",
        "colab": {
          "base_uri": "https://localhost:8080/"
        }
      },
      "outputs": [
        {
          "output_type": "stream",
          "name": "stdout",
          "text": [
            "[106693]\n",
            "120874\n"
          ]
        }
      ],
      "source": [
        "oracle_set_one = active_set._pool_to_oracle_index([104559])\n",
        "print(oracle_set_one)\n",
        "oracle_set_two = active_set._pool_to_oracle_index(to_label)\n",
        "print(oracle_set_two[0])\n",
        "#ix_global_img = oracle_set[0]\n",
        "#ix_global_img\n"
      ]
    },
    {
      "cell_type": "code",
      "execution_count": 90,
      "metadata": {
        "id": "lBYTBOe-1dGN"
      },
      "outputs": [],
      "source": [
        "oracle_set = active_set._pool_to_oracle_index(to_label)\n",
        "ix_global_img = oracle_set[30]\n",
        "ix_pool_img = to_label[30]"
      ]
    },
    {
      "cell_type": "code",
      "execution_count": 96,
      "metadata": {
        "id": "3xFItpa8ziIk"
      },
      "outputs": [],
      "source": [
        "pool_img = active_set.pool[ix_pool_img]\n",
        "global_img = active_set._dataset[ix_global_img]\n",
        "#global_img = active_set._dataset[ix_global_img]"
      ]
    },
    {
      "cell_type": "code",
      "source": [
        "for i in range(len(active_set._dataset)):\n",
        "  if active_set._dataset[i][1] == 3:\n",
        "    print(i)"
      ],
      "metadata": {
        "id": "Ay9AWKlYN70y"
      },
      "execution_count": null,
      "outputs": []
    },
    {
      "cell_type": "code",
      "source": [
        "tensors_global = []\n",
        "tensors_pool = []\n",
        "\n",
        "for i in range(2):\n",
        "  pool_img = active_set.pool[ix_pool_img]\n",
        "  global_img = active_set._dataset[ix_global_img]\n",
        "  tensors_pool.append(pool_img)\n",
        "  tensors_global.append(global_img)\n",
        "\n",
        "\n",
        "print(torch.eq(tensors_pool[0][0],tensors_pool[1][0]))\n",
        "print(torch.eq(tensors_global[0][0],tensors_global[1][0]))"
      ],
      "metadata": {
        "id": "AuOer0jwMqLA"
      },
      "execution_count": null,
      "outputs": []
    },
    {
      "cell_type": "code",
      "execution_count": 83,
      "metadata": {
        "id": "BQjx4ye6cATt"
      },
      "outputs": [],
      "source": [
        "def show(imgs):\n",
        "    fix, axs = plt.subplots(ncols=len(imgs), squeeze=False)\n",
        "    for i, img in enumerate(imgs):\n",
        "        img = transforms.ToPILImage()(img.to('cpu'))\n",
        "        axs[0, i].imshow(np.asarray(img))\n",
        "        #axs[0, i].set(xticklabels=[], yticklabels=[], xticks=[], yticks=[])"
      ]
    },
    {
      "cell_type": "markdown",
      "metadata": {
        "id": "Hs4OKRamcATt"
      },
      "source": [
        "Bilder mit Normalisierung -> verzerrte Farben"
      ]
    },
    {
      "cell_type": "code",
      "execution_count": 85,
      "metadata": {
        "id": "ADZWj-AkcATt",
        "outputId": "3c4bf888-1ffc-4b61-8c2b-b84bf990044f",
        "colab": {
          "base_uri": "https://localhost:8080/",
          "height": 202
        }
      },
      "outputs": [
        {
          "output_type": "display_data",
          "data": {
            "text/plain": [
              "<Figure size 432x288 with 2 Axes>"
            ],
            "image/png": "[encoded data removed]"
          },
          "metadata": {
            "needs_background": "light"
          }
        }
      ],
      "source": [
        "show((pool_img[0],global_img[0]))"
      ]
    },
    {
      "cell_type": "markdown",
      "metadata": {
        "id": "1k6tSZwycATu"
      },
      "source": [
        "Normalisierung umgekehrt"
      ]
    },
    {
      "cell_type": "code",
      "execution_count": 86,
      "metadata": {
        "id": "wQlQ0uq0cATu"
      },
      "outputs": [],
      "source": [
        "invTrans = transforms.Compose([ transforms.Normalize(mean = [ 0., 0., 0. ], std = [ 1/0.5, 1/0.5, 1/0.5 ]),\n",
        "                                transforms.Normalize(mean = [ -0.5, -0.5, -0.5 ],std = [ 1., 1., 1. ]),\n",
        "                               ])"
      ]
    },
    {
      "cell_type": "code",
      "execution_count": 87,
      "metadata": {
        "id": "rX9dsYngcATu",
        "outputId": "0f674106-83c0-4e36-a3ba-db882b04684b",
        "colab": {
          "base_uri": "https://localhost:8080/",
          "height": 202
        }
      },
      "outputs": [
        {
          "output_type": "display_data",
          "data": {
            "text/plain": [
              "<Figure size 432x288 with 2 Axes>"
            ],
            "image/png": "[encoded data removed]"
          },
          "metadata": {
            "needs_background": "light"
          }
        }
      ],
      "source": [
        "show((invTrans(pool_img[0]),invTrans(global_img[0])))"
      ]
    },
    {
      "cell_type": "code",
      "source": [
        "plt.imshow(invTrans(pool_img[0]).permute(1, 2, 0).numpy())"
      ],
      "metadata": {
        "id": "A-3uwU6gKfaP",
        "outputId": "4530fe85-1378-43dc-d4e0-24f4707a40ef",
        "colab": {
          "base_uri": "https://localhost:8080/",
          "height": 283
        }
      },
      "execution_count": 77,
      "outputs": [
        {
          "output_type": "execute_result",
          "data": {
            "text/plain": [
              "<matplotlib.image.AxesImage at 0x7fa8605ff0d0>"
            ]
          },
          "metadata": {},
          "execution_count": 77
        },
        {
          "output_type": "display_data",
          "data": {
            "text/plain": [
              "<Figure size 432x288 with 1 Axes>"
            ],
            "image/png": "[encoded data removed]"
          },
          "metadata": {
            "needs_background": "light"
          }
        }
      ]
    },
    {
      "cell_type": "code",
      "source": [
        "plt.imshow(invTrans(global_img[0]).permute(1, 2, 0).numpy())"
      ],
      "metadata": {
        "id": "qeSL_IgtKwF4",
        "outputId": "59182855-a654-4927-d0ea-ffb334f58ade",
        "colab": {
          "base_uri": "https://localhost:8080/",
          "height": 283
        }
      },
      "execution_count": 78,
      "outputs": [
        {
          "output_type": "execute_result",
          "data": {
            "text/plain": [
              "<matplotlib.image.AxesImage at 0x7fa8e07d5410>"
            ]
          },
          "metadata": {},
          "execution_count": 78
        },
        {
          "output_type": "display_data",
          "data": {
            "text/plain": [
              "<Figure size 432x288 with 1 Axes>"
            ],
            "image/png": "[encoded data removed]"
          },
          "metadata": {
            "needs_background": "light"
          }
        }
      ]
    },
    {
      "cell_type": "code",
      "execution_count": 32,
      "metadata": {
        "id": "Lado0v6jcATu",
        "outputId": "c1f97854-7135-4987-c583-ebea51d3feb5",
        "colab": {
          "base_uri": "https://localhost:8080/"
        }
      },
      "outputs": [
        {
          "output_type": "execute_result",
          "data": {
            "text/plain": [
              "tensor([[[ True, False, False,  ..., False, False, False],\n",
              "         [False, False, False,  ..., False, False, False],\n",
              "         [False, False, False,  ..., False, False,  True],\n",
              "         ...,\n",
              "         [ True, False, False,  ..., False, False, False],\n",
              "         [False, False,  True,  ..., False, False, False],\n",
              "         [False, False, False,  ..., False, False, False]],\n",
              "\n",
              "        [[ True, False, False,  ..., False, False, False],\n",
              "         [ True, False, False,  ..., False, False,  True],\n",
              "         [False,  True, False,  ..., False, False,  True],\n",
              "         ...,\n",
              "         [False, False, False,  ..., False, False, False],\n",
              "         [False, False, False,  ...,  True, False, False],\n",
              "         [False,  True,  True,  ..., False, False, False]],\n",
              "\n",
              "        [[False, False, False,  ..., False, False, False],\n",
              "         [False, False, False,  ..., False, False, False],\n",
              "         [False, False, False,  ..., False, False, False],\n",
              "         ...,\n",
              "         [ True, False,  True,  ..., False, False, False],\n",
              "         [False, False, False,  ..., False, False, False],\n",
              "         [False, False, False,  ..., False, False, False]]])"
            ]
          },
          "metadata": {},
          "execution_count": 32
        }
      ],
      "source": [
        "torch.eq(invTrans(pool_img[0]),invTrans(global_img[0]))"
      ]
    },
    {
      "cell_type": "code",
      "source": [
        "torch.abs(invTrans(pool_img[0]) - invTrans(global_img[0]))"
      ],
      "metadata": {
        "id": "eYr5f2U0g496",
        "outputId": "40444da9-e6a5-4903-d113-885a32861b90",
        "colab": {
          "base_uri": "https://localhost:8080/"
        }
      },
      "execution_count": 33,
      "outputs": [
        {
          "output_type": "execute_result",
          "data": {
            "text/plain": [
              "tensor([[[0.0000, 0.0118, 0.0157,  ..., 0.0275, 0.0275, 0.0078],\n",
              "         [0.0078, 0.0157, 0.0157,  ..., 0.0275, 0.0157, 0.0039],\n",
              "         [0.0118, 0.0196, 0.0196,  ..., 0.0275, 0.0078, 0.0000],\n",
              "         ...,\n",
              "         [0.0000, 0.0039, 0.0118,  ..., 0.0314, 0.0196, 0.0235],\n",
              "         [0.0039, 0.0235, 0.0000,  ..., 0.0196, 0.0157, 0.0235],\n",
              "         [0.0157, 0.0118, 0.0039,  ..., 0.0196, 0.0196, 0.0235]],\n",
              "\n",
              "        [[0.0000, 0.0039, 0.0078,  ..., 0.0078, 0.0078, 0.0039],\n",
              "         [0.0000, 0.0039, 0.0039,  ..., 0.0039, 0.0275, 0.0000],\n",
              "         [0.0039, 0.0000, 0.0039,  ..., 0.0039, 0.0275, 0.0000],\n",
              "         ...,\n",
              "         [0.0039, 0.0118, 0.0078,  ..., 0.0078, 0.0078, 0.0039],\n",
              "         [0.0039, 0.0157, 0.0039,  ..., 0.0000, 0.0078, 0.0039],\n",
              "         [0.0039, 0.0000, 0.0000,  ..., 0.0039, 0.0039, 0.0039]],\n",
              "\n",
              "        [[0.0118, 0.0235, 0.0235,  ..., 0.0471, 0.0431, 0.0157],\n",
              "         [0.0196, 0.0118, 0.0196,  ..., 0.0353, 0.0510, 0.0118],\n",
              "         [0.0235, 0.0157, 0.0235,  ..., 0.0353, 0.0431, 0.0118],\n",
              "         ...,\n",
              "         [0.0000, 0.0196, 0.0000,  ..., 0.0039, 0.0196, 0.0196],\n",
              "         [0.0157, 0.0039, 0.0235,  ..., 0.0157, 0.0235, 0.0235],\n",
              "         [0.0471, 0.0471, 0.0275,  ..., 0.0196, 0.0196, 0.0235]]])"
            ]
          },
          "metadata": {},
          "execution_count": 33
        }
      ]
    },
    {
      "cell_type": "markdown",
      "metadata": {
        "id": "5skzJda1wyKw"
      },
      "source": [
        "Versuche herauszufinden was folgende Zeile genau macht und wieso aber bisher erfolglos"
      ]
    },
    {
      "cell_type": "code",
      "execution_count": null,
      "metadata": {
        "id": "EbLsD0KRudcz",
        "outputId": "77e01a11-d468-44a5-af7e-e52962832f73",
        "colab": {
          "base_uri": "https://localhost:8080/"
        }
      },
      "outputs": [
        {
          "output_type": "execute_result",
          "data": {
            "text/plain": [
              "array([118461,  71035, 134666, ..., 125054, 121123,  90797])"
            ]
          },
          "metadata": {},
          "execution_count": 55
        }
      ],
      "source": [
        "to_label_two = indices[np.array(to_label)]\n",
        "to_label_two"
      ]
    },
    {
      "cell_type": "code",
      "execution_count": null,
      "metadata": {
        "id": "dfE6M1kzvmrW",
        "outputId": "9c653112-f338-4b73-c39c-1ff7a1c380a7",
        "colab": {
          "base_uri": "https://localhost:8080/"
        }
      },
      "outputs": [
        {
          "output_type": "stream",
          "name": "stdout",
          "text": [
            "<class 'numpy.ndarray'>\n",
            "<class 'numpy.ndarray'>\n",
            "147000\n",
            "147000\n"
          ]
        }
      ],
      "source": [
        "print(type(to_label))\n",
        "print(type(to_label_two))\n",
        "print(len(to_label))\n",
        "print(len(to_label_two))"
      ]
    },
    {
      "cell_type": "code",
      "execution_count": null,
      "metadata": {
        "id": "5Uvvx1hSv83C",
        "outputId": "5978381d-484f-4bfc-b76c-a52095a3a0c9",
        "colab": {
          "base_uri": "https://localhost:8080/"
        }
      },
      "outputs": [
        {
          "output_type": "execute_result",
          "data": {
            "text/plain": [
              "array([118461,  71035, 134666, ..., 125054, 121123,  90797])"
            ]
          },
          "metadata": {},
          "execution_count": 57
        }
      ],
      "source": [
        "indices[np.array(to_label)]"
      ]
    },
    {
      "cell_type": "code",
      "execution_count": null,
      "metadata": {
        "id": "PTPPy2Y_uC1S",
        "outputId": "cc5cd49b-79fa-451d-cecf-f91edff77fea",
        "colab": {
          "base_uri": "https://localhost:8080/"
        }
      },
      "outputs": [
        {
          "output_type": "execute_result",
          "data": {
            "text/plain": [
              "array([3, 7, 1, 4])"
            ]
          },
          "metadata": {},
          "execution_count": 58
        }
      ],
      "source": [
        "t = np.array([3,7,1,4])\n",
        "t"
      ]
    },
    {
      "cell_type": "code",
      "execution_count": null,
      "metadata": {
        "id": "_pMocpOivMa6"
      },
      "outputs": [],
      "source": []
    }
  ],
  "metadata": {
    "accelerator": "GPU",
    "colab": {
      "provenance": [],
      "include_colab_link": true
    },
    "gpuClass": "standard",
    "kernelspec": {
      "display_name": "Python 3.10.8 ('env_baal')",
      "language": "python",
      "name": "python3"
    },
    "language_info": {
      "codemirror_mode": {
        "name": "ipython",
        "version": 3
      },
      "file_extension": ".py",
      "mimetype": "text/x-python",
      "name": "python",
      "nbconvert_exporter": "python",
      "pygments_lexer": "ipython3",
      "version": "3.10.8"
    },
    "vscode": {
      "interpreter": {
        "hash": "4fdcf6f5482bb78b036200e55cbf923ad015f8ef81f424b9c55d1aa8e1bbdb78"
      }
    },
    "widgets": {
      "application/vnd.jupyter.widget-state+json": {
        "fda12bb5a81c45f09fcfff70ce5e47e0": {
          "model_module": "@jupyter-widgets/controls",
          "model_name": "HBoxModel",
          "model_module_version": "1.5.0",
          "state": {
            "_dom_classes": [],
            "_model_module": "@jupyter-widgets/controls",
            "_model_module_version": "1.5.0",
            "_model_name": "HBoxModel",
            "_view_count": null,
            "_view_module": "@jupyter-widgets/controls",
            "_view_module_version": "1.5.0",
            "_view_name": "HBoxView",
            "box_style": "",
            "children": [
              "IPY_MODEL_90dd124bd1164ed6bdacb6e8bc24fbe8",
              "IPY_MODEL_12286ffe38c74039b3f1ffd87296ad83",
              "IPY_MODEL_65d282fef12c45f8928f51073c32dc71"
            ],
            "layout": "IPY_MODEL_d4f8e26df06a416fb3be9bf4d81ae7f8"
          }
        },
        "90dd124bd1164ed6bdacb6e8bc24fbe8": {
          "model_module": "@jupyter-widgets/controls",
          "model_name": "HTMLModel",
          "model_module_version": "1.5.0",
          "state": {
            "_dom_classes": [],
            "_model_module": "@jupyter-widgets/controls",
            "_model_module_version": "1.5.0",
            "_model_name": "HTMLModel",
            "_view_count": null,
            "_view_module": "@jupyter-widgets/controls",
            "_view_module_version": "1.5.0",
            "_view_name": "HTMLView",
            "description": "",
            "description_tooltip": null,
            "layout": "IPY_MODEL_709f522bea154ddfbc74c9010faf5f32",
            "placeholder": "​",
            "style": "IPY_MODEL_5a163c8476ab456189fd7e50f4233d76",
            "value": "100%"
          }
        },
        "12286ffe38c74039b3f1ffd87296ad83": {
          "model_module": "@jupyter-widgets/controls",
          "model_name": "FloatProgressModel",
          "model_module_version": "1.5.0",
          "state": {
            "_dom_classes": [],
            "_model_module": "@jupyter-widgets/controls",
            "_model_module_version": "1.5.0",
            "_model_name": "FloatProgressModel",
            "_view_count": null,
            "_view_module": "@jupyter-widgets/controls",
            "_view_module_version": "1.5.0",
            "_view_name": "ProgressView",
            "bar_style": "success",
            "description": "",
            "description_tooltip": null,
            "layout": "IPY_MODEL_b4a09df122dd46f39559cb2e114fe5fa",
            "max": 170498071,
            "min": 0,
            "orientation": "horizontal",
            "style": "IPY_MODEL_8eba95c9b1f344adba614e1ad64c578b",
            "value": 170498071
          }
        },
        "65d282fef12c45f8928f51073c32dc71": {
          "model_module": "@jupyter-widgets/controls",
          "model_name": "HTMLModel",
          "model_module_version": "1.5.0",
          "state": {
            "_dom_classes": [],
            "_model_module": "@jupyter-widgets/controls",
            "_model_module_version": "1.5.0",
            "_model_name": "HTMLModel",
            "_view_count": null,
            "_view_module": "@jupyter-widgets/controls",
            "_view_module_version": "1.5.0",
            "_view_name": "HTMLView",
            "description": "",
            "description_tooltip": null,
            "layout": "IPY_MODEL_525a0dc6e1fa466fad2bc80b71e8e1b0",
            "placeholder": "​",
            "style": "IPY_MODEL_0897d3df904b4f7a90857ff65eb5e499",
            "value": " 170498071/170498071 [00:01&lt;00:00, 110732068.91it/s]"
          }
        },
        "d4f8e26df06a416fb3be9bf4d81ae7f8": {
          "model_module": "@jupyter-widgets/base",
          "model_name": "LayoutModel",
          "model_module_version": "1.2.0",
          "state": {
            "_model_module": "@jupyter-widgets/base",
            "_model_module_version": "1.2.0",
            "_model_name": "LayoutModel",
            "_view_count": null,
            "_view_module": "@jupyter-widgets/base",
            "_view_module_version": "1.2.0",
            "_view_name": "LayoutView",
            "align_content": null,
            "align_items": null,
            "align_self": null,
            "border": null,
            "bottom": null,
            "display": null,
            "flex": null,
            "flex_flow": null,
            "grid_area": null,
            "grid_auto_columns": null,
            "grid_auto_flow": null,
            "grid_auto_rows": null,
            "grid_column": null,
            "grid_gap": null,
            "grid_row": null,
            "grid_template_areas": null,
            "grid_template_columns": null,
            "grid_template_rows": null,
            "height": null,
            "justify_content": null,
            "justify_items": null,
            "left": null,
            "margin": null,
            "max_height": null,
            "max_width": null,
            "min_height": null,
            "min_width": null,
            "object_fit": null,
            "object_position": null,
            "order": null,
            "overflow": null,
            "overflow_x": null,
            "overflow_y": null,
            "padding": null,
            "right": null,
            "top": null,
            "visibility": null,
            "width": null
          }
        },
        "709f522bea154ddfbc74c9010faf5f32": {
          "model_module": "@jupyter-widgets/base",
          "model_name": "LayoutModel",
          "model_module_version": "1.2.0",
          "state": {
            "_model_module": "@jupyter-widgets/base",
            "_model_module_version": "1.2.0",
            "_model_name": "LayoutModel",
            "_view_count": null,
            "_view_module": "@jupyter-widgets/base",
            "_view_module_version": "1.2.0",
            "_view_name": "LayoutView",
            "align_content": null,
            "align_items": null,
            "align_self": null,
            "border": null,
            "bottom": null,
            "display": null,
            "flex": null,
            "flex_flow": null,
            "grid_area": null,
            "grid_auto_columns": null,
            "grid_auto_flow": null,
            "grid_auto_rows": null,
            "grid_column": null,
            "grid_gap": null,
            "grid_row": null,
            "grid_template_areas": null,
            "grid_template_columns": null,
            "grid_template_rows": null,
            "height": null,
            "justify_content": null,
            "justify_items": null,
            "left": null,
            "margin": null,
            "max_height": null,
            "max_width": null,
            "min_height": null,
            "min_width": null,
            "object_fit": null,
            "object_position": null,
            "order": null,
            "overflow": null,
            "overflow_x": null,
            "overflow_y": null,
            "padding": null,
            "right": null,
            "top": null,
            "visibility": null,
            "width": null
          }
        },
        "5a163c8476ab456189fd7e50f4233d76": {
          "model_module": "@jupyter-widgets/controls",
          "model_name": "DescriptionStyleModel",
          "model_module_version": "1.5.0",
          "state": {
            "_model_module": "@jupyter-widgets/controls",
            "_model_module_version": "1.5.0",
            "_model_name": "DescriptionStyleModel",
            "_view_count": null,
            "_view_module": "@jupyter-widgets/base",
            "_view_module_version": "1.2.0",
            "_view_name": "StyleView",
            "description_width": ""
          }
        },
        "b4a09df122dd46f39559cb2e114fe5fa": {
          "model_module": "@jupyter-widgets/base",
          "model_name": "LayoutModel",
          "model_module_version": "1.2.0",
          "state": {
            "_model_module": "@jupyter-widgets/base",
            "_model_module_version": "1.2.0",
            "_model_name": "LayoutModel",
            "_view_count": null,
            "_view_module": "@jupyter-widgets/base",
            "_view_module_version": "1.2.0",
            "_view_name": "LayoutView",
            "align_content": null,
            "align_items": null,
            "align_self": null,
            "border": null,
            "bottom": null,
            "display": null,
            "flex": null,
            "flex_flow": null,
            "grid_area": null,
            "grid_auto_columns": null,
            "grid_auto_flow": null,
            "grid_auto_rows": null,
            "grid_column": null,
            "grid_gap": null,
            "grid_row": null,
            "grid_template_areas": null,
            "grid_template_columns": null,
            "grid_template_rows": null,
            "height": null,
            "justify_content": null,
            "justify_items": null,
            "left": null,
            "margin": null,
            "max_height": null,
            "max_width": null,
            "min_height": null,
            "min_width": null,
            "object_fit": null,
            "object_position": null,
            "order": null,
            "overflow": null,
            "overflow_x": null,
            "overflow_y": null,
            "padding": null,
            "right": null,
            "top": null,
            "visibility": null,
            "width": null
          }
        },
        "8eba95c9b1f344adba614e1ad64c578b": {
          "model_module": "@jupyter-widgets/controls",
          "model_name": "ProgressStyleModel",
          "model_module_version": "1.5.0",
          "state": {
            "_model_module": "@jupyter-widgets/controls",
            "_model_module_version": "1.5.0",
            "_model_name": "ProgressStyleModel",
            "_view_count": null,
            "_view_module": "@jupyter-widgets/base",
            "_view_module_version": "1.2.0",
            "_view_name": "StyleView",
            "bar_color": null,
            "description_width": ""
          }
        },
        "525a0dc6e1fa466fad2bc80b71e8e1b0": {
          "model_module": "@jupyter-widgets/base",
          "model_name": "LayoutModel",
          "model_module_version": "1.2.0",
          "state": {
            "_model_module": "@jupyter-widgets/base",
            "_model_module_version": "1.2.0",
            "_model_name": "LayoutModel",
            "_view_count": null,
            "_view_module": "@jupyter-widgets/base",
            "_view_module_version": "1.2.0",
            "_view_name": "LayoutView",
            "align_content": null,
            "align_items": null,
            "align_self": null,
            "border": null,
            "bottom": null,
            "display": null,
            "flex": null,
            "flex_flow": null,
            "grid_area": null,
            "grid_auto_columns": null,
            "grid_auto_flow": null,
            "grid_auto_rows": null,
            "grid_column": null,
            "grid_gap": null,
            "grid_row": null,
            "grid_template_areas": null,
            "grid_template_columns": null,
            "grid_template_rows": null,
            "height": null,
            "justify_content": null,
            "justify_items": null,
            "left": null,
            "margin": null,
            "max_height": null,
            "max_width": null,
            "min_height": null,
            "min_width": null,
            "object_fit": null,
            "object_position": null,
            "order": null,
            "overflow": null,
            "overflow_x": null,
            "overflow_y": null,
            "padding": null,
            "right": null,
            "top": null,
            "visibility": null,
            "width": null
          }
        },
        "0897d3df904b4f7a90857ff65eb5e499": {
          "model_module": "@jupyter-widgets/controls",
          "model_name": "DescriptionStyleModel",
          "model_module_version": "1.5.0",
          "state": {
            "_model_module": "@jupyter-widgets/controls",
            "_model_module_version": "1.5.0",
            "_model_name": "DescriptionStyleModel",
            "_view_count": null,
            "_view_module": "@jupyter-widgets/base",
            "_view_module_version": "1.2.0",
            "_view_name": "StyleView",
            "description_width": ""
          }
        }
      }
    }
  },
  "nbformat": 4,
  "nbformat_minor": 0
}