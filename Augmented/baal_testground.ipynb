{
  "cells": [
    {
      "cell_type": "markdown",
      "metadata": {
        "id": "view-in-github",
        "colab_type": "text"
      },
      "source": [
        "<a href=\"https://colab.research.google.com/github/k4zuy/Rep-Baal-Progress/blob/main/Augmented/baal_testground.ipynb\" target=\"_parent\"><img src=\"https://colab.research.google.com/assets/colab-badge.svg\" alt=\"Open In Colab\"/></a>"
      ]
    },
    {
      "cell_type": "code",
      "execution_count": 30,
      "metadata": {
        "colab": {
          "base_uri": "https://localhost:8080/"
        },
        "id": "qm0gIztasQ0u",
        "outputId": "85701486-92ff-4b83-af8d-9bc043bf7e96"
      },
      "outputs": [
        {
          "output_type": "stream",
          "name": "stdout",
          "text": [
            "Looking in indexes: https://pypi.org/simple, https://us-python.pkg.dev/colab-wheels/public/simple/\n",
            "Requirement already satisfied: baal in /usr/local/lib/python3.7/dist-packages (1.6.0)\n",
            "Requirement already satisfied: Pillow>=6.2.0 in /usr/local/lib/python3.7/dist-packages (from baal) (7.1.2)\n",
            "Requirement already satisfied: scikit-learn<2.0.0,>=1.0.0 in /usr/local/lib/python3.7/dist-packages (from baal) (1.0.2)\n",
            "Requirement already satisfied: matplotlib<4.0.0,>=3.4.3 in /usr/local/lib/python3.7/dist-packages (from baal) (3.5.3)\n",
            "Requirement already satisfied: torch>=1.6.0 in /usr/local/lib/python3.7/dist-packages (from baal) (1.12.1+cu113)\n",
            "Requirement already satisfied: structlog<22.0.0,>=21.1.0 in /usr/local/lib/python3.7/dist-packages (from baal) (21.5.0)\n",
            "Requirement already satisfied: scipy<2.0.0,>=1.7.1 in /usr/local/lib/python3.7/dist-packages (from baal) (1.7.3)\n",
            "Requirement already satisfied: h5py<4.0.0,>=3.4.0 in /usr/local/lib/python3.7/dist-packages (from baal) (3.7.0)\n",
            "Requirement already satisfied: numpy<2.0.0,>=1.21.2 in /usr/local/lib/python3.7/dist-packages (from baal) (1.21.6)\n",
            "Requirement already satisfied: tqdm<5.0.0,>=4.62.2 in /usr/local/lib/python3.7/dist-packages (from baal) (4.64.1)\n",
            "Requirement already satisfied: pyparsing>=2.2.1 in /usr/local/lib/python3.7/dist-packages (from matplotlib<4.0.0,>=3.4.3->baal) (3.0.9)\n",
            "Requirement already satisfied: cycler>=0.10 in /usr/local/lib/python3.7/dist-packages (from matplotlib<4.0.0,>=3.4.3->baal) (0.11.0)\n",
            "Requirement already satisfied: packaging>=20.0 in /usr/local/lib/python3.7/dist-packages (from matplotlib<4.0.0,>=3.4.3->baal) (21.3)\n",
            "Requirement already satisfied: kiwisolver>=1.0.1 in /usr/local/lib/python3.7/dist-packages (from matplotlib<4.0.0,>=3.4.3->baal) (1.4.4)\n",
            "Requirement already satisfied: python-dateutil>=2.7 in /usr/local/lib/python3.7/dist-packages (from matplotlib<4.0.0,>=3.4.3->baal) (2.8.2)\n",
            "Requirement already satisfied: fonttools>=4.22.0 in /usr/local/lib/python3.7/dist-packages (from matplotlib<4.0.0,>=3.4.3->baal) (4.38.0)\n",
            "Requirement already satisfied: typing-extensions in /usr/local/lib/python3.7/dist-packages (from kiwisolver>=1.0.1->matplotlib<4.0.0,>=3.4.3->baal) (4.1.1)\n",
            "Requirement already satisfied: six>=1.5 in /usr/local/lib/python3.7/dist-packages (from python-dateutil>=2.7->matplotlib<4.0.0,>=3.4.3->baal) (1.15.0)\n",
            "Requirement already satisfied: joblib>=0.11 in /usr/local/lib/python3.7/dist-packages (from scikit-learn<2.0.0,>=1.0.0->baal) (1.2.0)\n",
            "Requirement already satisfied: threadpoolctl>=2.0.0 in /usr/local/lib/python3.7/dist-packages (from scikit-learn<2.0.0,>=1.0.0->baal) (3.1.0)\n"
          ]
        }
      ],
      "source": [
        "!pip install baal"
      ]
    },
    {
      "cell_type": "code",
      "execution_count": 31,
      "metadata": {
        "colab": {
          "base_uri": "https://localhost:8080/"
        },
        "id": "GTBZmsC63Gdf",
        "outputId": "0a1742bc-0a20-4051-8b35-f0da44089869"
      },
      "outputs": [
        {
          "output_type": "stream",
          "name": "stdout",
          "text": [
            "Looking in indexes: https://pypi.org/simple, https://us-python.pkg.dev/colab-wheels/public/simple/\n",
            "Requirement already satisfied: pillow in /usr/local/lib/python3.7/dist-packages (7.1.2)\n"
          ]
        }
      ],
      "source": [
        "!pip install pillow"
      ]
    },
    {
      "cell_type": "markdown",
      "metadata": {
        "id": "tAxArrrncATl"
      },
      "source": [
        "Required for Nvidia RTX 3060"
      ]
    },
    {
      "cell_type": "code",
      "execution_count": 32,
      "metadata": {
        "id": "p47nxvj_cATm"
      },
      "outputs": [],
      "source": [
        "#python -m pip install torch==1.13.0+cu117 torchvision==0.14.0+cu117 -f https://download.pytorch.org/whl/torch_stable.html"
      ]
    },
    {
      "cell_type": "markdown",
      "metadata": {
        "id": "0kp7yQ1ccATn"
      },
      "source": [
        "Required for Colab"
      ]
    },
    {
      "cell_type": "code",
      "execution_count": 32,
      "metadata": {
        "id": "oHo5LpZ1cATn"
      },
      "outputs": [],
      "source": []
    },
    {
      "cell_type": "markdown",
      "metadata": {
        "id": "Ennb17Elsz0q"
      },
      "source": [
        "Imports"
      ]
    },
    {
      "cell_type": "code",
      "execution_count": 33,
      "metadata": {
        "id": "F6J7rQEls25O"
      },
      "outputs": [],
      "source": [
        "import argparse\n",
        "import random\n",
        "import csv\n",
        "from copy import deepcopy\n",
        "from time import time\n",
        "import datetime\n",
        "from dataclasses import dataclass\n",
        "import numpy as np\n",
        "import PIL\n",
        "import matplotlib.pyplot as plt\n",
        "\n",
        "import torch\n",
        "import torch.backends\n",
        "from torch import optim\n",
        "from torch.hub import load_state_dict_from_url\n",
        "from torch.nn import CrossEntropyLoss\n",
        "from torchvision import datasets\n",
        "from torchvision.models import vgg16\n",
        "from torchvision.transforms import transforms\n",
        "from tqdm import tqdm\n",
        "from torch import nn\n",
        "import torch.nn.functional as F\n",
        "\n",
        "from baal.active import get_heuristic, ActiveLearningDataset\n",
        "from baal.active.active_loop import ActiveLearningLoop\n",
        "from baal.bayesian.dropout import patch_module\n",
        "from baal import ModelWrapper\n",
        "from baal.utils.metrics import Accuracy\n",
        "from baal.active.heuristics import BALD\n",
        "from baal.active.dataset import ActiveLearningDataset\n",
        "\n",
        "import aug_lib\n",
        "\n",
        "from ExtendedActiveLearningDataset import ExtendedActiveLearningDataset"
      ]
    },
    {
      "cell_type": "code",
      "execution_count": 34,
      "metadata": {
        "id": "0Fub7s-Ws4QN"
      },
      "outputs": [],
      "source": [
        "@dataclass\n",
        "class ExperimentConfig:\n",
        "    epoch: int = 2\n",
        "    batch_size: int = 32\n",
        "    initial_pool: int = 1000\n",
        "    query_size: int = 100\n",
        "    lr: float = 0.001\n",
        "    heuristic: str = 'bald'\n",
        "    iterations: int = 40\n",
        "    training_duration: int = 10"
      ]
    },
    {
      "cell_type": "code",
      "execution_count": 35,
      "metadata": {
        "id": "f4EdJKuUtQGH"
      },
      "outputs": [],
      "source": [
        "def get_datasets(initial_pool, n_augmentations):\n",
        "    transform = transforms.Compose(\n",
        "        [\n",
        "            # transforms.Resize((224, 224)),\n",
        "            transforms.ToTensor(),\n",
        "            transforms.Normalize(3 * [0.5], 3 * [0.5]),\n",
        "        ]\n",
        "    )\n",
        "    aug_transform = transforms.Compose(\n",
        "        [\n",
        "            # transforms.Resize((224, 224)),\n",
        "            aug_lib.TrivialAugment(),\n",
        "            transforms.ToTensor(),\n",
        "            transforms.Normalize(3 * [0.5], 3 * [0.5]),\n",
        "        ]\n",
        "    )\n",
        "    test_transform = transforms.Compose(\n",
        "        [\n",
        "            # transforms.Resize((224, 224)),\n",
        "            transforms.ToTensor(),\n",
        "            transforms.Normalize(3 * [0.5], 3 * [0.5]),\n",
        "        ]\n",
        "    )\n",
        "    # Note: We use the test set here as an example. You should make your own validation set.\n",
        "    train_ds = datasets.CIFAR10(\n",
        "        \".\", train=True, transform=transform, target_transform=None, download=True\n",
        "    )\n",
        "\n",
        "    aug_train_ds = datasets.CIFAR10(\n",
        "        \".\", train=True, transform=aug_transform, target_transform=None, download=True\n",
        "    )\n",
        "    test_set = datasets.CIFAR10(\n",
        "        \".\", train=False, transform=test_transform, target_transform=None, download=True\n",
        "    )\n",
        "    eald_set = ExtendedActiveLearningDataset(train_ds)\n",
        "\n",
        "    # active_set = ActiveLearningDataset(\n",
        "    #    train_ds, pool_specifics={\"transform\": test_transform}\n",
        "    # )\n",
        "    eald_set.augment_n_times(n_augmentations, augmented_dataset=aug_train_ds)\n",
        "    # We start labeling randomly.\n",
        "    eald_set.label_randomly(initial_pool)\n",
        "    return eald_set, test_set"
      ]
    },
    {
      "cell_type": "code",
      "execution_count": 36,
      "metadata": {
        "colab": {
          "base_uri": "https://localhost:8080/"
        },
        "id": "lMqh_MQGc8Jn",
        "outputId": "d666ea03-0c3b-4611-f5bf-5b8fb4b448c3"
      },
      "outputs": [
        {
          "output_type": "stream",
          "name": "stdout",
          "text": [
            "Files already downloaded and verified\n",
            "Files already downloaded and verified\n",
            "Files already downloaded and verified\n",
            "original dataset length: 50000\n",
            "augmented n times0\n"
          ]
        }
      ],
      "source": [
        "hyperparams = ExperimentConfig()\n",
        "use_cuda = torch.cuda.is_available()\n",
        "torch.backends.cudnn.benchmark = True\n",
        "random.seed(1337)\n",
        "torch.manual_seed(1337)\n",
        "if not use_cuda:\n",
        "    print(\"warning, the experiments would take ages to run on cpu\")\n",
        "\n",
        "# Get datasets\n",
        "active_set, test_set = get_datasets(hyperparams.initial_pool,2)\n",
        "\n",
        "# Get our model.\n",
        "heuristic = get_heuristic(hyperparams.heuristic)\n",
        "criterion = CrossEntropyLoss()\n",
        "model = vgg16(num_classes=10)\n",
        "\n",
        "# change dropout layer to MCDropout\n",
        "model = patch_module(model)\n",
        "\n",
        "if use_cuda:\n",
        "    model.cuda()\n",
        "optimizer = optim.SGD(model.parameters(), lr=hyperparams.lr, momentum=0.9)\n",
        "\n",
        "# Wraps the model into a usable API.\n",
        "model = ModelWrapper(model, criterion)\n",
        "\n",
        "# for ActiveLearningLoop we use a smaller batchsize\n",
        "# since we will stack predictions to perform MCDropout.\n",
        "active_loop = ActiveLearningLoop(active_set,\n",
        "                                 model.predict_on_dataset,\n",
        "                                 heuristic,\n",
        "                                 hyperparams.query_size,\n",
        "                                 batch_size=1,\n",
        "                                 iterations=hyperparams.iterations,\n",
        "                                 use_cuda=use_cuda,\n",
        "                                 verbose=False)\n",
        "\n",
        "# We will reset the weights at each active learning step so we make a copy.\n",
        "init_weights = deepcopy(model.state_dict())"
      ]
    },
    {
      "cell_type": "code",
      "execution_count": 37,
      "metadata": {
        "colab": {
          "base_uri": "https://localhost:8080/"
        },
        "id": "gl3txf5TdYSV",
        "outputId": "2b432a58-165b-4d77-a626-58243369fca9"
      },
      "outputs": [
        {
          "output_type": "execute_result",
          "data": {
            "text/plain": [
              "3000"
            ]
          },
          "metadata": {},
          "execution_count": 37
        }
      ],
      "source": [
        "active_set.n_labelled"
      ]
    },
    {
      "cell_type": "code",
      "execution_count": 38,
      "metadata": {
        "colab": {
          "base_uri": "https://localhost:8080/"
        },
        "id": "L0CKCnDLdu-0",
        "outputId": "81075264-610d-4ec9-84f8-6f55c131bbb7"
      },
      "outputs": [
        {
          "output_type": "execute_result",
          "data": {
            "text/plain": [
              "147000"
            ]
          },
          "metadata": {},
          "execution_count": 38
        }
      ],
      "source": [
        "active_set.n_unlabelled"
      ]
    },
    {
      "cell_type": "code",
      "execution_count": 39,
      "metadata": {
        "colab": {
          "base_uri": "https://localhost:8080/"
        },
        "id": "6lCsTCwrdxHO",
        "outputId": "2d14db1d-7379-4394-b5e7-9caa408ae83e"
      },
      "outputs": [
        {
          "output_type": "execute_result",
          "data": {
            "text/plain": [
              "array([     0,      1,      2, ..., 146997, 146998, 146999])"
            ]
          },
          "metadata": {},
          "execution_count": 39
        }
      ],
      "source": [
        "pool = active_set.pool\n",
        "indices = np.arange(len(pool))\n",
        "indices"
      ]
    },
    {
      "cell_type": "code",
      "execution_count": 40,
      "metadata": {
        "colab": {
          "base_uri": "https://localhost:8080/"
        },
        "id": "JGJtbMi9fj7Q",
        "outputId": "23e04535-c62d-444b-c493-9da0906b2882"
      },
      "outputs": [
        {
          "output_type": "stream",
          "name": "stdout",
          "text": [
            "[196-MainThread  ] [baal.modelwrapper:predict_on_dataset_generator:263] \u001b[2m2022-11-25T20:40:26.097165Z\u001b[0m [\u001b[32m\u001b[1minfo     \u001b[0m] \u001b[1mStart Predict                 \u001b[0m \u001b[36mdataset\u001b[0m=\u001b[35m147000\u001b[0m\n",
            "100%|██████████| 14700/14700 [10:41<00:00, 22.90it/s]\n"
          ]
        }
      ],
      "source": [
        "probs = model.predict_on_dataset(pool,batch_size=10,iterations=20,use_cuda=use_cuda)"
      ]
    },
    {
      "cell_type": "code",
      "execution_count": 41,
      "metadata": {
        "id": "XYNqQMVClCCB"
      },
      "outputs": [],
      "source": [
        "to_label, uncertainty = heuristic.get_ranks(probs) \n",
        "to_label = indices[np.array(to_label)]"
      ]
    },
    {
      "cell_type": "code",
      "execution_count": 42,
      "metadata": {
        "id": "uTDkWoxFmEzE",
        "outputId": "d6bf1c4b-e59d-4109-bd66-780db81b0cbf",
        "colab": {
          "base_uri": "https://localhost:8080/"
        }
      },
      "outputs": [
        {
          "output_type": "execute_result",
          "data": {
            "text/plain": [
              "array([5.81741333e-05, 1.14917755e-04, 1.06811523e-04, ...,\n",
              "       1.32322311e-04, 1.25169754e-04, 8.13007355e-05], dtype=float32)"
            ]
          },
          "metadata": {},
          "execution_count": 42
        }
      ],
      "source": [
        "uncertainty"
      ]
    },
    {
      "cell_type": "code",
      "execution_count": 43,
      "metadata": {
        "id": "CBe5zUlPlPHi",
        "outputId": "cac20e37-5e88-45b3-e7cf-3327cfdead5d",
        "colab": {
          "base_uri": "https://localhost:8080/"
        }
      },
      "outputs": [
        {
          "output_type": "stream",
          "name": "stdout",
          "text": [
            "größte uncertainty: 0.00041031837\n",
            "dazugehöriger Index: 118461\n"
          ]
        }
      ],
      "source": [
        "# größte uncertainty \n",
        "# (ix_global_img sowieso in to_label[0] aber for-Schleife für besseres Verständnis)\n",
        "# also to_label[0] == uncertainty[ix_global_img]\n",
        "u = 0\n",
        "ix_pool_img = 0\n",
        "for i in range(len(uncertainty)):\n",
        "  if(uncertainty[i]>u): \n",
        "    u = uncertainty[i]\n",
        "    ix_pool_img = i\n",
        "\n",
        "print(\"größte uncertainty: \" + str(u))\n",
        "print(\"dazugehöriger Index: \" + str(ix_pool_img))"
      ]
    },
    {
      "cell_type": "code",
      "execution_count": 44,
      "metadata": {
        "id": "sCp7Uf0klRd4",
        "outputId": "cbc9b8fb-9b8d-4f35-ca6c-844d86f7a4af",
        "colab": {
          "base_uri": "https://localhost:8080/"
        }
      },
      "outputs": [
        {
          "output_type": "execute_result",
          "data": {
            "text/plain": [
              "array([118461,  71035, 134666, ..., 125054, 121123,  90797])"
            ]
          },
          "metadata": {},
          "execution_count": 44
        }
      ],
      "source": [
        "to_label"
      ]
    },
    {
      "cell_type": "code",
      "execution_count": 45,
      "metadata": {
        "id": "dgwI-K4rl8ZY",
        "outputId": "283f88ba-840b-44b3-998b-06d0453364bd",
        "colab": {
          "base_uri": "https://localhost:8080/"
        }
      },
      "outputs": [
        {
          "output_type": "execute_result",
          "data": {
            "text/plain": [
              "146999"
            ]
          },
          "metadata": {},
          "execution_count": 45
        }
      ],
      "source": [
        "# größter index\n",
        "l = 0\n",
        "for i in range(len(to_label)):\n",
        "  if(to_label[i]>l): l = to_label[i]\n",
        "\n",
        "l"
      ]
    },
    {
      "cell_type": "code",
      "execution_count": 46,
      "metadata": {
        "id": "BuZQ72USttFi",
        "outputId": "811e5bd5-3e41-4f44-caca-1e83acc3188f",
        "colab": {
          "base_uri": "https://localhost:8080/"
        }
      },
      "outputs": [
        {
          "output_type": "stream",
          "name": "stdout",
          "text": [
            "[106693]\n",
            "120874\n"
          ]
        }
      ],
      "source": [
        "oracle_set_one = active_set._pool_to_oracle_index([104559])\n",
        "print(oracle_set_one)\n",
        "oracle_set_two = active_set._pool_to_oracle_index(to_label)\n",
        "print(oracle_set_two[0])\n",
        "#ix_global_img = oracle_set[0]\n",
        "#ix_global_img\n"
      ]
    },
    {
      "cell_type": "code",
      "execution_count": 47,
      "metadata": {
        "id": "lBYTBOe-1dGN"
      },
      "outputs": [],
      "source": [
        "oracle_set = active_set._pool_to_oracle_index(to_label)\n",
        "ix_global_img = oracle_set[10]\n",
        "ix_pool_img = to_label[10]"
      ]
    },
    {
      "cell_type": "code",
      "execution_count": 48,
      "metadata": {
        "id": "3xFItpa8ziIk"
      },
      "outputs": [],
      "source": [
        "pool_img = active_set.pool[ix_pool_img]\n",
        "global_img = active_set._dataset[ix_global_img]\n",
        "#global_img = active_set._dataset[ix_global_img]"
      ]
    },
    {
      "cell_type": "code",
      "execution_count": 49,
      "metadata": {
        "id": "BQjx4ye6cATt"
      },
      "outputs": [],
      "source": [
        "def show(imgs):\n",
        "    fix, axs = plt.subplots(ncols=len(imgs), squeeze=False)\n",
        "    for i, img in enumerate(imgs):\n",
        "        img = transforms.ToPILImage()(img.to('cpu'))\n",
        "        axs[0, i].imshow(np.asarray(img))\n",
        "        axs[0, i].set(xticklabels=[], yticklabels=[], xticks=[], yticks=[])"
      ]
    },
    {
      "cell_type": "markdown",
      "metadata": {
        "id": "Hs4OKRamcATt"
      },
      "source": [
        "Bilder mit Normalisierung -> verzerrte Farben"
      ]
    },
    {
      "cell_type": "code",
      "execution_count": 50,
      "metadata": {
        "id": "ADZWj-AkcATt",
        "outputId": "29269057-e62a-44f7-9b56-8b9a3f78c885",
        "colab": {
          "base_uri": "https://localhost:8080/",
          "height": 187
        }
      },
      "outputs": [
        {
          "output_type": "display_data",
          "data": {
            "text/plain": [
              "<Figure size 432x288 with 2 Axes>"
            ],
            "image/png": "[encoded data removed]"
          },
          "metadata": {}
        }
      ],
      "source": [
        "show((pool_img[0],global_img[0]))"
      ]
    },
    {
      "cell_type": "markdown",
      "metadata": {
        "id": "1k6tSZwycATu"
      },
      "source": [
        "Normalisierung umgekehrt"
      ]
    },
    {
      "cell_type": "code",
      "execution_count": 51,
      "metadata": {
        "id": "wQlQ0uq0cATu"
      },
      "outputs": [],
      "source": [
        "invTrans = transforms.Compose([ transforms.Normalize(mean = [ 0., 0., 0. ], std = [ 1/0.5, 1/0.5, 1/0.5 ]),\n",
        "                                transforms.Normalize(mean = [ -0.5, -0.5, -0.5 ],std = [ 1., 1., 1. ]),\n",
        "                               ])"
      ]
    },
    {
      "cell_type": "code",
      "execution_count": 52,
      "metadata": {
        "id": "rX9dsYngcATu",
        "outputId": "e74b84c6-e1ac-4272-f2ef-7aad8dc1dd5b",
        "colab": {
          "base_uri": "https://localhost:8080/",
          "height": 187
        }
      },
      "outputs": [
        {
          "output_type": "display_data",
          "data": {
            "text/plain": [
              "<Figure size 432x288 with 2 Axes>"
            ],
            "image/png": "[encoded data removed]"
          },
          "metadata": {}
        }
      ],
      "source": [
        "show((invTrans(pool_img[0]),invTrans(global_img[0])))"
      ]
    },
    {
      "cell_type": "code",
      "execution_count": 53,
      "metadata": {
        "id": "Lado0v6jcATu",
        "outputId": "39deea3e-a44c-4fdd-e86c-e3a49647daa2",
        "colab": {
          "base_uri": "https://localhost:8080/"
        }
      },
      "outputs": [
        {
          "output_type": "execute_result",
          "data": {
            "text/plain": [
              "tensor([[[False, False, False,  ..., False,  True, False],\n",
              "         [False, False, False,  ..., False,  True, False],\n",
              "         [False, False, False,  ..., False,  True, False],\n",
              "         ...,\n",
              "         [False, False, False,  ..., False, False, False],\n",
              "         [False, False, False,  ..., False, False, False],\n",
              "         [False, False, False,  ..., False, False, False]],\n",
              "\n",
              "        [[False, False, False,  ..., False,  True, False],\n",
              "         [False, False, False,  ..., False,  True, False],\n",
              "         [False, False, False,  ..., False,  True, False],\n",
              "         ...,\n",
              "         [False, False, False,  ..., False, False, False],\n",
              "         [False, False, False,  ..., False,  True,  True],\n",
              "         [False, False, False,  ..., False, False, False]],\n",
              "\n",
              "        [[False, False, False,  ..., False, False, False],\n",
              "         [False, False, False,  ..., False, False, False],\n",
              "         [False, False, False,  ..., False, False, False],\n",
              "         ...,\n",
              "         [False, False, False,  ..., False, False, False],\n",
              "         [False, False, False,  ..., False,  True, False],\n",
              "         [False, False, False,  ..., False, False, False]]])"
            ]
          },
          "metadata": {},
          "execution_count": 53
        }
      ],
      "source": [
        "torch.eq(invTrans(pool_img[0]),invTrans(global_img[0]))"
      ]
    },
    {
      "cell_type": "code",
      "source": [
        "torch.abs(invTrans(pool_img[0]) - invTrans(global_img[0]))"
      ],
      "metadata": {
        "id": "eYr5f2U0g496",
        "outputId": "5cf1e1c5-1c8b-44b9-9300-c5097d0dac16",
        "colab": {
          "base_uri": "https://localhost:8080/"
        }
      },
      "execution_count": 54,
      "outputs": [
        {
          "output_type": "execute_result",
          "data": {
            "text/plain": [
              "tensor([[[0.0941, 0.0941, 0.0941,  ..., 0.1020, 0.0000, 0.0353],\n",
              "         [0.0941, 0.0941, 0.0863,  ..., 0.0706, 0.0000, 0.0235],\n",
              "         [0.0941, 0.0941, 0.0902,  ..., 0.0588, 0.0000, 0.0667],\n",
              "         ...,\n",
              "         [0.0471, 0.0275, 0.0118,  ..., 0.0078, 0.0078, 0.0118],\n",
              "         [0.0549, 0.0235, 0.0118,  ..., 0.0196, 0.0196, 0.0196],\n",
              "         [0.0510, 0.0314, 0.0118,  ..., 0.0863, 0.0941, 0.0980]],\n",
              "\n",
              "        [[0.0941, 0.0941, 0.0941,  ..., 0.1412, 0.0000, 0.0431],\n",
              "         [0.0941, 0.0941, 0.0863,  ..., 0.1137, 0.0000, 0.0314],\n",
              "         [0.0941, 0.0941, 0.0902,  ..., 0.1020, 0.0000, 0.0784],\n",
              "         ...,\n",
              "         [0.0549, 0.0314, 0.0196,  ..., 0.0078, 0.0039, 0.0039],\n",
              "         [0.0627, 0.0314, 0.0196,  ..., 0.0039, 0.0000, 0.0000],\n",
              "         [0.0588, 0.0353, 0.0196,  ..., 0.0118, 0.0157, 0.0157]],\n",
              "\n",
              "        [[0.0941, 0.0941, 0.0863,  ..., 0.1059, 0.1098, 0.1059],\n",
              "         [0.0941, 0.0941, 0.0784,  ..., 0.1176, 0.0706, 0.1059],\n",
              "         [0.0941, 0.0941, 0.0824,  ..., 0.1176, 0.1333, 0.0941],\n",
              "         ...,\n",
              "         [0.0588, 0.0353, 0.0196,  ..., 0.0118, 0.0118, 0.0118],\n",
              "         [0.0588, 0.0314, 0.0235,  ..., 0.0039, 0.0000, 0.0039],\n",
              "         [0.0627, 0.0353, 0.0235,  ..., 0.0157, 0.0196, 0.0235]]])"
            ]
          },
          "metadata": {},
          "execution_count": 54
        }
      ]
    },
    {
      "cell_type": "markdown",
      "metadata": {
        "id": "5skzJda1wyKw"
      },
      "source": [
        "Versuche herauszufinden was folgende Zeile genau macht und wieso aber bisher erfolglos"
      ]
    },
    {
      "cell_type": "code",
      "execution_count": 55,
      "metadata": {
        "id": "EbLsD0KRudcz",
        "outputId": "77e01a11-d468-44a5-af7e-e52962832f73",
        "colab": {
          "base_uri": "https://localhost:8080/"
        }
      },
      "outputs": [
        {
          "output_type": "execute_result",
          "data": {
            "text/plain": [
              "array([118461,  71035, 134666, ..., 125054, 121123,  90797])"
            ]
          },
          "metadata": {},
          "execution_count": 55
        }
      ],
      "source": [
        "to_label_two = indices[np.array(to_label)]\n",
        "to_label_two"
      ]
    },
    {
      "cell_type": "code",
      "execution_count": 56,
      "metadata": {
        "id": "dfE6M1kzvmrW",
        "outputId": "9c653112-f338-4b73-c39c-1ff7a1c380a7",
        "colab": {
          "base_uri": "https://localhost:8080/"
        }
      },
      "outputs": [
        {
          "output_type": "stream",
          "name": "stdout",
          "text": [
            "<class 'numpy.ndarray'>\n",
            "<class 'numpy.ndarray'>\n",
            "147000\n",
            "147000\n"
          ]
        }
      ],
      "source": [
        "print(type(to_label))\n",
        "print(type(to_label_two))\n",
        "print(len(to_label))\n",
        "print(len(to_label_two))"
      ]
    },
    {
      "cell_type": "code",
      "execution_count": 57,
      "metadata": {
        "id": "5Uvvx1hSv83C",
        "outputId": "5978381d-484f-4bfc-b76c-a52095a3a0c9",
        "colab": {
          "base_uri": "https://localhost:8080/"
        }
      },
      "outputs": [
        {
          "output_type": "execute_result",
          "data": {
            "text/plain": [
              "array([118461,  71035, 134666, ..., 125054, 121123,  90797])"
            ]
          },
          "metadata": {},
          "execution_count": 57
        }
      ],
      "source": [
        "indices[np.array(to_label)]"
      ]
    },
    {
      "cell_type": "code",
      "execution_count": 58,
      "metadata": {
        "id": "PTPPy2Y_uC1S",
        "outputId": "cc5cd49b-79fa-451d-cecf-f91edff77fea",
        "colab": {
          "base_uri": "https://localhost:8080/"
        }
      },
      "outputs": [
        {
          "output_type": "execute_result",
          "data": {
            "text/plain": [
              "array([3, 7, 1, 4])"
            ]
          },
          "metadata": {},
          "execution_count": 58
        }
      ],
      "source": [
        "t = np.array([3,7,1,4])\n",
        "t"
      ]
    },
    {
      "cell_type": "code",
      "execution_count": 58,
      "metadata": {
        "id": "_pMocpOivMa6"
      },
      "outputs": [],
      "source": []
    }
  ],
  "metadata": {
    "accelerator": "GPU",
    "colab": {
      "provenance": [],
      "include_colab_link": true
    },
    "gpuClass": "standard",
    "kernelspec": {
      "display_name": "Python 3.10.8 ('env_baal')",
      "language": "python",
      "name": "python3"
    },
    "language_info": {
      "codemirror_mode": {
        "name": "ipython",
        "version": 3
      },
      "file_extension": ".py",
      "mimetype": "text/x-python",
      "name": "python",
      "nbconvert_exporter": "python",
      "pygments_lexer": "ipython3",
      "version": "3.10.8"
    },
    "vscode": {
      "interpreter": {
        "hash": "4fdcf6f5482bb78b036200e55cbf923ad015f8ef81f424b9c55d1aa8e1bbdb78"
      }
    }
  },
  "nbformat": 4,
  "nbformat_minor": 0
}