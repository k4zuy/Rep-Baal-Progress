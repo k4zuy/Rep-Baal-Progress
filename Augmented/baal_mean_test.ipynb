{
  "cells": [
    {
      "cell_type": "markdown",
      "metadata": {
        "id": "view-in-github",
        "colab_type": "text"
      },
      "source": [
        "<a href=\"https://colab.research.google.com/github/k4zuy/Rep-Baal-Progress/blob/main/Augmented/baal_mean_test.ipynb\" target=\"_parent\"><img src=\"https://colab.research.google.com/assets/colab-badge.svg\" alt=\"Open In Colab\"/></a>"
      ]
    },
    {
      "cell_type": "code",
      "source": [
        "!git clone https://github.com/ColinS97/BaaL_Experiments.git"
      ],
      "metadata": {
        "colab": {
          "base_uri": "https://localhost:8080/"
        },
        "id": "zxFxBdKDFGNs",
        "outputId": "7c04f80a-8666-4c8f-ceb5-8f44612cc344"
      },
      "execution_count": 1,
      "outputs": [
        {
          "output_type": "stream",
          "name": "stdout",
          "text": [
            "Cloning into 'BaaL_Experiments'...\n",
            "remote: Enumerating objects: 156, done.\u001b[K\n",
            "remote: Counting objects: 100% (156/156), done.\u001b[K\n",
            "remote: Compressing objects: 100% (104/104), done.\u001b[K\n",
            "remote: Total 156 (delta 92), reused 113 (delta 49), pack-reused 0\u001b[K\n",
            "Receiving objects: 100% (156/156), 172.19 KiB | 19.13 MiB/s, done.\n",
            "Resolving deltas: 100% (92/92), done.\n"
          ]
        }
      ]
    },
    {
      "cell_type": "code",
      "source": [
        "cd BaaL_Experiments"
      ],
      "metadata": {
        "colab": {
          "base_uri": "https://localhost:8080/"
        },
        "id": "gOFOgNucFRRh",
        "outputId": "5a0675bc-b38b-4c2d-98d4-c9d4f54fa6c6"
      },
      "execution_count": 2,
      "outputs": [
        {
          "output_type": "stream",
          "name": "stdout",
          "text": [
            "/content/BaaL_Experiments\n"
          ]
        }
      ]
    },
    {
      "cell_type": "code",
      "execution_count": 3,
      "metadata": {
        "colab": {
          "base_uri": "https://localhost:8080/",
          "height": 919
        },
        "id": "qm0gIztasQ0u",
        "outputId": "194f8fb0-e3b8-4d42-fc15-49eeff8748a1"
      },
      "outputs": [
        {
          "output_type": "stream",
          "name": "stdout",
          "text": [
            "Looking in indexes: https://pypi.org/simple, https://us-python.pkg.dev/colab-wheels/public/simple/\n",
            "Collecting baal\n",
            "  Downloading baal-1.7.0-py3-none-any.whl (61 kB)\n",
            "\u001b[K     |████████████████████████████████| 61 kB 275 kB/s \n",
            "\u001b[?25hRequirement already satisfied: tqdm<5.0.0,>=4.62.2 in /usr/local/lib/python3.8/dist-packages (from baal) (4.64.1)\n",
            "Requirement already satisfied: scipy<2.0.0,>=1.7.1 in /usr/local/lib/python3.8/dist-packages (from baal) (1.7.3)\n",
            "Requirement already satisfied: numpy<2.0.0,>=1.21.2 in /usr/local/lib/python3.8/dist-packages (from baal) (1.21.6)\n",
            "Collecting matplotlib<4.0.0,>=3.4.3\n",
            "  Downloading matplotlib-3.6.2-cp38-cp38-manylinux_2_12_x86_64.manylinux2010_x86_64.whl (9.4 MB)\n",
            "\u001b[K     |████████████████████████████████| 9.4 MB 64.7 MB/s \n",
            "\u001b[?25hRequirement already satisfied: Pillow>=6.2.0 in /usr/local/lib/python3.8/dist-packages (from baal) (7.1.2)\n",
            "Collecting h5py<4.0.0,>=3.4.0\n",
            "  Downloading h5py-3.7.0-cp38-cp38-manylinux_2_12_x86_64.manylinux2010_x86_64.whl (4.5 MB)\n",
            "\u001b[K     |████████████████████████████████| 4.5 MB 51.9 MB/s \n",
            "\u001b[?25hCollecting structlog<22.0.0,>=21.1.0\n",
            "  Downloading structlog-21.5.0-py3-none-any.whl (53 kB)\n",
            "\u001b[K     |████████████████████████████████| 53 kB 2.0 MB/s \n",
            "\u001b[?25hRequirement already satisfied: scikit-learn<2.0.0,>=1.0.0 in /usr/local/lib/python3.8/dist-packages (from baal) (1.0.2)\n",
            "Collecting torchmetrics<0.10.0,>=0.9.3\n",
            "  Downloading torchmetrics-0.9.3-py3-none-any.whl (419 kB)\n",
            "\u001b[K     |████████████████████████████████| 419 kB 71.7 MB/s \n",
            "\u001b[?25hRequirement already satisfied: torch>=1.6.0 in /usr/local/lib/python3.8/dist-packages (from baal) (1.13.0+cu116)\n",
            "Requirement already satisfied: packaging>=20.0 in /usr/local/lib/python3.8/dist-packages (from matplotlib<4.0.0,>=3.4.3->baal) (21.3)\n",
            "Requirement already satisfied: cycler>=0.10 in /usr/local/lib/python3.8/dist-packages (from matplotlib<4.0.0,>=3.4.3->baal) (0.11.0)\n",
            "Requirement already satisfied: python-dateutil>=2.7 in /usr/local/lib/python3.8/dist-packages (from matplotlib<4.0.0,>=3.4.3->baal) (2.8.2)\n",
            "Collecting fonttools>=4.22.0\n",
            "  Downloading fonttools-4.38.0-py3-none-any.whl (965 kB)\n",
            "\u001b[K     |████████████████████████████████| 965 kB 61.1 MB/s \n",
            "\u001b[?25hRequirement already satisfied: pyparsing>=2.2.1 in /usr/local/lib/python3.8/dist-packages (from matplotlib<4.0.0,>=3.4.3->baal) (3.0.9)\n",
            "Collecting contourpy>=1.0.1\n",
            "  Downloading contourpy-1.0.6-cp38-cp38-manylinux_2_17_x86_64.manylinux2014_x86_64.whl (295 kB)\n",
            "\u001b[K     |████████████████████████████████| 295 kB 66.2 MB/s \n",
            "\u001b[?25hRequirement already satisfied: kiwisolver>=1.0.1 in /usr/local/lib/python3.8/dist-packages (from matplotlib<4.0.0,>=3.4.3->baal) (1.4.4)\n",
            "Requirement already satisfied: six>=1.5 in /usr/local/lib/python3.8/dist-packages (from python-dateutil>=2.7->matplotlib<4.0.0,>=3.4.3->baal) (1.15.0)\n",
            "Requirement already satisfied: threadpoolctl>=2.0.0 in /usr/local/lib/python3.8/dist-packages (from scikit-learn<2.0.0,>=1.0.0->baal) (3.1.0)\n",
            "Requirement already satisfied: joblib>=0.11 in /usr/local/lib/python3.8/dist-packages (from scikit-learn<2.0.0,>=1.0.0->baal) (1.2.0)\n",
            "Requirement already satisfied: typing-extensions in /usr/local/lib/python3.8/dist-packages (from torch>=1.6.0->baal) (4.4.0)\n",
            "Installing collected packages: fonttools, contourpy, torchmetrics, structlog, matplotlib, h5py, baal\n",
            "  Attempting uninstall: matplotlib\n",
            "    Found existing installation: matplotlib 3.2.2\n",
            "    Uninstalling matplotlib-3.2.2:\n",
            "      Successfully uninstalled matplotlib-3.2.2\n",
            "  Attempting uninstall: h5py\n",
            "    Found existing installation: h5py 3.1.0\n",
            "    Uninstalling h5py-3.1.0:\n",
            "      Successfully uninstalled h5py-3.1.0\n",
            "Successfully installed baal-1.7.0 contourpy-1.0.6 fonttools-4.38.0 h5py-3.7.0 matplotlib-3.6.2 structlog-21.5.0 torchmetrics-0.9.3\n"
          ]
        },
        {
          "output_type": "display_data",
          "data": {
            "application/vnd.colab-display-data+json": {
              "pip_warning": {
                "packages": [
                  "matplotlib",
                  "mpl_toolkits"
                ]
              }
            }
          },
          "metadata": {}
        }
      ],
      "source": [
        "!pip install baal"
      ]
    },
    {
      "cell_type": "code",
      "execution_count": 4,
      "metadata": {
        "colab": {
          "base_uri": "https://localhost:8080/"
        },
        "id": "GTBZmsC63Gdf",
        "outputId": "4361c4a1-03ee-4278-ab48-925b6d159c01"
      },
      "outputs": [
        {
          "output_type": "stream",
          "name": "stdout",
          "text": [
            "Looking in indexes: https://pypi.org/simple, https://us-python.pkg.dev/colab-wheels/public/simple/\n",
            "Requirement already satisfied: pillow in /usr/local/lib/python3.8/dist-packages (7.1.2)\n"
          ]
        }
      ],
      "source": [
        "!pip install pillow"
      ]
    },
    {
      "cell_type": "markdown",
      "metadata": {
        "id": "tAxArrrncATl"
      },
      "source": [
        "Required for Nvidia RTX 3060"
      ]
    },
    {
      "cell_type": "code",
      "execution_count": 5,
      "metadata": {
        "id": "p47nxvj_cATm"
      },
      "outputs": [],
      "source": [
        "#python -m pip install torch==1.13.0+cu117 torchvision==0.14.0+cu117 -f https://download.pytorch.org/whl/torch_stable.html"
      ]
    },
    {
      "cell_type": "markdown",
      "metadata": {
        "id": "0kp7yQ1ccATn"
      },
      "source": [
        "Required for Colab"
      ]
    },
    {
      "cell_type": "code",
      "execution_count": 6,
      "metadata": {
        "id": "oHo5LpZ1cATn",
        "colab": {
          "base_uri": "https://localhost:8080/",
          "height": 416
        },
        "outputId": "f611dff5-6619-43a4-c4a8-ef44a4d490d2"
      },
      "outputs": [
        {
          "output_type": "stream",
          "name": "stdout",
          "text": [
            "Looking in indexes: https://pypi.org/simple, https://us-python.pkg.dev/colab-wheels/public/simple/\n",
            "Collecting matplotlib==3.1.3\n",
            "  Downloading matplotlib-3.1.3-cp38-cp38-manylinux1_x86_64.whl (13.1 MB)\n",
            "\u001b[K     |████████████████████████████████| 13.1 MB 42.1 MB/s \n",
            "\u001b[?25hRequirement already satisfied: numpy>=1.11 in /usr/local/lib/python3.8/dist-packages (from matplotlib==3.1.3) (1.21.6)\n",
            "Requirement already satisfied: python-dateutil>=2.1 in /usr/local/lib/python3.8/dist-packages (from matplotlib==3.1.3) (2.8.2)\n",
            "Requirement already satisfied: pyparsing!=2.0.4,!=2.1.2,!=2.1.6,>=2.0.1 in /usr/local/lib/python3.8/dist-packages (from matplotlib==3.1.3) (3.0.9)\n",
            "Requirement already satisfied: kiwisolver>=1.0.1 in /usr/local/lib/python3.8/dist-packages (from matplotlib==3.1.3) (1.4.4)\n",
            "Requirement already satisfied: cycler>=0.10 in /usr/local/lib/python3.8/dist-packages (from matplotlib==3.1.3) (0.11.0)\n",
            "Requirement already satisfied: six>=1.5 in /usr/local/lib/python3.8/dist-packages (from python-dateutil>=2.1->matplotlib==3.1.3) (1.15.0)\n",
            "Installing collected packages: matplotlib\n",
            "  Attempting uninstall: matplotlib\n",
            "    Found existing installation: matplotlib 3.6.2\n",
            "    Uninstalling matplotlib-3.6.2:\n",
            "      Successfully uninstalled matplotlib-3.6.2\n",
            "\u001b[31mERROR: pip's dependency resolver does not currently take into account all the packages that are installed. This behaviour is the source of the following dependency conflicts.\n",
            "baal 1.7.0 requires matplotlib<4.0.0,>=3.4.3, but you have matplotlib 3.1.3 which is incompatible.\u001b[0m\n",
            "Successfully installed matplotlib-3.1.3\n"
          ]
        },
        {
          "output_type": "display_data",
          "data": {
            "application/vnd.colab-display-data+json": {
              "pip_warning": {
                "packages": [
                  "matplotlib",
                  "mpl_toolkits"
                ]
              }
            }
          },
          "metadata": {}
        }
      ],
      "source": [
        "!pip install matplotlib==3.1.3"
      ]
    },
    {
      "cell_type": "markdown",
      "metadata": {
        "id": "Ennb17Elsz0q"
      },
      "source": [
        "Imports"
      ]
    },
    {
      "cell_type": "code",
      "execution_count": 7,
      "metadata": {
        "id": "F6J7rQEls25O"
      },
      "outputs": [],
      "source": [
        "import argparse\n",
        "import random\n",
        "import csv\n",
        "from copy import deepcopy\n",
        "from time import time\n",
        "import datetime\n",
        "from dataclasses import dataclass\n",
        "import numpy as np\n",
        "import PIL\n",
        "import matplotlib.pyplot as plt\n",
        "\n",
        "import torch\n",
        "import torch.backends\n",
        "from torch import optim\n",
        "from torch.hub import load_state_dict_from_url\n",
        "from torch.nn import CrossEntropyLoss\n",
        "from torchvision import datasets\n",
        "from torchvision.models import vgg16\n",
        "from torchvision.transforms import transforms\n",
        "from tqdm import tqdm\n",
        "from torch import nn\n",
        "import torch.nn.functional as F\n",
        "\n",
        "from baal.active import get_heuristic, ActiveLearningDataset\n",
        "from baal.active.active_loop import ActiveLearningLoop\n",
        "from baal.bayesian.dropout import patch_module\n",
        "from baal import ModelWrapper\n",
        "from baal.utils.metrics import Accuracy\n",
        "from baal.active.heuristics import BALD\n",
        "from baal.active.dataset import ActiveLearningDataset\n",
        "\n",
        "import aug_lib\n",
        "\n",
        "from baal_extended.ExtendedActiveLearningDataset import ExtendedActiveLearningDataset"
      ]
    },
    {
      "cell_type": "code",
      "execution_count": 53,
      "metadata": {
        "id": "0Fub7s-Ws4QN"
      },
      "outputs": [],
      "source": [
        "@dataclass\n",
        "class ExperimentConfig:\n",
        "    epoch: int = 1\n",
        "    batch_size: int = 32\n",
        "    initial_pool: int = 10\n",
        "    query_size: int = 100\n",
        "    lr: float = 0.001\n",
        "    heuristic: str = 'bald'\n",
        "    iterations: int = 40\n",
        "    training_duration: int = 10"
      ]
    },
    {
      "cell_type": "code",
      "execution_count": 9,
      "metadata": {
        "id": "f4EdJKuUtQGH"
      },
      "outputs": [],
      "source": [
        "def get_datasets(initial_pool, n_augmentations):\n",
        "    transform = transforms.Compose(\n",
        "        [\n",
        "            # transforms.Resize((224, 224)),\n",
        "            transforms.ToTensor(),\n",
        "            #transforms.Normalize(3 * [0.5], 3 * [0.5]),\n",
        "        ]\n",
        "    )\n",
        "    aug_transform = transforms.Compose(\n",
        "        [\n",
        "            # transforms.Resize((224, 224)),\n",
        "            aug_lib.TrivialAugment(),\n",
        "            transforms.ToTensor(),\n",
        "            #transforms.Normalize(3 * [0.5], 3 * [0.5]),\n",
        "        ]\n",
        "    )\n",
        "    test_transform = transforms.Compose(\n",
        "        [\n",
        "            # transforms.Resize((224, 224)),\n",
        "            transforms.ToTensor(),\n",
        "            #transforms.Normalize(3 * [0.5], 3 * [0.5]),\n",
        "        ]\n",
        "    )\n",
        "    # Note: We use the test set here as an example. You should make your own validation set.\n",
        "    train_ds = datasets.CIFAR10(\n",
        "        \".\", train=True, transform=transform, target_transform=None, download=True\n",
        "    )\n",
        "\n",
        "    aug_train_ds = datasets.CIFAR10(\n",
        "        \".\", train=True, transform=aug_transform, target_transform=None, download=True\n",
        "    )\n",
        "    test_set = datasets.CIFAR10(\n",
        "        \".\", train=False, transform=test_transform, target_transform=None, download=True\n",
        "    )\n",
        "    eald_set = ExtendedActiveLearningDataset(train_ds)\n",
        "\n",
        "    # active_set = ActiveLearningDataset(\n",
        "    #    train_ds, pool_specifics={\"transform\": test_transform}\n",
        "    # )\n",
        "    eald_set.augment_n_times(n_augmentations, augmented_dataset=aug_train_ds)\n",
        "    # We start labeling randomly.\n",
        "    eald_set.label_randomly(initial_pool)\n",
        "    return eald_set, test_set"
      ]
    },
    {
      "cell_type": "code",
      "execution_count": 54,
      "metadata": {
        "colab": {
          "base_uri": "https://localhost:8080/"
        },
        "id": "lMqh_MQGc8Jn",
        "outputId": "37e77317-b770-4c78-962b-760c208630c7"
      },
      "outputs": [
        {
          "output_type": "stream",
          "name": "stdout",
          "text": [
            "Files already downloaded and verified\n",
            "Files already downloaded and verified\n",
            "Files already downloaded and verified\n",
            "orig len50000\n",
            "augmented n times0\n"
          ]
        }
      ],
      "source": [
        "hyperparams = ExperimentConfig()\n",
        "use_cuda = torch.cuda.is_available()\n",
        "torch.backends.cudnn.benchmark = True\n",
        "random.seed(1337)\n",
        "torch.manual_seed(1337)\n",
        "if not use_cuda:\n",
        "    print(\"warning, the experiments would take ages to run on cpu\")\n",
        "\n",
        "# Get datasets\n",
        "active_set, test_set = get_datasets(hyperparams.initial_pool,2)\n",
        "\n",
        "# Get our model.\n",
        "heuristic = get_heuristic(hyperparams.heuristic)\n",
        "criterion = CrossEntropyLoss()\n",
        "model = vgg16(num_classes=10)\n",
        "\n",
        "# change dropout layer to MCDropout\n",
        "model = patch_module(model)\n",
        "\n",
        "if use_cuda:\n",
        "    model.cuda()\n",
        "optimizer = optim.SGD(model.parameters(), lr=hyperparams.lr, momentum=0.9)\n",
        "\n",
        "# Wraps the model into a usable API.\n",
        "model = ModelWrapper(model, criterion)\n",
        "\n",
        "# for ActiveLearningLoop we use a smaller batchsize\n",
        "# since we will stack predictions to perform MCDropout.\n",
        "active_loop = ActiveLearningLoop(active_set,\n",
        "                                 model.predict_on_dataset,\n",
        "                                 heuristic,\n",
        "                                 hyperparams.query_size,\n",
        "                                 batch_size=1,\n",
        "                                 iterations=hyperparams.iterations,\n",
        "                                 use_cuda=use_cuda,\n",
        "                                 verbose=False)\n",
        "\n",
        "# We will reset the weights at each active learning step so we make a copy.\n",
        "init_weights = deepcopy(model.state_dict())"
      ]
    },
    {
      "cell_type": "code",
      "source": [
        "for epoch in tqdm(range(hyperparams.epoch)):\n",
        "            # if we are in the last round we want to train for longer epochs to get a more comparable result\n",
        "            #if epoch == args.epoch:\n",
        "             #   hyperparams[\"learning_epoch\"] = 75\n",
        "            \n",
        "            # Load the initial weights.\n",
        "            \n",
        "            model.load_state_dict(init_weights)\n",
        "            model.train_on_dataset(\n",
        "                active_set,\n",
        "                optimizer,\n",
        "                hyperparams.batch_size,\n",
        "                hyperparams.training_duration,\n",
        "                use_cuda,\n",
        "            )\n",
        "\n",
        "            # Validation!\n",
        "            \n",
        "            model.test_on_dataset(test_set, hyperparams.batch_size, use_cuda)\n",
        "            metrics = model.metrics\n",
        "            "
      ],
      "metadata": {
        "colab": {
          "base_uri": "https://localhost:8080/"
        },
        "id": "B4toy_5WqUpt",
        "outputId": "7e4cf924-f934-44fc-f0d8-0306effb612b"
      },
      "execution_count": 55,
      "outputs": [
        {
          "output_type": "stream",
          "name": "stderr",
          "text": [
            "\r  0%|          | 0/1 [00:00<?, ?it/s]"
          ]
        },
        {
          "output_type": "stream",
          "name": "stdout",
          "text": [
            "[76-MainThread   ] [baal.modelwrapper:train_on_dataset:83] \u001b[2m2022-12-18T12:41:27.646998Z\u001b[0m [\u001b[32m\u001b[1minfo     \u001b[0m] \u001b[1mStarting training             \u001b[0m \u001b[36mdataset\u001b[0m=\u001b[35m30\u001b[0m \u001b[36mepoch\u001b[0m=\u001b[35m10\u001b[0m\n"
          ]
        },
        {
          "output_type": "stream",
          "name": "stderr",
          "text": [
            "/usr/local/lib/python3.8/dist-packages/torch/utils/data/dataloader.py:554: UserWarning: This DataLoader will create 4 worker processes in total. Our suggested max number of worker in current system is 2, which is smaller than what this DataLoader is going to create. Please be aware that excessive worker creation might get DataLoader running slow or even freeze, lower the worker number to avoid potential slowness/freeze if necessary.\n",
            "  warnings.warn(_create_warning_msg(\n"
          ]
        },
        {
          "output_type": "stream",
          "name": "stdout",
          "text": [
            "[76-MainThread   ] [baal.modelwrapper:train_on_dataset:94] \u001b[2m2022-12-18T12:41:44.332432Z\u001b[0m [\u001b[32m\u001b[1minfo     \u001b[0m] \u001b[1mTraining complete             \u001b[0m \u001b[36mtrain_loss\u001b[0m=\u001b[35m2.292794704437256\u001b[0m\n",
            "[76-MainThread   ] [baal.modelwrapper:test_on_dataset:123] \u001b[2m2022-12-18T12:41:44.338802Z\u001b[0m [\u001b[32m\u001b[1minfo     \u001b[0m] \u001b[1mStarting evaluating           \u001b[0m \u001b[36mdataset\u001b[0m=\u001b[35m10000\u001b[0m\n",
            "[76-MainThread   ] [baal.modelwrapper:test_on_dataset:133] \u001b[2m2022-12-18T12:41:47.970925Z\u001b[0m [\u001b[32m\u001b[1minfo     \u001b[0m] \u001b[1mEvaluation complete           \u001b[0m \u001b[36mtest_loss\u001b[0m=\u001b[35m2.30255389213562\u001b[0m\n"
          ]
        },
        {
          "output_type": "stream",
          "name": "stderr",
          "text": [
            "100%|██████████| 1/1 [00:20<00:00, 20.38s/it]\n"
          ]
        }
      ]
    },
    {
      "cell_type": "code",
      "source": [
        "orgset_len = int(len(active_set._dataset)/(3)) # length of original dataset (dataset divided through amount augmentatios + 1)\n",
        "print(\"orgset_len: \" + str(orgset_len))\n",
        "pool = active_set.pool\n",
        "if len(pool) > 0:\n",
        "    indices = np.arange(len(pool)) # array von 0 bis len(pool)-1 (nach initial label: 146999)\n",
        "    probs = model.predict_on_dataset(pool,batch_size=10,iterations=hyperparams.iterations,use_cuda=use_cuda)\n",
        "    #if probs is not None and (isinstance(probs, types.GeneratorType) or len(probs) > 0):\n",
        "    # -> \"isinstance(...) needed when using predict_..._Generator\"\n",
        "    if probs is not None and len(probs) > 0:\n",
        "        #to_label, uncertainties = heuristic.get_ranks(probs) \n",
        "        uncertainties = heuristic.get_uncertainties(probs)\n",
        "            # to_label -> indices sortiert von größter zu niedrigster uncertainty\n",
        "            # uncertainty -> alle uncertainties des pools in Reihenfolge wie pool vorliegt\n",
        "            #to_label = indices[np.array(to_label)] # was hier passiert keine Ahnung aber to_label bleibt gleich also unnütze Zeile?\n",
        "        # 1. get all original images from to_label(whole pool sorted after uncertainties highest to lowest)\n",
        "        # 2. get for each original image the ids of augmented children and all three uncertainties\n",
        "        # 3. calculate the means\n",
        "        # 4. sort those means after highest to lowest uncertainties \n",
        "        # 5. label images (all of one kind) after query value with pool indices\n",
        "        trios = []\n",
        "        oracle_idx = active_set._pool_to_oracle_index(indices)\n",
        "        for idx in oracle_idx:   \n",
        "            # checks if img already in trios\n",
        "            if idx not in trios:\n",
        "                if idx >= orgset_len and idx < len(active_set._dataset)-orgset_len:\n",
        "                    # img is first augmentation\n",
        "                    org = idx - orgset_len\n",
        "                    aug1 = idx\n",
        "                    aug2 = idx + orgset_len\n",
        "                elif idx >= len(active_set._dataset)-orgset_len:\n",
        "                    # img is second augmentation\n",
        "                    org = idx - 2*orgset_len\n",
        "                    aug1 = idx - orgset_len\n",
        "                    aug2 = idx\n",
        "                else:\n",
        "                    # img is original \n",
        "                    org = idx\n",
        "                    aug1 = idx + orgset_len\n",
        "                    aug2 = idx + 2*orgset_len\n",
        "                #trio = (org, aug1, aug2)\n",
        "                #trios.append(trio)\n",
        "                trios.append(int(org))\n",
        "                trios.append(int(aug1))\n",
        "                trios.append(int(aug2))\n",
        "            else:\n",
        "              print(f\"idx: {idx} is in trios with len: {len(trios)}\")\n",
        "        print(\"trios: \" + str(trios))\n",
        "        #trios = (np.asarray(trios,\"int\")).tolist()\n",
        "        trios_uncertainties = []\n",
        "        pool_trios = active_set._oracle_to_pool_index(trios)\n",
        "        for i in range(len(pool_trios)):\n",
        "            # get the uncertainty of all images\n",
        "            trios_uncertainties.append(uncertainties[pool_trios[i]])\n",
        "        trios_mean = []\n",
        "        k = trios_uncertainties[0]\n",
        "        assert len(trios_uncertainties) % 3 == 0, \"trios_mean should be a multiple of augmentations + 1\"\n",
        "        for i in range(1,len(trios_uncertainties)):\n",
        "            if (i+1) % 3 != 0:\n",
        "                k += trios_uncertainties[i]\n",
        "            else:\n",
        "                k += trios_uncertainties[i]\n",
        "                mean = k/3\n",
        "                trios_mean.append(mean)\n",
        "                k = 0\n",
        "        trios_idx_mean_sorted = np.argsort(trios_mean)[::-1]\n",
        "        to_label = []\n",
        "        for idx in trios_idx_mean_sorted:\n",
        "            # org image will be chosen\n",
        "            to_label.append(pool_trios[3*idx])\n",
        "        # original and all augmentations will be labled\n",
        "\n",
        "       # active_set.label(to_label[: hyperparams.query_size])\n",
        "    else:\n",
        "        print(\"break\")\n",
        "        #break\n",
        "else: \n",
        "    print(\"break\")\n",
        "    #break"
      ],
      "metadata": {
        "id": "2e5vWDVr29nf"
      },
      "execution_count": null,
      "outputs": []
    },
    {
      "cell_type": "code",
      "source": [
        "len(trios)"
      ],
      "metadata": {
        "id": "k-DODc6iYNyz",
        "outputId": "7869f6b5-0023-4fed-80fd-550637c97cf1",
        "colab": {
          "base_uri": "https://localhost:8080/"
        }
      },
      "execution_count": 60,
      "outputs": [
        {
          "output_type": "execute_result",
          "data": {
            "text/plain": [
              "149994"
            ]
          },
          "metadata": {},
          "execution_count": 60
        }
      ]
    },
    {
      "cell_type": "code",
      "source": [
        "pool_trios = active_set._oracle_to_pool_index(trios)\n"
      ],
      "metadata": {
        "id": "eutyjtOlfKNr"
      },
      "execution_count": 125,
      "outputs": []
    },
    {
      "cell_type": "code",
      "source": [
        "len(pool_trios)"
      ],
      "metadata": {
        "id": "Nfa_rTQ-fOW_",
        "outputId": "bd64ea27-dbf7-46ba-93cb-961985c456fd",
        "colab": {
          "base_uri": "https://localhost:8080/"
        }
      },
      "execution_count": 126,
      "outputs": [
        {
          "output_type": "execute_result",
          "data": {
            "text/plain": [
              "149994"
            ]
          },
          "metadata": {},
          "execution_count": 126
        }
      ]
    },
    {
      "cell_type": "code",
      "source": [
        "uncertainties = heuristic.get_uncertainties(probs)\n",
        "trios = []\n",
        "oracle_idx = active_set._pool_to_oracle_index(indices)"
      ],
      "metadata": {
        "id": "mfvwl013OeoN"
      },
      "execution_count": 42,
      "outputs": []
    },
    {
      "cell_type": "code",
      "source": [
        "for i in range(len(oracle_idx)):\n",
        "  if oracle_idx[i] < 50000:\n",
        "    "
      ],
      "metadata": {
        "id": "e1oDgdPtOqGL",
        "outputId": "f1624e63-b7da-448d-ac2a-e5683be6e3d2",
        "colab": {
          "base_uri": "https://localhost:8080/"
        }
      },
      "execution_count": 44,
      "outputs": [
        {
          "output_type": "execute_result",
          "data": {
            "text/plain": [
              "0"
            ]
          },
          "metadata": {},
          "execution_count": 44
        }
      ]
    },
    {
      "cell_type": "code",
      "source": [
        "for i in range(len(oracle_idx)):\n",
        "  if i != oracle_idx[i]:\n",
        "    print(i)\n",
        "    break"
      ],
      "metadata": {
        "id": "jGS6VEOHLh5J",
        "outputId": "0e695b5c-705e-4495-9256-b7bc2284bc8b",
        "colab": {
          "base_uri": "https://localhost:8080/"
        }
      },
      "execution_count": 61,
      "outputs": [
        {
          "output_type": "stream",
          "name": "stdout",
          "text": [
            "3820\n"
          ]
        }
      ]
    },
    {
      "cell_type": "code",
      "source": [
        "oracle_idx[3815:3825]"
      ],
      "metadata": {
        "id": "5n6qeopoMKgX",
        "outputId": "45fd6219-34e2-4cfd-b7fc-6083cc937161",
        "colab": {
          "base_uri": "https://localhost:8080/"
        }
      },
      "execution_count": 127,
      "outputs": [
        {
          "output_type": "execute_result",
          "data": {
            "text/plain": [
              "[3815, 3816, 3817, 3818, 3819, 3821, 3822, 3823, 3824, 3825]"
            ]
          },
          "metadata": {},
          "execution_count": 127
        }
      ]
    },
    {
      "cell_type": "code",
      "source": [
        "def my_show(imgs):\n",
        "    rows = 6\n",
        "    columns = 5\n",
        "    fig = plt.figure(figsize=(15, 15))\n",
        "    for i, img in enumerate(imgs):\n",
        "        img = transforms.ToPILImage()(img.to('cpu'))\n",
        "        fig.add_subplot(rows, columns, i+1)\n",
        "        plt.imshow(img) \n",
        "    plt.show()"
      ],
      "metadata": {
        "id": "ZGpqkvVkbchB"
      },
      "execution_count": 98,
      "outputs": []
    },
    {
      "cell_type": "code",
      "source": [
        "len(active_set)"
      ],
      "metadata": {
        "id": "uilAjKj-Z1nH",
        "outputId": "2559f798-9b1f-4f88-b985-eac19b5cb94b",
        "colab": {
          "base_uri": "https://localhost:8080/"
        }
      },
      "execution_count": 76,
      "outputs": [
        {
          "output_type": "execute_result",
          "data": {
            "text/plain": [
              "30"
            ]
          },
          "metadata": {},
          "execution_count": 76
        }
      ]
    },
    {
      "cell_type": "code",
      "source": [
        "plt.imshow(active_set._dataset[3820][0].permute(1, 2, 0).numpy())"
      ],
      "metadata": {
        "id": "uOYnD5Lefj0a",
        "outputId": "8284cc3b-cdd7-44af-af09-141691ca0eeb",
        "colab": {
          "base_uri": "https://localhost:8080/",
          "height": 283
        }
      },
      "execution_count": 129,
      "outputs": [
        {
          "output_type": "execute_result",
          "data": {
            "text/plain": [
              "<matplotlib.image.AxesImage at 0x7f7207563520>"
            ]
          },
          "metadata": {},
          "execution_count": 129
        },
        {
          "output_type": "display_data",
          "data": {
            "text/plain": [
              "<Figure size 432x288 with 1 Axes>"
            ],
            "image/png": "[encoded data removed]"
          },
          "metadata": {
            "needs_background": "light"
          }
        }
      ]
    },
    {
      "cell_type": "code",
      "source": [
        "def real_label_to_oracle(indices):\n",
        "  oracle_idx = []\n",
        "  for i in range(len(indices)):\n",
        "    oracle_idx.append()\n",
        "\n",
        "labeled_idx = np.arange(len(active_set))\n",
        "print(labeled_idx)\n",
        "oracle_idx2 = active_set._labelled_to_oracle_index(0)\n",
        "print(oracle_idx2)"
      ],
      "metadata": {
        "id": "jh0GATl8fvsQ",
        "outputId": "c868705a-f04c-4802-f540-4c79f245dd7d",
        "colab": {
          "base_uri": "https://localhost:8080/"
        }
      },
      "execution_count": 133,
      "outputs": [
        {
          "output_type": "stream",
          "name": "stdout",
          "text": [
            "[ 0  1  2  3  4  5  6  7  8  9 10 11 12 13 14 15 16 17 18 19 20 21 22 23\n",
            " 24 25 26 27 28 29]\n",
            "3820\n"
          ]
        }
      ]
    },
    {
      "cell_type": "code",
      "source": [
        "img_arr_labelled = []\n",
        "for i in range(len(active_set)):\n",
        "  img_arr_labelled.append(active_set[i][0])"
      ],
      "metadata": {
        "id": "Lks_kZRRYmra"
      },
      "execution_count": 92,
      "outputs": []
    },
    {
      "cell_type": "code",
      "source": [
        "img_arr_labelled"
      ],
      "metadata": {
        "id": "ujsAZPuRcpx0"
      },
      "execution_count": null,
      "outputs": []
    },
    {
      "cell_type": "code",
      "source": [
        "my_show(img_arr_labelled)"
      ],
      "metadata": {
        "id": "YZ7xh7rnaC0W",
        "outputId": "95a43059-fb83-43ef-bc5b-b08122acae68",
        "colab": {
          "base_uri": "https://localhost:8080/",
          "height": 865
        }
      },
      "execution_count": 99,
      "outputs": [
        {
          "output_type": "display_data",
          "data": {
            "text/plain": [
              "<Figure size 1080x1080 with 30 Axes>"
            ],
            "image/png": "[encoded data removed]"
          },
          "metadata": {
            "needs_background": "light"
          }
        }
      ]
    },
    {
      "cell_type": "code",
      "source": [
        "plt.imshow(active_set[11][0].permute(1, 2, 0).numpy())"
      ],
      "metadata": {
        "id": "tY0I5b8cdUA8",
        "outputId": "55412693-8945-4f64-f72f-33415dc8268b",
        "colab": {
          "base_uri": "https://localhost:8080/",
          "height": 283
        }
      },
      "execution_count": 124,
      "outputs": [
        {
          "output_type": "execute_result",
          "data": {
            "text/plain": [
              "<matplotlib.image.AxesImage at 0x7f7207d2dca0>"
            ]
          },
          "metadata": {},
          "execution_count": 124
        },
        {
          "output_type": "display_data",
          "data": {
            "text/plain": [
              "<Figure size 432x288 with 1 Axes>"
            ],
            "image/png": "[encoded data removed]"
          },
          "metadata": {
            "needs_background": "light"
          }
        }
      ]
    },
    {
      "cell_type": "code",
      "source": [
        "plt.imshow(active_set._dataset[128+2*orgset_len][0].permute(1, 2, 0).numpy())"
      ],
      "metadata": {
        "id": "3kN9UKxDMrd4",
        "outputId": "beae001b-74b7-4477-b6e3-26bf5819b4de",
        "colab": {
          "base_uri": "https://localhost:8080/",
          "height": 283
        }
      },
      "execution_count": 52,
      "outputs": [
        {
          "output_type": "execute_result",
          "data": {
            "text/plain": [
              "<matplotlib.image.AxesImage at 0x7f7174388250>"
            ]
          },
          "metadata": {},
          "execution_count": 52
        },
        {
          "output_type": "display_data",
          "data": {
            "text/plain": [
              "<Figure size 432x288 with 1 Axes>"
            ],
            "image/png": "[encoded data removed]"
          },
          "metadata": {
            "needs_background": "light"
          }
        }
      ]
    },
    {
      "cell_type": "code",
      "source": [
        "plt.imshow(active_set.pool[1][0].permute(1, 2, 0).numpy())"
      ],
      "metadata": {
        "id": "ngNSEuIcNUMN",
        "outputId": "2310ac67-2455-439a-9fd9-84ec7cae1315",
        "colab": {
          "base_uri": "https://localhost:8080/",
          "height": 283
        }
      },
      "execution_count": 63,
      "outputs": [
        {
          "output_type": "execute_result",
          "data": {
            "text/plain": [
              "<matplotlib.image.AxesImage at 0x7f7208dc4550>"
            ]
          },
          "metadata": {},
          "execution_count": 63
        },
        {
          "output_type": "display_data",
          "data": {
            "text/plain": [
              "<Figure size 432x288 with 1 Axes>"
            ],
            "image/png": "[encoded data removed]"
          },
          "metadata": {
            "needs_background": "light"
          }
        }
      ]
    },
    {
      "cell_type": "markdown",
      "source": [
        "##Test std Serhiy"
      ],
      "metadata": {
        "id": "-jA4RzYFLDTm"
      }
    },
    {
      "cell_type": "code",
      "source": [
        "# replacement for step\n",
        "pool = active_set.pool\n",
        "if len(pool) > 0:\n",
        "    probs = model.predict_on_dataset(\n",
        "        active_set._dataset,\n",
        "        batch_size=hyperparams[\"batch_size\"],\n",
        "        iterations=hyperparams[\"iterations\"],\n",
        "        use_cuda=use_cuda,\n",
        "    )\n",
        "\n",
        "    #if probs is not None and (isinstance(probs, types.GeneratorType) or len(probs) > 0):\n",
        "    # -> \"isinstance(...) needed when using predict_..._Generator\"\n",
        "    if probs is not None and len(probs) > 0:\n",
        "        # 1. Get uncertainty\n",
        "        uncertainty = active_loop.heuristic.get_uncertainties(probs)\n",
        "        oracle_indices = np.argsort(uncertainty)\n",
        "        active_set.labelled_map\n",
        "\n",
        "        pickle_dir_path, pickle_file_path = generate_pickle_file(dt_string, active_set, epoch, oracle_indices, uncertainty)\n",
        "\n",
        "        mypickle = pd.read_pickle(pickle_file_path)\n",
        "\n",
        "        uncertainty = mypickle['uncertainty']\n",
        "        oracle_indices = mypickle['oracle_indices']\n",
        "        labelled_map = mypickle['labelled_map']\n",
        "\n",
        "        original = uncertainty[0:50000 - 1]\n",
        "        aug1 = uncertainty[50000:100000 - 1]\n",
        "        aug2 = uncertainty[100000:150000 - 1]\n",
        "\n",
        "        if hyperparams[\"augment\"] == 1:\n",
        "            matrix = np.vstack([original, aug1])\n",
        "        if hyperparams[\"augment\"] == 2:   \n",
        "            matrix = np.vstack([original, aug1, aug2])\n",
        "\n",
        "        # 2. Calc standard deviation\n",
        "        df_lab_img = pd.DataFrame(matrix)\n",
        "        df_lab_img.std() # here\n",
        "        df_lab_img = pd.DataFrame(np.vstack([matrix, df_lab_img.std()]))\n",
        "\n",
        "        generate_excel_file(hyperparams[\"augment\"], dt_string, active_set, epoch, pickle_dir_path, df_lab_img)\n",
        "        \n",
        "        # 3. Map std uncertainties to uncertainty array\n",
        "        std_array = df_lab_img.std()\n",
        "        for i in range(len(uncertainty)): # 150000\n",
        "            uncertainty[i] = std_array[i % (50000-1)]\n",
        "        oracle_indices = np.argsort(uncertainty)\n",
        "        active_set.labelled_map\n",
        "        # to_label -> indices sortiert von größter zu niedrigster uncertainty\n",
        "        # uncertainty -> alle std uncertainties des pools\n",
        "        to_label = heuristic.reorder_indices(uncertainty)\n",
        "        to_label = oracle_indices[np.array(to_label)] # len(to_label) = 150000\n",
        "        if len(to_label) > 0:\n",
        "            active_set.label(to_label[: hyperparams.get(\"query_size\", 1)])\n",
        "        else: break\n",
        "    else:\n",
        "        break\n",
        "else: \n",
        "    break"
      ],
      "metadata": {
        "id": "YkcwHx60LGrO"
      },
      "execution_count": null,
      "outputs": []
    },
    {
      "cell_type": "code",
      "source": [
        "max_mean_idx = trios_idx_mean_sorted[0]\n",
        "max_mean_idx"
      ],
      "metadata": {
        "id": "YXSIVlw1Op1Y"
      },
      "execution_count": null,
      "outputs": []
    },
    {
      "cell_type": "code",
      "source": [
        "max_mean = trios_mean[max_mean_idx]\n",
        "assert max_mean == max(trios_mean), \"Error\"\n",
        "max_mean"
      ],
      "metadata": {
        "id": "6HfjoxWDOz8j"
      },
      "execution_count": null,
      "outputs": []
    },
    {
      "cell_type": "code",
      "source": [
        "to_label[:10]"
      ],
      "metadata": {
        "id": "sogx9KehNqTW"
      },
      "execution_count": null,
      "outputs": []
    },
    {
      "cell_type": "code",
      "source": [
        "org_img = trios_uncertainties[3*max_mean_idx]\n",
        "aug1_img =  trios_uncertainties[(3*max_mean_idx)+1]\n",
        "aug2_img =  trios_uncertainties[(3*max_mean_idx)+2]\n",
        "org_img_idx = pool_trios[3*max_mean_idx]\n",
        "aug1_img_idx =  pool_trios[(3*max_mean_idx)+1]\n",
        "aug2_img_idx =  pool_trios[(3*max_mean_idx)+2]\n",
        "print(f\"idx: {org_img_idx}, {aug1_img_idx}, {aug2_img_idx}\")\n",
        "print(f\"values: {org_img}, {aug1_img}, {aug2_img}\")\n",
        "man_mean = (org_img+aug1_img+aug2_img)/3\n",
        "print(f\"mean: {man_mean}\")"
      ],
      "metadata": {
        "id": "FbxW-y-mPlX7"
      },
      "execution_count": null,
      "outputs": []
    },
    {
      "cell_type": "code",
      "source": [
        "for i in range(len(oracle_idx)):\n",
        "  if oracle_idx[i] != i:\n",
        "    print(f\"i: {i}, v: {oracle_idx[i]}\")\n",
        "    break\n",
        "\n",
        "oracle_idx[50:60]"
      ],
      "metadata": {
        "id": "VweqHhAzEP9W"
      },
      "execution_count": null,
      "outputs": []
    },
    {
      "cell_type": "code",
      "source": [
        "len(oracle_idx)"
      ],
      "metadata": {
        "id": "Jg-IfHvpE_l_"
      },
      "execution_count": null,
      "outputs": []
    },
    {
      "cell_type": "code",
      "source": [
        "a = [4.9,7.0]\n",
        "print(type(a))\n",
        "b = (np.asarray(a,\"int\")).tolist()\n",
        "b"
      ],
      "metadata": {
        "id": "4Y-dYg-g_yLI"
      },
      "execution_count": null,
      "outputs": []
    },
    {
      "cell_type": "code",
      "execution_count": null,
      "metadata": {
        "id": "gl3txf5TdYSV"
      },
      "outputs": [],
      "source": [
        "print(active_set.n_labelled)\n",
        "print(active_set.n_unlabelled)"
      ]
    },
    {
      "cell_type": "code",
      "execution_count": null,
      "metadata": {
        "id": "6lCsTCwrdxHO"
      },
      "outputs": [],
      "source": [
        "pool = active_set.pool\n",
        "indices = np.arange(len(pool))\n",
        "indices"
      ]
    },
    {
      "cell_type": "code",
      "execution_count": null,
      "metadata": {
        "id": "JGJtbMi9fj7Q"
      },
      "outputs": [],
      "source": [
        "probs = model.predict_on_dataset(pool,batch_size=10,iterations=20,use_cuda=use_cuda)"
      ]
    },
    {
      "cell_type": "code",
      "execution_count": null,
      "metadata": {
        "id": "XYNqQMVClCCB"
      },
      "outputs": [],
      "source": [
        "to_label, uncertainty = heuristic.get_ranks(probs) \n",
        "to_label = indices[np.array(to_label)]"
      ]
    },
    {
      "cell_type": "code",
      "execution_count": null,
      "metadata": {
        "id": "uTDkWoxFmEzE"
      },
      "outputs": [],
      "source": [
        "print(uncertainty)\n",
        "print(to_label)"
      ]
    },
    {
      "cell_type": "code",
      "execution_count": null,
      "metadata": {
        "id": "CBe5zUlPlPHi"
      },
      "outputs": [],
      "source": [
        "# größte uncertainty \n",
        "# (ix_global_img sowieso in to_label[0] aber for-Schleife für besseres Verständnis)\n",
        "# also to_label[0] == uncertainty[ix_global_img]\n",
        "u = 0\n",
        "ix_pool_img = 0\n",
        "for i in range(len(uncertainty)):\n",
        "  if(uncertainty[i]>u): \n",
        "    u = uncertainty[i]\n",
        "    ix_pool_img = i\n",
        "\n",
        "print(\"größte uncertainty: \" + str(u))\n",
        "print(\"dazugehöriger Index: \" + str(ix_pool_img))"
      ]
    },
    {
      "cell_type": "code",
      "execution_count": null,
      "metadata": {
        "id": "dgwI-K4rl8ZY"
      },
      "outputs": [],
      "source": [
        "# größter index\n",
        "l = 0\n",
        "for i in range(len(to_label)):\n",
        "  if(to_label[i]>l): l = to_label[i]\n",
        "\n",
        "l"
      ]
    },
    {
      "cell_type": "code",
      "execution_count": null,
      "metadata": {
        "id": "BuZQ72USttFi"
      },
      "outputs": [],
      "source": [
        "oracle_set_one = active_set._pool_to_oracle_index([104559])\n",
        "print(oracle_set_one)\n",
        "oracle_set_two = active_set._pool_to_oracle_index(to_label)\n",
        "print(oracle_set_two[0])\n",
        "#ix_global_img = oracle_set[0]\n",
        "#ix_global_img\n"
      ]
    },
    {
      "cell_type": "code",
      "execution_count": null,
      "metadata": {
        "id": "lBYTBOe-1dGN"
      },
      "outputs": [],
      "source": [
        "oracle_set = active_set._pool_to_oracle_index(to_label)\n",
        "ix_global_img = oracle_set[5]\n",
        "ix_pool_img = to_label[5]"
      ]
    },
    {
      "cell_type": "code",
      "execution_count": null,
      "metadata": {
        "id": "3xFItpa8ziIk"
      },
      "outputs": [],
      "source": [
        "pool_img = active_set.pool[ix_pool_img]\n",
        "global_img = active_set._dataset[ix_global_img]\n",
        "#global_img = active_set._dataset[ix_global_img]"
      ]
    },
    {
      "cell_type": "code",
      "source": [
        "print(pool_img)"
      ],
      "metadata": {
        "id": "-PvDUD5JcGXh"
      },
      "execution_count": null,
      "outputs": []
    },
    {
      "cell_type": "code",
      "source": [
        "tensors_global = []\n",
        "tensors_pool = []\n",
        "\n",
        "for i in range(2):\n",
        "  pool_img = active_set.pool[ix_pool_img]\n",
        "  global_img = active_set._dataset[ix_global_img]\n",
        "  tensors_pool.append(pool_img)\n",
        "  tensors_global.append(global_img)\n",
        "\n",
        "\n",
        "print(torch.eq(tensors_pool[0][0],tensors_pool[1][0]))\n",
        "print(torch.eq(tensors_global[0][0],tensors_global[1][0]))"
      ],
      "metadata": {
        "id": "AuOer0jwMqLA"
      },
      "execution_count": null,
      "outputs": []
    },
    {
      "cell_type": "code",
      "execution_count": null,
      "metadata": {
        "id": "BQjx4ye6cATt"
      },
      "outputs": [],
      "source": [
        "def show(imgs):\n",
        "    fix, axs = plt.subplots(ncols=len(imgs), squeeze=False)\n",
        "    for i, img in enumerate(imgs):\n",
        "        img = transforms.ToPILImage()(img.to('cpu'))\n",
        "        axs[0, i].imshow(np.asarray(img))\n",
        "        #axs[0, i].set(xticklabels=[], yticklabels=[], xticks=[], yticks=[])"
      ]
    },
    {
      "cell_type": "markdown",
      "metadata": {
        "id": "Hs4OKRamcATt"
      },
      "source": [
        "Bilder mit Normalisierung -> verzerrte Farben"
      ]
    },
    {
      "cell_type": "code",
      "execution_count": null,
      "metadata": {
        "id": "ADZWj-AkcATt"
      },
      "outputs": [],
      "source": [
        "show((pool_img[0],global_img[0]))"
      ]
    },
    {
      "cell_type": "code",
      "source": [
        "torch.eq(global_img[0],pool_img[0])"
      ],
      "metadata": {
        "id": "DQadpo4DLJhg"
      },
      "execution_count": null,
      "outputs": []
    },
    {
      "cell_type": "code",
      "source": [
        "compare = torch.eq(global_img[0],pool_img[0])\n",
        "\n",
        "for i in range(0,2):\n",
        "  for l in range(0,31):\n",
        "    for k in range(0,31):\n",
        "      if compare[i][l][k] == False:\n",
        "        print(f\"compare[{i}][{l}][{k}]\")"
      ],
      "metadata": {
        "id": "xaIVy0C6KSk9"
      },
      "execution_count": null,
      "outputs": []
    },
    {
      "cell_type": "code",
      "source": [
        "torch.abs(global_img[0] - pool_img[0])"
      ],
      "metadata": {
        "id": "byKb-UFhLNk2"
      },
      "execution_count": null,
      "outputs": []
    },
    {
      "cell_type": "markdown",
      "metadata": {
        "id": "1k6tSZwycATu"
      },
      "source": [
        "Normalisierung umgekehrt"
      ]
    },
    {
      "cell_type": "code",
      "execution_count": null,
      "metadata": {
        "id": "wQlQ0uq0cATu"
      },
      "outputs": [],
      "source": [
        "invTrans = transforms.Compose([ transforms.Normalize(mean = [ 0., 0., 0. ], std = [ 1/0.5, 1/0.5, 1/0.5 ]),\n",
        "                                transforms.Normalize(mean = [ -0.5, -0.5, -0.5 ],std = [ 1., 1., 1. ]),\n",
        "                               ])"
      ]
    },
    {
      "cell_type": "code",
      "execution_count": null,
      "metadata": {
        "id": "rX9dsYngcATu"
      },
      "outputs": [],
      "source": [
        "show((invTrans(pool_img[0]),invTrans(global_img[0])))"
      ]
    },
    {
      "cell_type": "code",
      "source": [
        "plt.imshow(invTrans(pool_img[0]).permute(1, 2, 0).numpy())"
      ],
      "metadata": {
        "id": "A-3uwU6gKfaP"
      },
      "execution_count": null,
      "outputs": []
    },
    {
      "cell_type": "code",
      "source": [
        "plt.imshow(invTrans(global_img[0]).permute(1, 2, 0).numpy())"
      ],
      "metadata": {
        "id": "qeSL_IgtKwF4"
      },
      "execution_count": null,
      "outputs": []
    },
    {
      "cell_type": "code",
      "execution_count": null,
      "metadata": {
        "id": "Lado0v6jcATu"
      },
      "outputs": [],
      "source": [
        "torch.eq(invTrans(pool_img[0]),invTrans(global_img[0]))"
      ]
    },
    {
      "cell_type": "code",
      "source": [
        "torch.abs(invTrans(pool_img[0]) - invTrans(global_img[0]))"
      ],
      "metadata": {
        "id": "eYr5f2U0g496"
      },
      "execution_count": null,
      "outputs": []
    },
    {
      "cell_type": "markdown",
      "metadata": {
        "id": "5skzJda1wyKw"
      },
      "source": [
        "Versuche herauszufinden was folgende Zeile genau macht und wieso aber bisher erfolglos"
      ]
    },
    {
      "cell_type": "code",
      "execution_count": null,
      "metadata": {
        "id": "EbLsD0KRudcz"
      },
      "outputs": [],
      "source": [
        "to_label_two = indices[np.array(to_label)]\n",
        "to_label_two"
      ]
    },
    {
      "cell_type": "code",
      "execution_count": null,
      "metadata": {
        "id": "dfE6M1kzvmrW"
      },
      "outputs": [],
      "source": [
        "print(type(to_label))\n",
        "print(type(to_label_two))\n",
        "print(len(to_label))\n",
        "print(len(to_label_two))"
      ]
    },
    {
      "cell_type": "code",
      "execution_count": null,
      "metadata": {
        "id": "5Uvvx1hSv83C"
      },
      "outputs": [],
      "source": [
        "indices[np.array(to_label)]"
      ]
    },
    {
      "cell_type": "code",
      "execution_count": null,
      "metadata": {
        "id": "PTPPy2Y_uC1S"
      },
      "outputs": [],
      "source": [
        "t = np.array([3,7,1,4])\n",
        "t"
      ]
    },
    {
      "cell_type": "code",
      "execution_count": null,
      "metadata": {
        "id": "_pMocpOivMa6"
      },
      "outputs": [],
      "source": []
    }
  ],
  "metadata": {
    "accelerator": "GPU",
    "colab": {
      "provenance": [],
      "include_colab_link": true
    },
    "gpuClass": "standard",
    "kernelspec": {
      "display_name": "Python 3.10.8 ('env_baal')",
      "language": "python",
      "name": "python3"
    },
    "language_info": {
      "codemirror_mode": {
        "name": "ipython",
        "version": 3
      },
      "file_extension": ".py",
      "mimetype": "text/x-python",
      "name": "python",
      "nbconvert_exporter": "python",
      "pygments_lexer": "ipython3",
      "version": "3.10.8"
    },
    "vscode": {
      "interpreter": {
        "hash": "4fdcf6f5482bb78b036200e55cbf923ad015f8ef81f424b9c55d1aa8e1bbdb78"
      }
    }
  },
  "nbformat": 4,
  "nbformat_minor": 0
}