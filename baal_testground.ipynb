{
  "nbformat": 4,
  "nbformat_minor": 0,
  "metadata": {
    "colab": {
      "provenance": [],
      "mount_file_id": "1Tv9VV16Gu1xJaO9oq4eXYxrT9Aq6gX1b",
      "authorship_tag": "ABX9TyNLuTOVia0PFJQgDBFVKue8",
      "include_colab_link": true
    },
    "kernelspec": {
      "name": "python3",
      "display_name": "Python 3"
    },
    "language_info": {
      "name": "python"
    },
    "accelerator": "GPU",
    "gpuClass": "standard"
  },
  "cells": [
    {
      "cell_type": "markdown",
      "metadata": {
        "id": "view-in-github",
        "colab_type": "text"
      },
      "source": [
        "<a href=\"https://colab.research.google.com/github/k4zuy/Rep-Baal-Progress/blob/main/baal_testground.ipynb\" target=\"_parent\"><img src=\"https://colab.research.google.com/assets/colab-badge.svg\" alt=\"Open In Colab\"/></a>"
      ]
    },
    {
      "cell_type": "code",
      "execution_count": null,
      "metadata": {
        "colab": {
          "base_uri": "https://localhost:8080/"
        },
        "id": "qm0gIztasQ0u",
        "outputId": "c7895734-7890-41bd-be36-3ec2ee01c4dc"
      },
      "outputs": [
        {
          "output_type": "stream",
          "name": "stdout",
          "text": [
            "Looking in indexes: https://pypi.org/simple, https://us-python.pkg.dev/colab-wheels/public/simple/\n",
            "Requirement already satisfied: baal in /usr/local/lib/python3.7/dist-packages (1.6.0)\n",
            "Requirement already satisfied: scipy<2.0.0,>=1.7.1 in /usr/local/lib/python3.7/dist-packages (from baal) (1.7.3)\n",
            "Requirement already satisfied: tqdm<5.0.0,>=4.62.2 in /usr/local/lib/python3.7/dist-packages (from baal) (4.64.1)\n",
            "Requirement already satisfied: scikit-learn<2.0.0,>=1.0.0 in /usr/local/lib/python3.7/dist-packages (from baal) (1.0.2)\n",
            "Requirement already satisfied: matplotlib<4.0.0,>=3.4.3 in /usr/local/lib/python3.7/dist-packages (from baal) (3.5.3)\n",
            "Requirement already satisfied: h5py<4.0.0,>=3.4.0 in /usr/local/lib/python3.7/dist-packages (from baal) (3.7.0)\n",
            "Requirement already satisfied: Pillow>=6.2.0 in /usr/local/lib/python3.7/dist-packages (from baal) (7.1.2)\n",
            "Requirement already satisfied: torch>=1.6.0 in /usr/local/lib/python3.7/dist-packages (from baal) (1.12.1+cu113)\n",
            "Requirement already satisfied: numpy<2.0.0,>=1.21.2 in /usr/local/lib/python3.7/dist-packages (from baal) (1.21.6)\n",
            "Requirement already satisfied: structlog<22.0.0,>=21.1.0 in /usr/local/lib/python3.7/dist-packages (from baal) (21.5.0)\n",
            "Requirement already satisfied: cycler>=0.10 in /usr/local/lib/python3.7/dist-packages (from matplotlib<4.0.0,>=3.4.3->baal) (0.11.0)\n",
            "Requirement already satisfied: pyparsing>=2.2.1 in /usr/local/lib/python3.7/dist-packages (from matplotlib<4.0.0,>=3.4.3->baal) (3.0.9)\n",
            "Requirement already satisfied: packaging>=20.0 in /usr/local/lib/python3.7/dist-packages (from matplotlib<4.0.0,>=3.4.3->baal) (21.3)\n",
            "Requirement already satisfied: kiwisolver>=1.0.1 in /usr/local/lib/python3.7/dist-packages (from matplotlib<4.0.0,>=3.4.3->baal) (1.4.4)\n",
            "Requirement already satisfied: fonttools>=4.22.0 in /usr/local/lib/python3.7/dist-packages (from matplotlib<4.0.0,>=3.4.3->baal) (4.38.0)\n",
            "Requirement already satisfied: python-dateutil>=2.7 in /usr/local/lib/python3.7/dist-packages (from matplotlib<4.0.0,>=3.4.3->baal) (2.8.2)\n",
            "Requirement already satisfied: typing-extensions in /usr/local/lib/python3.7/dist-packages (from kiwisolver>=1.0.1->matplotlib<4.0.0,>=3.4.3->baal) (4.1.1)\n",
            "Requirement already satisfied: six>=1.5 in /usr/local/lib/python3.7/dist-packages (from python-dateutil>=2.7->matplotlib<4.0.0,>=3.4.3->baal) (1.15.0)\n",
            "Requirement already satisfied: joblib>=0.11 in /usr/local/lib/python3.7/dist-packages (from scikit-learn<2.0.0,>=1.0.0->baal) (1.2.0)\n",
            "Requirement already satisfied: threadpoolctl>=2.0.0 in /usr/local/lib/python3.7/dist-packages (from scikit-learn<2.0.0,>=1.0.0->baal) (3.1.0)\n"
          ]
        }
      ],
      "source": [
        "!pip install baal"
      ]
    },
    {
      "cell_type": "code",
      "source": [
        "!pip install pillow"
      ],
      "metadata": {
        "colab": {
          "base_uri": "https://localhost:8080/"
        },
        "id": "GTBZmsC63Gdf",
        "outputId": "21a50cfe-7bba-4df1-f012-410ad4ce240a"
      },
      "execution_count": null,
      "outputs": [
        {
          "output_type": "stream",
          "name": "stdout",
          "text": [
            "Looking in indexes: https://pypi.org/simple, https://us-python.pkg.dev/colab-wheels/public/simple/\n",
            "Requirement already satisfied: pillow in /usr/local/lib/python3.7/dist-packages (7.1.2)\n"
          ]
        }
      ]
    },
    {
      "cell_type": "markdown",
      "source": [
        "Imports"
      ],
      "metadata": {
        "id": "Ennb17Elsz0q"
      }
    },
    {
      "cell_type": "code",
      "source": [
        "import argparse\n",
        "import random\n",
        "import csv\n",
        "from copy import deepcopy\n",
        "from time import time\n",
        "import datetime\n",
        "from dataclasses import dataclass\n",
        "import numpy as np\n",
        "import PIL\n",
        "\n",
        "import torch\n",
        "import torch.backends\n",
        "from torch import optim\n",
        "from torch.hub import load_state_dict_from_url\n",
        "from torch.nn import CrossEntropyLoss\n",
        "from torchvision import datasets\n",
        "from torchvision.models import vgg16\n",
        "from torchvision.transforms import transforms\n",
        "from tqdm import tqdm\n",
        "from torch import nn\n",
        "import torch.nn.functional as F\n",
        "\n",
        "from baal.active import get_heuristic, ActiveLearningDataset\n",
        "from baal.active.active_loop import ActiveLearningLoop\n",
        "from baal.bayesian.dropout import patch_module\n",
        "from baal import ModelWrapper\n",
        "from baal.utils.metrics import Accuracy\n",
        "from baal.active.heuristics import BALD\n",
        "from baal.active.dataset import ActiveLearningDataset\n",
        "\n",
        "import aug_lib\n",
        "\n",
        "from ExtendedActiveLearningDataset import ExtendedActiveLearningDataset"
      ],
      "metadata": {
        "id": "F6J7rQEls25O"
      },
      "execution_count": null,
      "outputs": []
    },
    {
      "cell_type": "code",
      "source": [
        "@dataclass\n",
        "class ExperimentConfig:\n",
        "    epoch: int = 2\n",
        "    batch_size: int = 32\n",
        "    initial_pool: int = 1000\n",
        "    query_size: int = 100\n",
        "    lr: float = 0.001\n",
        "    heuristic: str = 'bald'\n",
        "    iterations: int = 40\n",
        "    training_duration: int = 10"
      ],
      "metadata": {
        "id": "0Fub7s-Ws4QN"
      },
      "execution_count": null,
      "outputs": []
    },
    {
      "cell_type": "code",
      "source": [
        "def get_datasets(initial_pool, n_augmentations):\n",
        "    transform = transforms.Compose(\n",
        "        [\n",
        "            # transforms.Resize((224, 224)),\n",
        "            transforms.ToTensor(),\n",
        "            transforms.Normalize(3 * [0.5], 3 * [0.5]),\n",
        "        ]\n",
        "    )\n",
        "    aug_transform = transforms.Compose(\n",
        "        [\n",
        "            # transforms.Resize((224, 224)),\n",
        "            aug_lib.TrivialAugment(),\n",
        "            transforms.ToTensor(),\n",
        "            transforms.Normalize(3 * [0.5], 3 * [0.5]),\n",
        "        ]\n",
        "    )\n",
        "    test_transform = transforms.Compose(\n",
        "        [\n",
        "            # transforms.Resize((224, 224)),\n",
        "            transforms.ToTensor(),\n",
        "            transforms.Normalize(3 * [0.5], 3 * [0.5]),\n",
        "        ]\n",
        "    )\n",
        "    # Note: We use the test set here as an example. You should make your own validation set.\n",
        "    train_ds = datasets.CIFAR10(\n",
        "        \".\", train=True, transform=transform, target_transform=None, download=True\n",
        "    )\n",
        "\n",
        "    aug_train_ds = datasets.CIFAR10(\n",
        "        \".\", train=True, transform=aug_transform, target_transform=None, download=True\n",
        "    )\n",
        "    test_set = datasets.CIFAR10(\n",
        "        \".\", train=False, transform=test_transform, target_transform=None, download=True\n",
        "    )\n",
        "    eald_set = ExtendedActiveLearningDataset(train_ds)\n",
        "\n",
        "    # active_set = ActiveLearningDataset(\n",
        "    #    train_ds, pool_specifics={\"transform\": test_transform}\n",
        "    # )\n",
        "    eald_set.augment_n_times(n_augmentations, augmented_dataset=aug_train_ds)\n",
        "    # We start labeling randomly.\n",
        "    eald_set.label_randomly(initial_pool)\n",
        "    return eald_set, test_set"
      ],
      "metadata": {
        "id": "f4EdJKuUtQGH"
      },
      "execution_count": null,
      "outputs": []
    },
    {
      "cell_type": "code",
      "source": [
        "hyperparams = ExperimentConfig()\n",
        "use_cuda = torch.cuda.is_available()\n",
        "torch.backends.cudnn.benchmark = True\n",
        "random.seed(1337)\n",
        "torch.manual_seed(1337)\n",
        "if not use_cuda:\n",
        "    print(\"warning, the experiments would take ages to run on cpu\")\n",
        "\n",
        "# Get datasets\n",
        "active_set, test_set = get_datasets(hyperparams.initial_pool,2)\n",
        "\n",
        "# Get our model.\n",
        "heuristic = get_heuristic(hyperparams.heuristic)\n",
        "criterion = CrossEntropyLoss()\n",
        "model = vgg16(num_classes=10)\n",
        "\n",
        "# change dropout layer to MCDropout\n",
        "model = patch_module(model)\n",
        "\n",
        "if use_cuda:\n",
        "    model.cuda()\n",
        "optimizer = optim.SGD(model.parameters(), lr=hyperparams.lr, momentum=0.9)\n",
        "\n",
        "# Wraps the model into a usable API.\n",
        "model = ModelWrapper(model, criterion)\n",
        "\n",
        "# for ActiveLearningLoop we use a smaller batchsize\n",
        "# since we will stack predictions to perform MCDropout.\n",
        "active_loop = ActiveLearningLoop(active_set,\n",
        "                                 model.predict_on_dataset,\n",
        "                                 heuristic,\n",
        "                                 hyperparams.query_size,\n",
        "                                 batch_size=1,\n",
        "                                 iterations=hyperparams.iterations,\n",
        "                                 use_cuda=use_cuda,\n",
        "                                 verbose=False)\n",
        "\n",
        "# We will reset the weights at each active learning step so we make a copy.\n",
        "init_weights = deepcopy(model.state_dict())"
      ],
      "metadata": {
        "colab": {
          "base_uri": "https://localhost:8080/"
        },
        "id": "lMqh_MQGc8Jn",
        "outputId": "0334adbe-ba85-4050-d565-66745fe7c499"
      },
      "execution_count": null,
      "outputs": [
        {
          "output_type": "stream",
          "name": "stdout",
          "text": [
            "Files already downloaded and verified\n",
            "Files already downloaded and verified\n",
            "Files already downloaded and verified\n",
            "orig len50000\n",
            "augmented n times0\n"
          ]
        }
      ]
    },
    {
      "cell_type": "code",
      "source": [
        "active_set.n_labelled"
      ],
      "metadata": {
        "colab": {
          "base_uri": "https://localhost:8080/"
        },
        "id": "gl3txf5TdYSV",
        "outputId": "d752571d-52eb-4047-c4ef-86ed872d27dc"
      },
      "execution_count": null,
      "outputs": [
        {
          "output_type": "execute_result",
          "data": {
            "text/plain": [
              "3000"
            ]
          },
          "metadata": {},
          "execution_count": 13
        }
      ]
    },
    {
      "cell_type": "code",
      "source": [
        "active_set.n_unlabelled"
      ],
      "metadata": {
        "colab": {
          "base_uri": "https://localhost:8080/"
        },
        "id": "L0CKCnDLdu-0",
        "outputId": "1681c232-a84a-4d1d-f648-c5931b7c918e"
      },
      "execution_count": null,
      "outputs": [
        {
          "output_type": "execute_result",
          "data": {
            "text/plain": [
              "147000"
            ]
          },
          "metadata": {},
          "execution_count": 14
        }
      ]
    },
    {
      "cell_type": "code",
      "source": [
        "pool = active_set.pool\n",
        "indices = np.arange(len(pool))\n",
        "indices"
      ],
      "metadata": {
        "colab": {
          "base_uri": "https://localhost:8080/"
        },
        "id": "6lCsTCwrdxHO",
        "outputId": "97fd3d10-203d-4d20-cb14-fb53dde45d0e"
      },
      "execution_count": null,
      "outputs": [
        {
          "output_type": "execute_result",
          "data": {
            "text/plain": [
              "array([     0,      1,      2, ..., 146997, 146998, 146999])"
            ]
          },
          "metadata": {},
          "execution_count": 22
        }
      ]
    },
    {
      "cell_type": "code",
      "source": [
        "probs = model.predict_on_dataset(pool,batch_size=10,iterations=20,use_cuda=use_cuda)"
      ],
      "metadata": {
        "colab": {
          "base_uri": "https://localhost:8080/"
        },
        "id": "JGJtbMi9fj7Q",
        "outputId": "49f443e5-a359-4c45-9101-6fcc0c3f5a50"
      },
      "execution_count": null,
      "outputs": [
        {
          "output_type": "stream",
          "name": "stdout",
          "text": [
            "[79-MainThread   ] [baal.modelwrapper:predict_on_dataset_generator:263] \u001b[2m2022-11-23T17:29:56.501458Z\u001b[0m [\u001b[32m\u001b[1minfo     \u001b[0m] \u001b[1mStart Predict                 \u001b[0m \u001b[36mdataset\u001b[0m=\u001b[35m147000\u001b[0m\n",
            "100%|██████████| 14700/14700 [10:13<00:00, 23.96it/s]\n"
          ]
        }
      ]
    },
    {
      "cell_type": "code",
      "source": [
        "to_label, uncertainty = heuristic.get_ranks(probs) # to_label -> \n",
        "to_label = indices[np.array(to_label)]"
      ],
      "metadata": {
        "id": "XYNqQMVClCCB"
      },
      "execution_count": null,
      "outputs": []
    },
    {
      "cell_type": "code",
      "source": [
        "uncertainty"
      ],
      "metadata": {
        "colab": {
          "base_uri": "https://localhost:8080/"
        },
        "id": "uTDkWoxFmEzE",
        "outputId": "1e084877-38d3-486f-cf9e-50cbd09c1f22"
      },
      "execution_count": null,
      "outputs": [
        {
          "output_type": "execute_result",
          "data": {
            "text/plain": [
              "array([7.1525574e-05, 1.0538101e-04, 1.2636185e-04, ..., 1.6140938e-04,\n",
              "       1.6164780e-04, 7.8678131e-05], dtype=float32)"
            ]
          },
          "metadata": {},
          "execution_count": 34
        }
      ]
    },
    {
      "cell_type": "code",
      "source": [
        "# größte uncertainty \n",
        "# (ix_global_img sowieso in to_label[0] aber for-Schleife für besseres Verständnis)\n",
        "# also to_label[0] == uncertainty[ix_global_img]\n",
        "u = 0\n",
        "ix_pool_img = 0\n",
        "for i in range(len(uncertainty)):\n",
        "  if(uncertainty[i]>u): \n",
        "    u = uncertainty[i]\n",
        "    ix_pool_img = i\n",
        "\n",
        "print(\"größte uncertainty: \" + str(u))\n",
        "print(\"dazugehöriger Index: \" + str(ix_pool_img))"
      ],
      "metadata": {
        "colab": {
          "base_uri": "https://localhost:8080/"
        },
        "id": "CBe5zUlPlPHi",
        "outputId": "5b8260b2-8a03-4bbf-bbb4-91c97fdef54c"
      },
      "execution_count": null,
      "outputs": [
        {
          "output_type": "stream",
          "name": "stdout",
          "text": [
            "größte uncertainty: 0.0004014969\n",
            "dazugehöriger Index: 104559\n"
          ]
        }
      ]
    },
    {
      "cell_type": "code",
      "source": [
        "to_label"
      ],
      "metadata": {
        "colab": {
          "base_uri": "https://localhost:8080/"
        },
        "id": "sCp7Uf0klRd4",
        "outputId": "02d14a8a-2301-4566-cde6-9020fc79e048"
      },
      "execution_count": null,
      "outputs": [
        {
          "output_type": "execute_result",
          "data": {
            "text/plain": [
              "array([104559, 131009,  78579, ...,  88029,  65177,  90586])"
            ]
          },
          "metadata": {},
          "execution_count": 96
        }
      ]
    },
    {
      "cell_type": "code",
      "source": [
        "# größter index\n",
        "l = 0\n",
        "for i in range(len(to_label)):\n",
        "  if(to_label[i]>l): l = to_label[i]\n",
        "\n",
        "l"
      ],
      "metadata": {
        "colab": {
          "base_uri": "https://localhost:8080/"
        },
        "id": "dgwI-K4rl8ZY",
        "outputId": "afb7e992-5123-4e10-e8d0-2b515e33b642"
      },
      "execution_count": null,
      "outputs": [
        {
          "output_type": "execute_result",
          "data": {
            "text/plain": [
              "146999"
            ]
          },
          "metadata": {},
          "execution_count": 41
        }
      ]
    },
    {
      "cell_type": "code",
      "source": [
        "oracle_set_one = active_set._pool_to_oracle_index([104559])\n",
        "print(oracle_set_one)\n",
        "oracle_set_two = active_set._pool_to_oracle_index(to_label)\n",
        "print(oracle_set_two[0])\n",
        "#ix_global_img = oracle_set[0]\n",
        "#ix_global_img\n"
      ],
      "metadata": {
        "colab": {
          "base_uri": "https://localhost:8080/"
        },
        "id": "BuZQ72USttFi",
        "outputId": "ec7c7216-8814-4e0d-9e21-67b7f1d5328c"
      },
      "execution_count": null,
      "outputs": [
        {
          "output_type": "stream",
          "name": "stdout",
          "text": [
            "[106697]\n",
            "106697\n"
          ]
        }
      ]
    },
    {
      "cell_type": "code",
      "source": [
        "oracle_set = active_set._pool_to_oracle_index(pool)\n",
        "ix_global_img = oracle_set[ix_pool_img]"
      ],
      "metadata": {
        "id": "lBYTBOe-1dGN"
      },
      "execution_count": null,
      "outputs": []
    },
    {
      "cell_type": "code",
      "source": [
        "pool_img = active_set.pool[ix_pool_img]\n",
        "global_img = active_set._dataset[ix_global_img]\n",
        "#global_img = active_set._dataset[ix_global_img]"
      ],
      "metadata": {
        "id": "3xFItpa8ziIk"
      },
      "execution_count": null,
      "outputs": []
    },
    {
      "cell_type": "code",
      "source": [
        "print(pool_img)\n",
        "print(global_img)"
      ],
      "metadata": {
        "colab": {
          "base_uri": "https://localhost:8080/"
        },
        "id": "NH9gh35a3bVH",
        "outputId": "3d8af7ce-9bc6-4172-8d7f-744511f4ea7d"
      },
      "execution_count": null,
      "outputs": [
        {
          "output_type": "stream",
          "name": "stdout",
          "text": [
            "(tensor([[[ 0.4039,  0.2784,  0.2627,  ...,  0.5529,  0.4824,  0.3725],\n",
            "         [ 0.4745,  0.4588,  0.4039,  ...,  0.8902,  0.9137,  0.8824],\n",
            "         [ 0.4824,  0.5529,  0.3961,  ...,  1.0000,  1.0000,  1.0000],\n",
            "         ...,\n",
            "         [-0.6314, -0.4510, -0.3490,  ..., -1.0000, -0.8980, -0.7333],\n",
            "         [-0.5922, -0.4667, -0.2078,  ..., -1.0000, -1.0000, -0.8745],\n",
            "         [-0.5686, -0.3961,  0.2392,  ..., -1.0000, -1.0000, -1.0000]],\n",
            "\n",
            "        [[ 0.4353,  0.2863,  0.2392,  ...,  0.5922,  0.5216,  0.4196],\n",
            "         [ 0.5059,  0.4588,  0.3804,  ...,  0.9294,  0.9373,  0.9059],\n",
            "         [ 0.5059,  0.5529,  0.3569,  ...,  1.0000,  1.0000,  1.0000],\n",
            "         ...,\n",
            "         [-0.4510, -0.3020, -0.2235,  ..., -0.9529, -0.8118, -0.6549],\n",
            "         [-0.4353, -0.3176, -0.0980,  ..., -1.0000, -0.9294, -0.7882],\n",
            "         [-0.3961, -0.2471,  0.3490,  ..., -1.0000, -1.0000, -0.9451]],\n",
            "\n",
            "        [[ 0.5059,  0.3333,  0.2863,  ...,  0.7098,  0.6157,  0.4824],\n",
            "         [ 0.5922,  0.5294,  0.4353,  ...,  1.0000,  1.0000,  0.9608],\n",
            "         [ 0.6157,  0.6392,  0.4275,  ...,  1.0000,  1.0000,  1.0000],\n",
            "         ...,\n",
            "         [-0.8275, -0.6863, -0.5686,  ..., -1.0000, -0.9059, -0.7412],\n",
            "         [-0.7882, -0.6784, -0.4118,  ..., -1.0000, -1.0000, -0.8824],\n",
            "         [-0.7412, -0.5608,  0.0902,  ..., -1.0000, -1.0000, -1.0000]]]), 5)\n",
            "(tensor([[[ 0.2235,  0.1373,  0.1294,  ...,  0.8588,  0.8431,  0.7961],\n",
            "         [ 0.2706,  0.2627,  0.2235,  ...,  0.8824,  0.8510,  0.8039],\n",
            "         [ 0.2784,  0.3255,  0.2157,  ...,  0.8824,  0.8588,  0.8118],\n",
            "         ...,\n",
            "         [-0.4745, -0.3569, -0.2863,  ..., -1.0000, -1.0000, -1.0000],\n",
            "         [-0.4510, -0.3647, -0.1922,  ..., -1.0000, -1.0000, -1.0000],\n",
            "         [-0.4353, -0.3176,  0.1137,  ..., -1.0000, -1.0000, -1.0000]],\n",
            "\n",
            "        [[ 0.2471,  0.1451,  0.1137,  ...,  0.8667,  0.8510,  0.8039],\n",
            "         [ 0.2941,  0.2627,  0.2078,  ...,  0.8902,  0.8588,  0.8039],\n",
            "         [ 0.2941,  0.3255,  0.1922,  ...,  0.8824,  0.8588,  0.8196],\n",
            "         ...,\n",
            "         [-0.3569, -0.2549, -0.2000,  ..., -1.0000, -1.0000, -1.0000],\n",
            "         [-0.3412, -0.2627, -0.1137,  ..., -1.0000, -1.0000, -1.0000],\n",
            "         [-0.3176, -0.2157,  0.1843,  ..., -1.0000, -1.0000, -1.0000]],\n",
            "\n",
            "        [[ 0.2941,  0.1765,  0.1451,  ...,  0.8275,  0.8196,  0.7882],\n",
            "         [ 0.3490,  0.3098,  0.2471,  ...,  0.8353,  0.8196,  0.7804],\n",
            "         [ 0.3647,  0.3804,  0.2392,  ...,  0.8824,  0.8510,  0.7961],\n",
            "         ...,\n",
            "         [-0.6078, -0.5137, -0.4353,  ..., -1.0000, -1.0000, -1.0000],\n",
            "         [-0.5843, -0.5059, -0.3255,  ..., -1.0000, -1.0000, -1.0000],\n",
            "         [-0.5529, -0.4275,  0.0118,  ..., -1.0000, -1.0000, -1.0000]]]), 5)\n"
          ]
        }
      ]
    },
    {
      "cell_type": "markdown",
      "source": [
        "Versuche herauszufinden was folgende Zeile genau macht und wieso aber bisher erfolglos"
      ],
      "metadata": {
        "id": "5skzJda1wyKw"
      }
    },
    {
      "cell_type": "code",
      "source": [
        "to_label_two = indices[np.array(to_label)]\n",
        "to_label_two"
      ],
      "metadata": {
        "colab": {
          "base_uri": "https://localhost:8080/"
        },
        "id": "EbLsD0KRudcz",
        "outputId": "447d6b1b-c2ec-4986-ab1f-4b0cbb9c173f"
      },
      "execution_count": null,
      "outputs": [
        {
          "output_type": "execute_result",
          "data": {
            "text/plain": [
              "array([104559, 131009,  78579, ...,  88029,  65177,  90586])"
            ]
          },
          "metadata": {},
          "execution_count": 54
        }
      ]
    },
    {
      "cell_type": "code",
      "source": [
        "print(type(to_label))\n",
        "print(type(to_label_two))\n",
        "print(len(to_label))\n",
        "print(len(to_label_two))"
      ],
      "metadata": {
        "colab": {
          "base_uri": "https://localhost:8080/"
        },
        "id": "dfE6M1kzvmrW",
        "outputId": "db44db76-562e-41ed-a717-5ef94608a981"
      },
      "execution_count": null,
      "outputs": [
        {
          "output_type": "stream",
          "name": "stdout",
          "text": [
            "<class 'numpy.ndarray'>\n",
            "<class 'numpy.ndarray'>\n",
            "147000\n",
            "147000\n"
          ]
        }
      ]
    },
    {
      "cell_type": "code",
      "source": [
        "indices[np.array(to_label)]"
      ],
      "metadata": {
        "colab": {
          "base_uri": "https://localhost:8080/"
        },
        "id": "5Uvvx1hSv83C",
        "outputId": "041128af-7586-4e7a-fc42-3539e8735ba8"
      },
      "execution_count": null,
      "outputs": [
        {
          "output_type": "execute_result",
          "data": {
            "text/plain": [
              "array([104559, 131009,  78579, ...,  88029,  65177,  90586])"
            ]
          },
          "metadata": {},
          "execution_count": 55
        }
      ]
    },
    {
      "cell_type": "code",
      "source": [
        "t = np.array([3,7,1,4])\n",
        "t"
      ],
      "metadata": {
        "colab": {
          "base_uri": "https://localhost:8080/"
        },
        "id": "PTPPy2Y_uC1S",
        "outputId": "332f3ca5-c1a0-42f7-e9eb-60088b22b9bb"
      },
      "execution_count": null,
      "outputs": [
        {
          "output_type": "execute_result",
          "data": {
            "text/plain": [
              "array([3, 7, 1, 4])"
            ]
          },
          "metadata": {},
          "execution_count": 52
        }
      ]
    },
    {
      "cell_type": "code",
      "source": [],
      "metadata": {
        "id": "_pMocpOivMa6"
      },
      "execution_count": null,
      "outputs": []
    }
  ]
}